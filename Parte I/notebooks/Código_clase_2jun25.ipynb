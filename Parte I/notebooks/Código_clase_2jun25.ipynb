{
  "cells": [
    {
      "cell_type": "code",
      "execution_count": null,
      "metadata": {
        "id": "ZhLtmQrzyt_y"
      },
      "outputs": [],
      "source": []
    },
    {
      "cell_type": "markdown",
      "metadata": {
        "id": "91b_tt6HLQNp"
      },
      "source": [
        "El preprocesamiento de los datos para que estén listo para su modelación incluye los siguientes pasos:\n",
        "\n",
        "\n",
        "\n",
        "1.   Importación de las bases.\n",
        "2.   Exploración preliminar de la información.\n",
        "3.   Tratamiento de datos faltantes.\n",
        "4.   Análisis univariado de la respuesta y análisis bivariado respecto a los predictores.\n",
        "5.   Ingeniería y transformación de variables.\n",
        "6.   Eliminación de algunas variables predictoras.\n",
        "7.   Análisis de datos atípicos.\n",
        "8.   Generación de conjunto de entrenamiento y validación\n",
        "\n",
        "Veamos a continuación cómo se realizan estos pasos a los datos del titanic empleado diversas librerías de python.\n",
        "\n"
      ]
    },
    {
      "cell_type": "markdown",
      "metadata": {
        "id": "ZaRAAi6q4LAX"
      },
      "source": [
        "## 1) Importación de los datos"
      ]
    },
    {
      "cell_type": "markdown",
      "metadata": {
        "id": "8IXkZYJk4bPd"
      },
      "source": [
        "Para importar los datos se tiene primero que descargar de la página de kaggle, previamente un registro como usuario.\n",
        "\n",
        "Los datos se tienen que guarda en la carpeta de \"Colab Notebooks\".\n",
        "\n",
        "\n",
        "\n",
        "\n",
        "Para poder acceder a los datos es necesario primero montar el drive en google colab, para lo cual se corre el siguiente código:"
      ]
    },
    {
      "cell_type": "code",
      "execution_count": null,
      "metadata": {
        "colab": {
          "base_uri": "https://localhost:8080/"
        },
        "id": "7BFAi04A515j",
        "outputId": "c0457ad3-d15d-475a-eace-3e173df90778"
      },
      "outputs": [
        {
          "name": "stdout",
          "output_type": "stream",
          "text": [
            "Mounted at /content/drive/\n"
          ]
        }
      ],
      "source": [
        "from google.colab import drive\n",
        "drive.mount('/content/drive/',force_remount=True)"
      ]
    },
    {
      "cell_type": "markdown",
      "metadata": {
        "id": "7Djzfxy16bWh"
      },
      "source": [
        "Una vez hecha la conexión se busca importar la información. Para esto se usa la biblioteca de **pandas** la cual permite trabajar con marcos de datos:\n",
        "\n",
        "Un **marco de datos**, también conocido como base de datos, es un *conjunto de datos organizado en renglones y columnas* de tal manera que ***cada columna*** corresponde a una variable o característica de interés registrada para cada elemento observado y ***cada renglón*** contiene información de las diferentes variables sobre cada uno de los elementos o unidades.\n",
        "\n",
        "Las columnas o variables pueden ser de diferentes tipos; sin embargo, ***todos los elementos de una misma columna deben tener el mismo tipo***, ya sea numérico, lógico o de caracteres."
      ]
    },
    {
      "cell_type": "code",
      "execution_count": 1,
      "metadata": {
        "id": "HARJnynP3LQ0"
      },
      "outputs": [],
      "source": [
        "#Se carga la librería pandas y numpy\n",
        "import pandas as pd\n",
        "import numpy as np"
      ]
    },
    {
      "cell_type": "markdown",
      "metadata": {
        "id": "Kn7eV7Dy67gB"
      },
      "source": [
        "Se usa la función `read_csv()` del paquete **pandas** para cargar los datos.\n",
        "\n"
      ]
    },
    {
      "cell_type": "code",
      "execution_count": 4,
      "metadata": {
        "id": "KIeBbTht5qz7"
      },
      "outputs": [],
      "source": [
        "#Se guarda en la dirección donde está alojado el archivo en un objeto tipo caracter\n",
        "# datos_titanic = \"/content/drive/MyDrive/Colab Notebooks/Datos titanic/train.csv\"\n",
        "datos_titanic = \"titanic.csv\"\n",
        "\n",
        "df_titanic = pd.read_csv(datos_titanic)"
      ]
    },
    {
      "cell_type": "markdown",
      "metadata": {
        "id": "xGbQTKuuDwPl"
      },
      "source": [
        "Puedo ***visualizar*** el marco de los datos si pongo en una celda el nombre del objeto que contiene el data.frame"
      ]
    },
    {
      "cell_type": "code",
      "execution_count": 5,
      "metadata": {
        "colab": {
          "base_uri": "https://localhost:8080/",
          "height": 423
        },
        "id": "QCkiJnPsD3-t",
        "outputId": "6f031a4f-42b5-49e9-f77a-eae09897af0c"
      },
      "outputs": [
        {
          "data": {
            "text/html": [
              "<div>\n",
              "<style scoped>\n",
              "    .dataframe tbody tr th:only-of-type {\n",
              "        vertical-align: middle;\n",
              "    }\n",
              "\n",
              "    .dataframe tbody tr th {\n",
              "        vertical-align: top;\n",
              "    }\n",
              "\n",
              "    .dataframe thead th {\n",
              "        text-align: right;\n",
              "    }\n",
              "</style>\n",
              "<table border=\"1\" class=\"dataframe\">\n",
              "  <thead>\n",
              "    <tr style=\"text-align: right;\">\n",
              "      <th></th>\n",
              "      <th>PassengerId</th>\n",
              "      <th>Survived</th>\n",
              "      <th>Pclass</th>\n",
              "      <th>Name</th>\n",
              "      <th>Sex</th>\n",
              "      <th>Age</th>\n",
              "      <th>SibSp</th>\n",
              "      <th>Parch</th>\n",
              "      <th>Ticket</th>\n",
              "      <th>Fare</th>\n",
              "      <th>Cabin</th>\n",
              "      <th>Embarked</th>\n",
              "    </tr>\n",
              "  </thead>\n",
              "  <tbody>\n",
              "    <tr>\n",
              "      <th>0</th>\n",
              "      <td>1</td>\n",
              "      <td>0</td>\n",
              "      <td>3</td>\n",
              "      <td>Braund, Mr. Owen Harris</td>\n",
              "      <td>male</td>\n",
              "      <td>22.0</td>\n",
              "      <td>1</td>\n",
              "      <td>0</td>\n",
              "      <td>A/5 21171</td>\n",
              "      <td>7.2500</td>\n",
              "      <td>NaN</td>\n",
              "      <td>S</td>\n",
              "    </tr>\n",
              "    <tr>\n",
              "      <th>1</th>\n",
              "      <td>2</td>\n",
              "      <td>1</td>\n",
              "      <td>1</td>\n",
              "      <td>Cumings, Mrs. John Bradley (Florence Briggs Th...</td>\n",
              "      <td>female</td>\n",
              "      <td>38.0</td>\n",
              "      <td>1</td>\n",
              "      <td>0</td>\n",
              "      <td>PC 17599</td>\n",
              "      <td>71.2833</td>\n",
              "      <td>C85</td>\n",
              "      <td>C</td>\n",
              "    </tr>\n",
              "    <tr>\n",
              "      <th>2</th>\n",
              "      <td>3</td>\n",
              "      <td>1</td>\n",
              "      <td>3</td>\n",
              "      <td>Heikkinen, Miss. Laina</td>\n",
              "      <td>female</td>\n",
              "      <td>26.0</td>\n",
              "      <td>0</td>\n",
              "      <td>0</td>\n",
              "      <td>STON/O2. 3101282</td>\n",
              "      <td>7.9250</td>\n",
              "      <td>NaN</td>\n",
              "      <td>S</td>\n",
              "    </tr>\n",
              "    <tr>\n",
              "      <th>3</th>\n",
              "      <td>4</td>\n",
              "      <td>1</td>\n",
              "      <td>1</td>\n",
              "      <td>Futrelle, Mrs. Jacques Heath (Lily May Peel)</td>\n",
              "      <td>female</td>\n",
              "      <td>35.0</td>\n",
              "      <td>1</td>\n",
              "      <td>0</td>\n",
              "      <td>113803</td>\n",
              "      <td>53.1000</td>\n",
              "      <td>C123</td>\n",
              "      <td>S</td>\n",
              "    </tr>\n",
              "    <tr>\n",
              "      <th>4</th>\n",
              "      <td>5</td>\n",
              "      <td>0</td>\n",
              "      <td>3</td>\n",
              "      <td>Allen, Mr. William Henry</td>\n",
              "      <td>male</td>\n",
              "      <td>35.0</td>\n",
              "      <td>0</td>\n",
              "      <td>0</td>\n",
              "      <td>373450</td>\n",
              "      <td>8.0500</td>\n",
              "      <td>NaN</td>\n",
              "      <td>S</td>\n",
              "    </tr>\n",
              "    <tr>\n",
              "      <th>...</th>\n",
              "      <td>...</td>\n",
              "      <td>...</td>\n",
              "      <td>...</td>\n",
              "      <td>...</td>\n",
              "      <td>...</td>\n",
              "      <td>...</td>\n",
              "      <td>...</td>\n",
              "      <td>...</td>\n",
              "      <td>...</td>\n",
              "      <td>...</td>\n",
              "      <td>...</td>\n",
              "      <td>...</td>\n",
              "    </tr>\n",
              "    <tr>\n",
              "      <th>886</th>\n",
              "      <td>887</td>\n",
              "      <td>0</td>\n",
              "      <td>2</td>\n",
              "      <td>Montvila, Rev. Juozas</td>\n",
              "      <td>male</td>\n",
              "      <td>27.0</td>\n",
              "      <td>0</td>\n",
              "      <td>0</td>\n",
              "      <td>211536</td>\n",
              "      <td>13.0000</td>\n",
              "      <td>NaN</td>\n",
              "      <td>S</td>\n",
              "    </tr>\n",
              "    <tr>\n",
              "      <th>887</th>\n",
              "      <td>888</td>\n",
              "      <td>1</td>\n",
              "      <td>1</td>\n",
              "      <td>Graham, Miss. Margaret Edith</td>\n",
              "      <td>female</td>\n",
              "      <td>19.0</td>\n",
              "      <td>0</td>\n",
              "      <td>0</td>\n",
              "      <td>112053</td>\n",
              "      <td>30.0000</td>\n",
              "      <td>B42</td>\n",
              "      <td>S</td>\n",
              "    </tr>\n",
              "    <tr>\n",
              "      <th>888</th>\n",
              "      <td>889</td>\n",
              "      <td>0</td>\n",
              "      <td>3</td>\n",
              "      <td>Johnston, Miss. Catherine Helen \"Carrie\"</td>\n",
              "      <td>female</td>\n",
              "      <td>NaN</td>\n",
              "      <td>1</td>\n",
              "      <td>2</td>\n",
              "      <td>W./C. 6607</td>\n",
              "      <td>23.4500</td>\n",
              "      <td>NaN</td>\n",
              "      <td>S</td>\n",
              "    </tr>\n",
              "    <tr>\n",
              "      <th>889</th>\n",
              "      <td>890</td>\n",
              "      <td>1</td>\n",
              "      <td>1</td>\n",
              "      <td>Behr, Mr. Karl Howell</td>\n",
              "      <td>male</td>\n",
              "      <td>26.0</td>\n",
              "      <td>0</td>\n",
              "      <td>0</td>\n",
              "      <td>111369</td>\n",
              "      <td>30.0000</td>\n",
              "      <td>C148</td>\n",
              "      <td>C</td>\n",
              "    </tr>\n",
              "    <tr>\n",
              "      <th>890</th>\n",
              "      <td>891</td>\n",
              "      <td>0</td>\n",
              "      <td>3</td>\n",
              "      <td>Dooley, Mr. Patrick</td>\n",
              "      <td>male</td>\n",
              "      <td>32.0</td>\n",
              "      <td>0</td>\n",
              "      <td>0</td>\n",
              "      <td>370376</td>\n",
              "      <td>7.7500</td>\n",
              "      <td>NaN</td>\n",
              "      <td>Q</td>\n",
              "    </tr>\n",
              "  </tbody>\n",
              "</table>\n",
              "<p>891 rows × 12 columns</p>\n",
              "</div>"
            ],
            "text/plain": [
              "     PassengerId  Survived  Pclass  \\\n",
              "0              1         0       3   \n",
              "1              2         1       1   \n",
              "2              3         1       3   \n",
              "3              4         1       1   \n",
              "4              5         0       3   \n",
              "..           ...       ...     ...   \n",
              "886          887         0       2   \n",
              "887          888         1       1   \n",
              "888          889         0       3   \n",
              "889          890         1       1   \n",
              "890          891         0       3   \n",
              "\n",
              "                                                  Name     Sex   Age  SibSp  \\\n",
              "0                              Braund, Mr. Owen Harris    male  22.0      1   \n",
              "1    Cumings, Mrs. John Bradley (Florence Briggs Th...  female  38.0      1   \n",
              "2                               Heikkinen, Miss. Laina  female  26.0      0   \n",
              "3         Futrelle, Mrs. Jacques Heath (Lily May Peel)  female  35.0      1   \n",
              "4                             Allen, Mr. William Henry    male  35.0      0   \n",
              "..                                                 ...     ...   ...    ...   \n",
              "886                              Montvila, Rev. Juozas    male  27.0      0   \n",
              "887                       Graham, Miss. Margaret Edith  female  19.0      0   \n",
              "888           Johnston, Miss. Catherine Helen \"Carrie\"  female   NaN      1   \n",
              "889                              Behr, Mr. Karl Howell    male  26.0      0   \n",
              "890                                Dooley, Mr. Patrick    male  32.0      0   \n",
              "\n",
              "     Parch            Ticket     Fare Cabin Embarked  \n",
              "0        0         A/5 21171   7.2500   NaN        S  \n",
              "1        0          PC 17599  71.2833   C85        C  \n",
              "2        0  STON/O2. 3101282   7.9250   NaN        S  \n",
              "3        0            113803  53.1000  C123        S  \n",
              "4        0            373450   8.0500   NaN        S  \n",
              "..     ...               ...      ...   ...      ...  \n",
              "886      0            211536  13.0000   NaN        S  \n",
              "887      0            112053  30.0000   B42        S  \n",
              "888      2        W./C. 6607  23.4500   NaN        S  \n",
              "889      0            111369  30.0000  C148        C  \n",
              "890      0            370376   7.7500   NaN        Q  \n",
              "\n",
              "[891 rows x 12 columns]"
            ]
          },
          "execution_count": 5,
          "metadata": {},
          "output_type": "execute_result"
        }
      ],
      "source": [
        "df_titanic"
      ]
    },
    {
      "cell_type": "markdown",
      "metadata": {
        "id": "opj1AUUYFNfM"
      },
      "source": [
        "## 2) Exploración preliminar de la información"
      ]
    },
    {
      "cell_type": "markdown",
      "metadata": {
        "id": "FbCH1BG-MKVo"
      },
      "source": [
        "Una vez cargados lo datos es necesario hacer una ***inspección inicial*** para conocer ***características de la base*** como por ejemplo el **número de columnas**, **tipos de campos**, **registros con datos faltantes**, y obtener algunos **estadísticos básicos**  para de las *variables continuas* como **media, mediana, moda, mínimo, máximo,** y para *variables discretas:* **frecuencias relativas**.\n",
        "\n",
        "Esta información será un **punto de partida** para el tratamiento posterior, ya que nos dará un panorama general de la estructura de los datos.\n",
        "\n",
        "\n"
      ]
    },
    {
      "cell_type": "markdown",
      "metadata": {
        "id": "10Ai1_vEFT_9"
      },
      "source": [
        "Para saber **cuántas filas y columnas** se puede usar el atributo `shape`"
      ]
    },
    {
      "cell_type": "code",
      "execution_count": 6,
      "metadata": {
        "colab": {
          "base_uri": "https://localhost:8080/"
        },
        "id": "sNub9PYZFeIp",
        "outputId": "72037000-1b49-4f8e-d22d-28907c91afd7"
      },
      "outputs": [
        {
          "data": {
            "text/plain": [
              "(891, 12)"
            ]
          },
          "execution_count": 6,
          "metadata": {},
          "output_type": "execute_result"
        }
      ],
      "source": [
        "df_titanic.shape"
      ]
    },
    {
      "cell_type": "markdown",
      "metadata": {
        "id": "hH2rLZanGlLm"
      },
      "source": [
        "Se tiene un dataframe de 891 filas y 12 columas"
      ]
    },
    {
      "cell_type": "markdown",
      "metadata": {
        "id": "aolHgsYfGpLo"
      },
      "source": [
        "Para conocer el **nombre de las columnas** se puede listar el atributo `columns`"
      ]
    },
    {
      "cell_type": "code",
      "execution_count": 7,
      "metadata": {
        "colab": {
          "base_uri": "https://localhost:8080/"
        },
        "id": "VKRwpVkbGzKP",
        "outputId": "6a413548-8b86-4d17-87d8-b3e906273609"
      },
      "outputs": [
        {
          "data": {
            "text/plain": [
              "Index(['PassengerId', 'Survived', 'Pclass', 'Name', 'Sex', 'Age', 'SibSp',\n",
              "       'Parch', 'Ticket', 'Fare', 'Cabin', 'Embarked'],\n",
              "      dtype='object')"
            ]
          },
          "execution_count": 7,
          "metadata": {},
          "output_type": "execute_result"
        }
      ],
      "source": [
        "df_titanic.columns"
      ]
    },
    {
      "cell_type": "markdown",
      "metadata": {
        "id": "QBQSBn8HIxW-"
      },
      "source": [
        "La información anterior se puede también obtener directamente del método `info()`"
      ]
    },
    {
      "cell_type": "code",
      "execution_count": 8,
      "metadata": {
        "colab": {
          "base_uri": "https://localhost:8080/"
        },
        "id": "59hvpNQlIh-b",
        "outputId": "e97b3497-8861-4fc3-d33d-d71e738be49c"
      },
      "outputs": [
        {
          "name": "stdout",
          "output_type": "stream",
          "text": [
            "<class 'pandas.core.frame.DataFrame'>\n",
            "RangeIndex: 891 entries, 0 to 890\n",
            "Data columns (total 12 columns):\n",
            " #   Column       Non-Null Count  Dtype  \n",
            "---  ------       --------------  -----  \n",
            " 0   PassengerId  891 non-null    int64  \n",
            " 1   Survived     891 non-null    int64  \n",
            " 2   Pclass       891 non-null    int64  \n",
            " 3   Name         891 non-null    object \n",
            " 4   Sex          891 non-null    object \n",
            " 5   Age          714 non-null    float64\n",
            " 6   SibSp        891 non-null    int64  \n",
            " 7   Parch        891 non-null    int64  \n",
            " 8   Ticket       891 non-null    object \n",
            " 9   Fare         891 non-null    float64\n",
            " 10  Cabin        204 non-null    object \n",
            " 11  Embarked     889 non-null    object \n",
            "dtypes: float64(2), int64(5), object(5)\n",
            "memory usage: 83.7+ KB\n"
          ]
        }
      ],
      "source": [
        "df_titanic.info()"
      ]
    },
    {
      "cell_type": "markdown",
      "metadata": {
        "id": "m7sXTvr6N4_T"
      },
      "source": [
        "Para obtener **estadísticas descriptivas**, se usa el método `describe()`.\n",
        "\n",
        "Las e**stadísticas descriptivas** incluyen las que resumen la tendencia central, la dispersión y la forma de la distribución de un conjunto de datos, excluyendo los valores NaN."
      ]
    },
    {
      "cell_type": "code",
      "execution_count": 9,
      "metadata": {
        "colab": {
          "base_uri": "https://localhost:8080/",
          "height": 300
        },
        "id": "BYAtDjCsNdX7",
        "outputId": "b3c09941-a1f5-4722-98f3-ebe248d063f9"
      },
      "outputs": [
        {
          "data": {
            "text/html": [
              "<div>\n",
              "<style scoped>\n",
              "    .dataframe tbody tr th:only-of-type {\n",
              "        vertical-align: middle;\n",
              "    }\n",
              "\n",
              "    .dataframe tbody tr th {\n",
              "        vertical-align: top;\n",
              "    }\n",
              "\n",
              "    .dataframe thead th {\n",
              "        text-align: right;\n",
              "    }\n",
              "</style>\n",
              "<table border=\"1\" class=\"dataframe\">\n",
              "  <thead>\n",
              "    <tr style=\"text-align: right;\">\n",
              "      <th></th>\n",
              "      <th>PassengerId</th>\n",
              "      <th>Survived</th>\n",
              "      <th>Pclass</th>\n",
              "      <th>Age</th>\n",
              "      <th>SibSp</th>\n",
              "      <th>Parch</th>\n",
              "      <th>Fare</th>\n",
              "    </tr>\n",
              "  </thead>\n",
              "  <tbody>\n",
              "    <tr>\n",
              "      <th>count</th>\n",
              "      <td>891.000000</td>\n",
              "      <td>891.000000</td>\n",
              "      <td>891.000000</td>\n",
              "      <td>714.000000</td>\n",
              "      <td>891.000000</td>\n",
              "      <td>891.000000</td>\n",
              "      <td>891.000000</td>\n",
              "    </tr>\n",
              "    <tr>\n",
              "      <th>mean</th>\n",
              "      <td>446.000000</td>\n",
              "      <td>0.383838</td>\n",
              "      <td>2.308642</td>\n",
              "      <td>29.699118</td>\n",
              "      <td>0.523008</td>\n",
              "      <td>0.381594</td>\n",
              "      <td>32.204208</td>\n",
              "    </tr>\n",
              "    <tr>\n",
              "      <th>std</th>\n",
              "      <td>257.353842</td>\n",
              "      <td>0.486592</td>\n",
              "      <td>0.836071</td>\n",
              "      <td>14.526497</td>\n",
              "      <td>1.102743</td>\n",
              "      <td>0.806057</td>\n",
              "      <td>49.693429</td>\n",
              "    </tr>\n",
              "    <tr>\n",
              "      <th>min</th>\n",
              "      <td>1.000000</td>\n",
              "      <td>0.000000</td>\n",
              "      <td>1.000000</td>\n",
              "      <td>0.420000</td>\n",
              "      <td>0.000000</td>\n",
              "      <td>0.000000</td>\n",
              "      <td>0.000000</td>\n",
              "    </tr>\n",
              "    <tr>\n",
              "      <th>25%</th>\n",
              "      <td>223.500000</td>\n",
              "      <td>0.000000</td>\n",
              "      <td>2.000000</td>\n",
              "      <td>20.125000</td>\n",
              "      <td>0.000000</td>\n",
              "      <td>0.000000</td>\n",
              "      <td>7.910400</td>\n",
              "    </tr>\n",
              "    <tr>\n",
              "      <th>50%</th>\n",
              "      <td>446.000000</td>\n",
              "      <td>0.000000</td>\n",
              "      <td>3.000000</td>\n",
              "      <td>28.000000</td>\n",
              "      <td>0.000000</td>\n",
              "      <td>0.000000</td>\n",
              "      <td>14.454200</td>\n",
              "    </tr>\n",
              "    <tr>\n",
              "      <th>75%</th>\n",
              "      <td>668.500000</td>\n",
              "      <td>1.000000</td>\n",
              "      <td>3.000000</td>\n",
              "      <td>38.000000</td>\n",
              "      <td>1.000000</td>\n",
              "      <td>0.000000</td>\n",
              "      <td>31.000000</td>\n",
              "    </tr>\n",
              "    <tr>\n",
              "      <th>max</th>\n",
              "      <td>891.000000</td>\n",
              "      <td>1.000000</td>\n",
              "      <td>3.000000</td>\n",
              "      <td>80.000000</td>\n",
              "      <td>8.000000</td>\n",
              "      <td>6.000000</td>\n",
              "      <td>512.329200</td>\n",
              "    </tr>\n",
              "  </tbody>\n",
              "</table>\n",
              "</div>"
            ],
            "text/plain": [
              "       PassengerId    Survived      Pclass         Age       SibSp  \\\n",
              "count   891.000000  891.000000  891.000000  714.000000  891.000000   \n",
              "mean    446.000000    0.383838    2.308642   29.699118    0.523008   \n",
              "std     257.353842    0.486592    0.836071   14.526497    1.102743   \n",
              "min       1.000000    0.000000    1.000000    0.420000    0.000000   \n",
              "25%     223.500000    0.000000    2.000000   20.125000    0.000000   \n",
              "50%     446.000000    0.000000    3.000000   28.000000    0.000000   \n",
              "75%     668.500000    1.000000    3.000000   38.000000    1.000000   \n",
              "max     891.000000    1.000000    3.000000   80.000000    8.000000   \n",
              "\n",
              "            Parch        Fare  \n",
              "count  891.000000  891.000000  \n",
              "mean     0.381594   32.204208  \n",
              "std      0.806057   49.693429  \n",
              "min      0.000000    0.000000  \n",
              "25%      0.000000    7.910400  \n",
              "50%      0.000000   14.454200  \n",
              "75%      0.000000   31.000000  \n",
              "max      6.000000  512.329200  "
            ]
          },
          "execution_count": 9,
          "metadata": {},
          "output_type": "execute_result"
        }
      ],
      "source": [
        "df_titanic.describe()"
      ]
    },
    {
      "cell_type": "code",
      "execution_count": 10,
      "metadata": {
        "colab": {
          "base_uri": "https://localhost:8080/"
        },
        "id": "OsxCf3lHnTqh",
        "outputId": "e4706c7c-80aa-4f26-d45e-99754c307805"
      },
      "outputs": [
        {
          "name": "stdout",
          "output_type": "stream",
          "text": [
            "   Variable  Valores Únicos\n",
            "0      Name             891\n",
            "1       Sex               2\n",
            "2    Ticket             681\n",
            "3     Cabin             147\n",
            "4  Embarked               3\n"
          ]
        }
      ],
      "source": [
        "# Seleccionar columnas de tipo 'object'\n",
        "df_columnas_object = df_titanic.select_dtypes(include='object')\n",
        "\n",
        "# Obtener el número de valores únicos para cada columna tipo object\n",
        "df_resumen = df_columnas_object.nunique().reset_index()\n",
        "df_resumen.columns = ['Variable', 'Valores Únicos']\n",
        "\n",
        "# Mostrar el resumen\n",
        "print(df_resumen)"
      ]
    },
    {
      "cell_type": "markdown",
      "metadata": {
        "id": "rv3mHs8qPBZT"
      },
      "source": [
        "En este punto es importante identificar si existen variables que **no dan información** para la generación de los modelos de predicción, l**as cuales deben ser removidas** antes de continuar el análisis de los datos, ya que evitan análisis y tiempo de computo innecesarios.\n",
        "\n",
        " Este tipo de variables se conoce como **no informativas**, y generalmente son campos para los cuales resulta evidente su nula relación con la variable de respuesta.\n",
        "\n",
        "  Como ejemplo se tiene algún campo relacionado con **“llaves”** para el manejo de bases de datos, o algún identificador de los registros de la base.\n",
        "\n",
        "\n",
        "\n",
        "---\n",
        "Con el método drop podemos especificar filas o columnas a eliminar.\n"
      ]
    },
    {
      "cell_type": "code",
      "execution_count": 11,
      "metadata": {
        "colab": {
          "base_uri": "https://localhost:8080/"
        },
        "id": "7CPzA9x2PCJK",
        "outputId": "1a6b7d8c-e37f-40ac-e22a-0fce7aeffef1"
      },
      "outputs": [
        {
          "name": "stdout",
          "output_type": "stream",
          "text": [
            "(891, 12)\n",
            "(891, 11)\n"
          ]
        }
      ],
      "source": [
        "print(df_titanic.shape)\n",
        "df_titanic.drop(['PassengerId'], axis = 'columns', inplace=True)\n",
        "print(df_titanic.shape)"
      ]
    },
    {
      "cell_type": "markdown",
      "metadata": {
        "id": "5MZzTSMs0TJ1"
      },
      "source": [
        "## 3) Ingeniería de variables"
      ]
    },
    {
      "cell_type": "markdown",
      "metadata": {
        "id": "LuxqWY8T0c3U"
      },
      "source": [
        "Una de las variables que se pueden generar es el del título de tratamiento de cortesía, el cual se puede obtener de la variable **Name**, a través del siguiente código:"
      ]
    },
    {
      "cell_type": "code",
      "execution_count": 12,
      "metadata": {
        "colab": {
          "base_uri": "https://localhost:8080/"
        },
        "id": "4sAEu6znwryh",
        "outputId": "e075d764-cffd-4d30-a91a-0cf52a7b3097"
      },
      "outputs": [
        {
          "name": "stdout",
          "output_type": "stream",
          "text": [
            "Title\n",
            "Mr              517\n",
            "Miss            182\n",
            "Mrs             125\n",
            "Master           40\n",
            "Dr                7\n",
            "Rev               6\n",
            "Mlle              2\n",
            "Major             2\n",
            "Col               2\n",
            "the Countess      1\n",
            "Capt              1\n",
            "Ms                1\n",
            "Sir               1\n",
            "Lady              1\n",
            "Mme               1\n",
            "Don               1\n",
            "Jonkheer          1\n",
            "Name: count, dtype: int64\n",
            "Resultado de generar variable con 5 niveles:\n",
            "Title\n",
            "Mr            517\n",
            "Miss          182\n",
            "Mrs           125\n",
            "Master         40\n",
            "Rare Title     27\n",
            "Name: count, dtype: int64\n"
          ]
        }
      ],
      "source": [
        "#Extrae todos los titulos que tienen un Mr., Mrs. Miss.\n",
        "df_titanic['Title'] = df_titanic['Name'].str.extract(r',\\s*([^\\.]*)\\s*\\.', expand=False)\n",
        "\n",
        "# Quita espacios antes y después\n",
        "df_titanic['Title'] = df_titanic['Title'].str.strip()\n",
        "\n",
        "#Para mostrar los casos\n",
        "Conteo_Title = df_titanic['Title'].value_counts()\n",
        "print(Conteo_Title)\n",
        "\n",
        "# Se crea una función para generar solamente 5 niveles\n",
        "def map_titles(title):\n",
        "    if title in ['Mr', 'Mrs', 'Miss', 'Master']:\n",
        "        return title\n",
        "    else:\n",
        "        return 'Rare Title'\n",
        "\n",
        "# Se aplica la función\n",
        "df_titanic['Title'] = df_titanic['Title'].apply(map_titles)\n",
        "\n",
        "#Se muestra el resultado\n",
        "print(\"Resultado de generar variable con 5 niveles:\")\n",
        "print(df_titanic['Title'].value_counts())"
      ]
    },
    {
      "cell_type": "markdown",
      "metadata": {
        "id": "tFtziT11VyJu"
      },
      "source": [
        "Para revisar cúales son las columna que tienen datos faltantes se pueden usar dos métodos concatenados `dataframe.isnull().sum()`. Aunque previamente la variable ya se habia visto con describe(), cuantos no nulos tenía cada variable."
      ]
    },
    {
      "cell_type": "markdown",
      "metadata": {
        "id": "hzx91JWL0ZtI"
      },
      "source": [
        "Una vez extraido el titulo e tratamiento de cortesíala variable **Name**, es recomendable eliminarla, pues tiene tantos niveles como nombres diferentes. ***Variables categóricas con muchos niveles***, resultan en problemas al momento de estimar modelos de aprendizaje estadístico."
      ]
    },
    {
      "cell_type": "code",
      "execution_count": 13,
      "metadata": {
        "colab": {
          "base_uri": "https://localhost:8080/"
        },
        "id": "TaLDgVhe0V9y",
        "outputId": "bb9ca613-adfb-4e05-ccfd-3462782f773d"
      },
      "outputs": [
        {
          "name": "stdout",
          "output_type": "stream",
          "text": [
            "(891, 12)\n"
          ]
        },
        {
          "data": {
            "text/plain": [
              "(891, 11)"
            ]
          },
          "execution_count": 13,
          "metadata": {},
          "output_type": "execute_result"
        }
      ],
      "source": [
        "print(df_titanic.shape)\n",
        "df_titanic.drop(['Name'], axis = 'columns', inplace=True)\n",
        "df_titanic.shape"
      ]
    },
    {
      "cell_type": "markdown",
      "metadata": {
        "id": "JhIiHZb_vIlx"
      },
      "source": [
        "Además, ya hemos observado que la variable **Ticket** tiene algunas entradas duplicadas. Algunos pasajeros comparten el número de billete porque están juntos. Pueden tener una relación con un empleado o un servicio, como una asistenta o una niñera, o pueden ser amigos íntimos.\n",
        "\n",
        "Podemos extraer información implícita de los valores duplicados en la variable **Ticket**  y crear una nueva variable para describirla. Aquí diseñamos la nueva variable \"Companions\" que describe el número de acompañantes o compañeros de viaje de cada individuo."
      ]
    },
    {
      "cell_type": "code",
      "execution_count": 14,
      "metadata": {
        "colab": {
          "base_uri": "https://localhost:8080/",
          "height": 335
        },
        "id": "lJZK0hC7vH9s",
        "outputId": "264fb2ab-b971-44cf-e0df-2a4ccaebc58b"
      },
      "outputs": [
        {
          "data": {
            "text/plain": [
              "Companions\n",
              "0    547\n",
              "1    188\n",
              "2     63\n",
              "3     44\n",
              "6     21\n",
              "5     18\n",
              "4     10\n",
              "Name: count, dtype: int64"
            ]
          },
          "execution_count": 14,
          "metadata": {},
          "output_type": "execute_result"
        }
      ],
      "source": [
        "# Crear una nueva columna 'Companions'\n",
        "df_titanic['Companions'] = df_titanic.groupby('Ticket')['Ticket'].transform('count')\n",
        "df_titanic['Companions']=df_titanic['Companions']-1\n",
        "\n",
        "# Mostrar la distribución del número de acompañantes\n",
        "df_titanic['Companions'].value_counts()"
      ]
    },
    {
      "cell_type": "code",
      "execution_count": 15,
      "metadata": {
        "id": "h76HKl2xpUqp"
      },
      "outputs": [],
      "source": [
        "df_titanic['Companions']=df_titanic['Companions']-1"
      ]
    },
    {
      "cell_type": "markdown",
      "metadata": {
        "id": "SBneEIOhz_zw"
      },
      "source": [
        "Una vez extraido el número de acompañantes de la variable **Ticket**, es recomendable eliminarla, pues tiene muchjos diferentes niveles"
      ]
    },
    {
      "cell_type": "code",
      "execution_count": 16,
      "metadata": {
        "colab": {
          "base_uri": "https://localhost:8080/"
        },
        "id": "r2zm3O6c0KHJ",
        "outputId": "004b7b58-d8ea-416e-8776-d206ac602f5d"
      },
      "outputs": [
        {
          "name": "stdout",
          "output_type": "stream",
          "text": [
            "(891, 12)\n"
          ]
        },
        {
          "data": {
            "text/plain": [
              "(891, 11)"
            ]
          },
          "execution_count": 16,
          "metadata": {},
          "output_type": "execute_result"
        }
      ],
      "source": [
        "print(df_titanic.shape)\n",
        "df_titanic.drop(['Ticket'], axis = 'columns', inplace=True)\n",
        "df_titanic.shape"
      ]
    },
    {
      "cell_type": "markdown",
      "metadata": {
        "id": "iDqfOqQOVaOs"
      },
      "source": [
        "## 4) Tratamiento de datos faltantes"
      ]
    },
    {
      "cell_type": "markdown",
      "metadata": {
        "id": "AP3kF4sdVfdD"
      },
      "source": [
        "Cuando se está trabajando con una base de datos es importante revisar si algunas **variables explicativas** tienen datos faltantes, pues esto puede afectar el ajuste de los **modelos estadísticos de aprendizaje**.\n",
        "\n",
        "Si bien es cierto que algunos modelos pueden manejar esta circunstancia (como los*** modelos de árboles de decisión y sus extensiones***), generalmente es adecuado aplicar alguna de las siguientes alternativas.\n",
        "\n",
        "(1) Si la cantidad de información es grande, y el **porcentaje de registros con datos faltantes es pequeño** (<5\\%), se puede optar por quitarlos y trabajar con el subconjunto de datos completos.\n",
        "\n",
        "(2) Sin embargo, a veces la base de datos no es tan extensa o se quiere aprovechar la información que aportan las demás variables por lo que en este caso se puede proceder a **imputar** los datos faltantes, esto es, ***rellenar los registros de los campos vacíos***."
      ]
    },
    {
      "cell_type": "code",
      "execution_count": 17,
      "metadata": {
        "colab": {
          "base_uri": "https://localhost:8080/",
          "height": 428
        },
        "id": "TbSTT5CLbK35",
        "outputId": "168b2c5e-6925-4656-9cdc-dd838d3830e2"
      },
      "outputs": [
        {
          "data": {
            "text/plain": [
              "Survived        0\n",
              "Pclass          0\n",
              "Sex             0\n",
              "Age           177\n",
              "SibSp           0\n",
              "Parch           0\n",
              "Fare            0\n",
              "Cabin         687\n",
              "Embarked        2\n",
              "Title           0\n",
              "Companions      0\n",
              "dtype: int64"
            ]
          },
          "execution_count": 17,
          "metadata": {},
          "output_type": "execute_result"
        }
      ],
      "source": [
        "df_titanic.isnull().sum()"
      ]
    },
    {
      "cell_type": "code",
      "execution_count": 18,
      "metadata": {
        "colab": {
          "base_uri": "https://localhost:8080/",
          "height": 428
        },
        "id": "-UId4f43b-_A",
        "outputId": "95199367-2b01-4045-b755-0240fc26e32d"
      },
      "outputs": [
        {
          "data": {
            "text/plain": [
              "Survived      0.000000\n",
              "Pclass        0.000000\n",
              "Sex           0.000000\n",
              "Age           0.198653\n",
              "SibSp         0.000000\n",
              "Parch         0.000000\n",
              "Fare          0.000000\n",
              "Cabin         0.771044\n",
              "Embarked      0.002245\n",
              "Title         0.000000\n",
              "Companions    0.000000\n",
              "dtype: float64"
            ]
          },
          "execution_count": 18,
          "metadata": {},
          "output_type": "execute_result"
        }
      ],
      "source": [
        "#Si lo divido entre el número total de entradas obtengo la proporción de faltantes\n",
        "df_titanic.isnull().sum()/df_titanic.shape[0]"
      ]
    },
    {
      "cell_type": "markdown",
      "metadata": {
        "id": "8k5eqooMfJfd"
      },
      "source": [
        "En el caso de la variable Cabin, se tiene una cantidad muy alta de valores ausentes 77%. Se considera que imputar estos valores introducirá más ruido al modelo que lo que puede ser útil, por lo que se decide quitar esta variable de la base."
      ]
    },
    {
      "cell_type": "code",
      "execution_count": 19,
      "metadata": {
        "colab": {
          "base_uri": "https://localhost:8080/"
        },
        "id": "fmpHIYr32yk1",
        "outputId": "7ebfc3b7-f40c-4fd0-9c00-3c2047695001"
      },
      "outputs": [
        {
          "name": "stdout",
          "output_type": "stream",
          "text": [
            "(891, 11)\n"
          ]
        },
        {
          "data": {
            "text/plain": [
              "(891, 10)"
            ]
          },
          "execution_count": 19,
          "metadata": {},
          "output_type": "execute_result"
        }
      ],
      "source": [
        "print(df_titanic.shape)\n",
        "df_titanic.drop(['Cabin'], axis = 'columns', inplace=True)\n",
        "df_titanic.shape"
      ]
    },
    {
      "cell_type": "markdown",
      "metadata": {
        "id": "b_RC7muNlSvl"
      },
      "source": [
        "Se va a usar el paquete missForest() de R. Por tal motivo se carga el paquete rpy2 que permite usar código de R en Python"
      ]
    },
    {
      "cell_type": "code",
      "execution_count": 21,
      "metadata": {
        "id": "g1LVF92G9Ffg"
      },
      "outputs": [
        {
          "name": "stderr",
          "output_type": "stream",
          "text": [
            "Error importing in API mode: ImportError(\"dlopen(/Library/Frameworks/Python.framework/Versions/3.12/lib/python3.12/site-packages/_rinterface_cffi_api.abi3.so, 0x0002): Library not loaded: /Library/Frameworks/R.framework/Versions/4.5-arm64/Resources/lib/libRblas.dylib\\n  Referenced from: <2C0ED2AB-7769-33B2-ADBF-523D13D5F794> /Library/Frameworks/Python.framework/Versions/3.12/lib/python3.12/site-packages/_rinterface_cffi_api.abi3.so\\n  Reason: tried: '/Library/Frameworks/R.framework/Versions/4.5-arm64/Resources/lib/libRblas.dylib' (no such file), '/System/Volumes/Preboot/Cryptexes/OS/Library/Frameworks/R.framework/Versions/4.5-arm64/Resources/lib/libRblas.dylib' (no such file), '/Library/Frameworks/R.framework/Versions/4.5-arm64/Resources/lib/libRblas.dylib' (no such file)\")\n",
            "Trying to import in ABI mode.\n",
            "/Library/Frameworks/Python.framework/Versions/3.12/lib/python3.12/site-packages/rpy2/rinterface/__init__.py:1185: UserWarning: Environment variable \"PWD\" redefined by R and overriding existing variable. Current: \"/\", R: \"/Users/dragonnomada/Documents/MCMAI/25p/Taller de Modelado Matemático II/Parte I/notebooks\"\n",
            "  warnings.warn(\n",
            "/Library/Frameworks/Python.framework/Versions/3.12/lib/python3.12/site-packages/rpy2/rinterface/__init__.py:1185: UserWarning: Environment variable \"XPC_SERVICE_NAME\" redefined by R and overriding existing variable. Current: \"application.com.microsoft.VSCode.109443457.109443463\", R: \"0\"\n",
            "  warnings.warn(\n",
            "/Library/Frameworks/Python.framework/Versions/3.12/lib/python3.12/site-packages/rpy2/rinterface/__init__.py:1185: UserWarning: Environment variable \"R_SESSION_TMPDIR\" redefined by R and overriding existing variable. Current: \"/var/folders/zr/py0pd6bs6gnfzg9ljbgr9v0c0000gn/T//RtmpnPbm8O\", R: \"/var/folders/zr/py0pd6bs6gnfzg9ljbgr9v0c0000gn/T//Rtmpb8h0s2\"\n",
            "  warnings.warn(\n"
          ]
        }
      ],
      "source": [
        "%load_ext rpy2.ipython"
      ]
    },
    {
      "cell_type": "markdown",
      "metadata": {
        "id": "QaCkVDUW5_IT"
      },
      "source": [
        "Una vez cargado el paquete rpy2, hay dos formas de correr R en google colab.\n",
        "\n",
        "\n",
        "1.   Usando el comando inicial %%R para posteriormente usar puro código de R en esa celda de código\n",
        "2.   Empleando %R para combinar código Python y R en una celda de puro código Python.\n",
        "\n"
      ]
    },
    {
      "cell_type": "markdown",
      "metadata": {
        "id": "PFRUXNYk8vY6"
      },
      "source": [
        "Como ejemplo del primer caso se tiene:"
      ]
    },
    {
      "cell_type": "code",
      "execution_count": 22,
      "metadata": {
        "colab": {
          "base_uri": "https://localhost:8080/"
        },
        "id": "LlPDlW8c8d0_",
        "outputId": "1690fda6-f6ad-4d7f-c31d-2fbc54b19a60"
      },
      "outputs": [
        {
          "name": "stdout",
          "output_type": "stream",
          "text": [
            "[1] \"Hola mundo\"\n",
            "[1] 112  35  59 112\n"
          ]
        }
      ],
      "source": [
        "%%R\n",
        "print(\"Hola mundo\")\n",
        "x <- c(78, 12, 23, 67)\n",
        "y <- c(34, 23, 36, 45)\n",
        "z <- x+y\n",
        "print(z)\n"
      ]
    },
    {
      "cell_type": "code",
      "execution_count": 23,
      "metadata": {
        "colab": {
          "base_uri": "https://localhost:8080/",
          "height": 497
        },
        "id": "CDH8QpF3_If2",
        "outputId": "6ec05a83-e743-4e82-b4b1-05676ecba14f"
      },
      "outputs": [
        {
          "data": {
            "image/png": "[encoded data removed]",
            "text/plain": [
              "<IPython.core.display.Image object>"
            ]
          },
          "metadata": {},
          "output_type": "display_data"
        }
      ],
      "source": [
        "%%R\n",
        "plot(x,y)"
      ]
    },
    {
      "cell_type": "markdown",
      "metadata": {
        "id": "r3HqyEpk_u_s"
      },
      "source": [
        "Como en el segundo caso se tiene:\n"
      ]
    },
    {
      "cell_type": "code",
      "execution_count": 37,
      "metadata": {
        "colab": {
          "base_uri": "https://localhost:8080/"
        },
        "id": "uuvEdnEQ_tba",
        "outputId": "be4b33e8-1988-4245-983a-b686af85133f"
      },
      "outputs": [
        {
          "name": "stdout",
          "output_type": "stream",
          "text": [
            "En python\n",
            "<class 'int'>\n",
            "[1] \"En R:\"\n",
            "[1] \"numeric\"\n",
            "[1] 10.5\n",
            "En python de nuevo:\n",
            "15\n"
          ]
        }
      ],
      "source": [
        "a = 5\n",
        "print(\"En python\")\n",
        "print(type(5))\n",
        "\n",
        "%R print(\"En R:\")\n",
        "%R print(class(x))\n",
        "%R w <- x - y\n",
        "%R print(mean(w))\n",
        "\n",
        "print(\"En python de nuevo:\")\n",
        "b=10\n",
        "c = a+b\n",
        "print(c)\n"
      ]
    },
    {
      "cell_type": "markdown",
      "metadata": {
        "id": "TYq8dRxfx1vq"
      },
      "source": [
        "Instalar paquetes en R. Recomendablecrear una carpeta en el Drive. En este caso se llamó r-lib"
      ]
    },
    {
      "cell_type": "code",
      "execution_count": 30,
      "metadata": {
        "colab": {
          "base_uri": "https://localhost:8080/"
        },
        "id": "fIOys8Oc9Ob6",
        "outputId": "878dfebb-033b-4e1e-b4ca-df18f40783a9"
      },
      "outputs": [
        {
          "name": "stdout",
          "output_type": "stream",
          "text": [
            "NULL\n"
          ]
        }
      ],
      "source": [
        "%%R\n",
        "#El código está comentado porque el paquete ya está instalado\n",
        "#lib_loc <- \"/content/drive/MyDrive/r-lib\"\n",
        "#install.packages(\"missForest\", lib = lib_loc)"
      ]
    },
    {
      "cell_type": "markdown",
      "metadata": {
        "id": "jbjLcQkNytv9"
      },
      "source": [
        "Para cargar paqueterías hay que especificar la dirección donde están guardadas:"
      ]
    },
    {
      "cell_type": "code",
      "execution_count": 42,
      "metadata": {
        "id": "ob4NqdmZ-eEq"
      },
      "outputs": [
        {
          "name": "stdout",
          "output_type": "stream",
          "text": [
            "\n",
            "The downloaded binary packages are in\n",
            "\t/var/folders/zr/py0pd6bs6gnfzg9ljbgr9v0c0000gn/T//RtmpGR7fNx/downloaded_packages\n"
          ]
        },
        {
          "data": {
            "text/plain": [
              "also installing the dependencies ‘rngtools’, ‘foreach’, ‘itertools’, ‘iterators’, ‘doRNG’\n",
              "\n",
              "probando la URL 'https://cloud.r-project.org/bin/macosx/big-sur-arm64/contrib/4.4/rngtools_1.5.2.tgz'\n",
              "Content type 'application/x-gzip' length 78336 bytes (76 KB)\n",
              "==================================================\n",
              "downloaded 76 KB\n",
              "\n",
              "probando la URL 'https://cloud.r-project.org/bin/macosx/big-sur-arm64/contrib/4.4/foreach_1.5.2.tgz'\n",
              "Content type 'application/x-gzip' length 140048 bytes (136 KB)\n",
              "==================================================\n",
              "downloaded 136 KB\n",
              "\n",
              "probando la URL 'https://cloud.r-project.org/bin/macosx/big-sur-arm64/contrib/4.4/itertools_0.1-3.tgz'\n",
              "Content type 'application/x-gzip' length 112503 bytes (109 KB)\n",
              "==================================================\n",
              "downloaded 109 KB\n",
              "\n",
              "probando la URL 'https://cloud.r-project.org/bin/macosx/big-sur-arm64/contrib/4.4/iterators_1.0.14.tgz'\n",
              "Content type 'application/x-gzip' length 346993 bytes (338 KB)\n",
              "==================================================\n",
              "downloaded 338 KB\n",
              "\n",
              "probando la URL 'https://cloud.r-project.org/bin/macosx/big-sur-arm64/contrib/4.4/doRNG_1.8.6.2.tgz'\n",
              "Content type 'application/x-gzip' length 42056 bytes (41 KB)\n",
              "==================================================\n",
              "downloaded 41 KB\n",
              "\n",
              "probando la URL 'https://cloud.r-project.org/bin/macosx/big-sur-arm64/contrib/4.4/missForest_1.5.tgz'\n",
              "Content type 'application/x-gzip' length 343906 bytes (335 KB)\n",
              "==================================================\n",
              "downloaded 335 KB\n",
              "\n"
            ]
          },
          "metadata": {},
          "output_type": "display_data"
        }
      ],
      "source": [
        "%%R\n",
        "install.packages(\"missForest\", repos = \"https://cloud.r-project.org\")\n",
        "library(missForest)"
      ]
    },
    {
      "cell_type": "code",
      "execution_count": 43,
      "metadata": {
        "id": "a4gSxeCCdWWd"
      },
      "outputs": [],
      "source": [
        "#Guardo el dataframe en un archivo csv\n",
        "df_titanic.to_csv('df_titanic.csv', index=False)"
      ]
    },
    {
      "cell_type": "code",
      "execution_count": 46,
      "metadata": {
        "id": "WY9f2D_fIi9W"
      },
      "outputs": [],
      "source": [
        "%%R\n",
        "df_titanic <- read.csv('df_titanic.csv')"
      ]
    },
    {
      "cell_type": "code",
      "execution_count": 47,
      "metadata": {
        "colab": {
          "base_uri": "https://localhost:8080/"
        },
        "id": "NxISuGWa-hpq",
        "outputId": "2941670a-840f-4326-c15a-5299456c847c"
      },
      "outputs": [
        {
          "name": "stdout",
          "output_type": "stream",
          "text": [
            "[1] \"Tipo de objeto:\"\n",
            "[1] \"data.frame\"\n",
            "[1] \"Imprimir las primeras 5 filas:\"\n",
            "  Survived Pclass    Sex Age SibSp Parch    Fare Embarked Title Companions\n",
            "1        0      3   male  22     1     0  7.2500        S    Mr         -1\n",
            "2        1      1 female  38     1     0 71.2833        C   Mrs         -1\n",
            "3        1      3 female  26     0     0  7.9250        S  Miss         -1\n",
            "[1] \"Tipos de datos:\"\n",
            "'data.frame':\t891 obs. of  10 variables:\n",
            " $ Survived  : int  0 1 1 1 0 0 0 0 1 1 ...\n",
            " $ Pclass    : int  3 1 3 1 3 3 1 3 3 2 ...\n",
            " $ Sex       : chr  \"male\" \"female\" \"female\" \"female\" ...\n",
            " $ Age       : num  22 38 26 35 35 NA 54 2 27 14 ...\n",
            " $ SibSp     : int  1 1 0 1 0 0 0 3 0 1 ...\n",
            " $ Parch     : int  0 0 0 0 0 0 0 1 2 0 ...\n",
            " $ Fare      : num  7.25 71.28 7.92 53.1 8.05 ...\n",
            " $ Embarked  : chr  \"S\" \"C\" \"S\" \"S\" ...\n",
            " $ Title     : chr  \"Mr\" \"Mrs\" \"Miss\" \"Mrs\" ...\n",
            " $ Companions: int  -1 -1 -1 0 -1 -1 -1 2 1 0 ...\n",
            "NULL\n"
          ]
        }
      ],
      "source": [
        "#Pasar el dataframe de python a R:\n",
        "#%R -i df_titanic\n",
        "%R print(\"Tipo de objeto:\")\n",
        "%R print(class(df_titanic))\n",
        "%R print(\"Imprimir las primeras 5 filas:\")\n",
        "%R print(head(df_titanic,3))\n",
        "%R print(\"Tipos de datos:\")\n",
        "%R print(str(df_titanic))"
      ]
    },
    {
      "cell_type": "code",
      "execution_count": 48,
      "metadata": {
        "colab": {
          "base_uri": "https://localhost:8080/"
        },
        "id": "_KMZyKlxDNMA",
        "outputId": "ec7deb4c-4868-481b-cf91-07388f4f02fd"
      },
      "outputs": [
        {
          "name": "stdout",
          "output_type": "stream",
          "text": [
            "'data.frame':\t891 obs. of  10 variables:\n",
            " $ Survived  : int  0 1 1 1 0 0 0 0 1 1 ...\n",
            " $ Pclass    : int  3 1 3 1 3 3 1 3 3 2 ...\n",
            " $ Sex       : Factor w/ 2 levels \"female\",\"male\": 2 1 1 1 2 2 2 2 1 1 ...\n",
            " $ Age       : num  22 38 26 35 35 NA 54 2 27 14 ...\n",
            " $ SibSp     : int  1 1 0 1 0 0 0 3 0 1 ...\n",
            " $ Parch     : int  0 0 0 0 0 0 0 1 2 0 ...\n",
            " $ Fare      : num  7.25 71.28 7.92 53.1 8.05 ...\n",
            " $ Embarked  : Factor w/ 4 levels \"\",\"C\",\"Q\",\"S\": 4 2 4 4 4 3 4 4 4 2 ...\n",
            " $ Title     : Factor w/ 5 levels \"Master\",\"Miss\",..: 3 4 2 4 3 3 3 1 4 4 ...\n",
            " $ Companions: int  -1 -1 -1 0 -1 -1 -1 2 1 0 ...\n"
          ]
        }
      ],
      "source": [
        "%%R\n",
        "#Función que convierte character a tipo factor\n",
        "chr_to_factor <- function(col) {\n",
        "    if(is.character(col))\n",
        "    { as.factor(col) }\n",
        "    else { col }\n",
        "}\n",
        "#Aplico la función al dataframe con lapply\n",
        "ls_titanic <- lapply(df_titanic, chr_to_factor)\n",
        "#Convertimos la lista a data.frame\n",
        "df_titanic <- data.frame(ls_titanic)\n",
        "str(df_titanic)"
      ]
    },
    {
      "cell_type": "code",
      "execution_count": 49,
      "metadata": {
        "colab": {
          "base_uri": "https://localhost:8080/"
        },
        "id": "mJaXt5Dk564j",
        "outputId": "6a9e2d45-16f9-4462-faf1-d1b765216389"
      },
      "outputs": [
        {
          "name": "stdout",
          "output_type": "stream",
          "text": [
            "[1] \"Dataframe original\"\n",
            "  Survived     Pclass        Sex        Age      SibSp      Parch       Fare \n",
            "         0          0          0        177          0          0          0 \n",
            "  Embarked      Title Companions \n",
            "         0          0          0 \n",
            "[1] \"Datos imputados:\"\n",
            "  Survived     Pclass        Sex        Age      SibSp      Parch       Fare \n",
            "         0          0          0          0          0          0          0 \n",
            "  Embarked      Title Companions \n",
            "         0          0          0 \n"
          ]
        }
      ],
      "source": [
        "%%R\n",
        "#Valores faltantes\n",
        "print(\"Dataframe original\")\n",
        "print(colSums(is.na(df_titanic)))\n",
        "\n",
        "#Se hace la imputación y se guarda el data.frame con otro nombre\n",
        "titanic_imp_rf <- missForest(df_titanic)\n",
        "\n",
        "#Convertimos el objeto a un data.frame la matriz titanic_imp_rf$ximp\n",
        "df_titanic_imp_rf <- data.frame(titanic_imp_rf$ximp)\n",
        "\n",
        "#Valores faltantes\n",
        "print(\"Datos imputados:\")\n",
        "print(colSums(is.na(df_titanic_imp_rf)))\n"
      ]
    },
    {
      "cell_type": "code",
      "execution_count": 70,
      "metadata": {
        "colab": {
          "base_uri": "https://localhost:8080/"
        },
        "id": "nLdjDKs-MdiJ",
        "outputId": "4a0de4c8-ab0c-498d-bd88-745aeb44e4cf"
      },
      "outputs": [],
      "source": [
        "#Pasar el objeto de R a Python\n",
        "df_titanic = None\n",
        "df_titanic_imp_rf = None\n",
        "%R -o df_titanic\n",
        "%R -o df_titanic_imp_rf"
      ]
    },
    {
      "cell_type": "code",
      "execution_count": 72,
      "metadata": {},
      "outputs": [
        {
          "data": {
            "text/html": [
              "<div>\n",
              "<style scoped>\n",
              "    .dataframe tbody tr th:only-of-type {\n",
              "        vertical-align: middle;\n",
              "    }\n",
              "\n",
              "    .dataframe tbody tr th {\n",
              "        vertical-align: top;\n",
              "    }\n",
              "\n",
              "    .dataframe thead th {\n",
              "        text-align: right;\n",
              "    }\n",
              "</style>\n",
              "<table border=\"1\" class=\"dataframe\">\n",
              "  <thead>\n",
              "    <tr style=\"text-align: right;\">\n",
              "      <th></th>\n",
              "      <th>Survived</th>\n",
              "      <th>Pclass</th>\n",
              "      <th>Sex</th>\n",
              "      <th>Age</th>\n",
              "      <th>SibSp</th>\n",
              "      <th>Parch</th>\n",
              "      <th>Fare</th>\n",
              "      <th>Embarked</th>\n",
              "      <th>Title</th>\n",
              "      <th>Companions</th>\n",
              "    </tr>\n",
              "  </thead>\n",
              "  <tbody>\n",
              "    <tr>\n",
              "      <th>1</th>\n",
              "      <td>0</td>\n",
              "      <td>3</td>\n",
              "      <td>male</td>\n",
              "      <td>22.0</td>\n",
              "      <td>1</td>\n",
              "      <td>0</td>\n",
              "      <td>7.2500</td>\n",
              "      <td>S</td>\n",
              "      <td>Mr</td>\n",
              "      <td>-1</td>\n",
              "    </tr>\n",
              "    <tr>\n",
              "      <th>2</th>\n",
              "      <td>1</td>\n",
              "      <td>1</td>\n",
              "      <td>female</td>\n",
              "      <td>38.0</td>\n",
              "      <td>1</td>\n",
              "      <td>0</td>\n",
              "      <td>71.2833</td>\n",
              "      <td>C</td>\n",
              "      <td>Mrs</td>\n",
              "      <td>-1</td>\n",
              "    </tr>\n",
              "    <tr>\n",
              "      <th>3</th>\n",
              "      <td>1</td>\n",
              "      <td>3</td>\n",
              "      <td>female</td>\n",
              "      <td>26.0</td>\n",
              "      <td>0</td>\n",
              "      <td>0</td>\n",
              "      <td>7.9250</td>\n",
              "      <td>S</td>\n",
              "      <td>Miss</td>\n",
              "      <td>-1</td>\n",
              "    </tr>\n",
              "    <tr>\n",
              "      <th>4</th>\n",
              "      <td>1</td>\n",
              "      <td>1</td>\n",
              "      <td>female</td>\n",
              "      <td>35.0</td>\n",
              "      <td>1</td>\n",
              "      <td>0</td>\n",
              "      <td>53.1000</td>\n",
              "      <td>S</td>\n",
              "      <td>Mrs</td>\n",
              "      <td>0</td>\n",
              "    </tr>\n",
              "    <tr>\n",
              "      <th>5</th>\n",
              "      <td>0</td>\n",
              "      <td>3</td>\n",
              "      <td>male</td>\n",
              "      <td>35.0</td>\n",
              "      <td>0</td>\n",
              "      <td>0</td>\n",
              "      <td>8.0500</td>\n",
              "      <td>S</td>\n",
              "      <td>Mr</td>\n",
              "      <td>-1</td>\n",
              "    </tr>\n",
              "    <tr>\n",
              "      <th>...</th>\n",
              "      <td>...</td>\n",
              "      <td>...</td>\n",
              "      <td>...</td>\n",
              "      <td>...</td>\n",
              "      <td>...</td>\n",
              "      <td>...</td>\n",
              "      <td>...</td>\n",
              "      <td>...</td>\n",
              "      <td>...</td>\n",
              "      <td>...</td>\n",
              "    </tr>\n",
              "    <tr>\n",
              "      <th>887</th>\n",
              "      <td>0</td>\n",
              "      <td>2</td>\n",
              "      <td>male</td>\n",
              "      <td>27.0</td>\n",
              "      <td>0</td>\n",
              "      <td>0</td>\n",
              "      <td>13.0000</td>\n",
              "      <td>S</td>\n",
              "      <td>Rare Title</td>\n",
              "      <td>-1</td>\n",
              "    </tr>\n",
              "    <tr>\n",
              "      <th>888</th>\n",
              "      <td>1</td>\n",
              "      <td>1</td>\n",
              "      <td>female</td>\n",
              "      <td>19.0</td>\n",
              "      <td>0</td>\n",
              "      <td>0</td>\n",
              "      <td>30.0000</td>\n",
              "      <td>S</td>\n",
              "      <td>Miss</td>\n",
              "      <td>-1</td>\n",
              "    </tr>\n",
              "    <tr>\n",
              "      <th>889</th>\n",
              "      <td>0</td>\n",
              "      <td>3</td>\n",
              "      <td>female</td>\n",
              "      <td>NaN</td>\n",
              "      <td>1</td>\n",
              "      <td>2</td>\n",
              "      <td>23.4500</td>\n",
              "      <td>S</td>\n",
              "      <td>Miss</td>\n",
              "      <td>0</td>\n",
              "    </tr>\n",
              "    <tr>\n",
              "      <th>890</th>\n",
              "      <td>1</td>\n",
              "      <td>1</td>\n",
              "      <td>male</td>\n",
              "      <td>26.0</td>\n",
              "      <td>0</td>\n",
              "      <td>0</td>\n",
              "      <td>30.0000</td>\n",
              "      <td>C</td>\n",
              "      <td>Mr</td>\n",
              "      <td>-1</td>\n",
              "    </tr>\n",
              "    <tr>\n",
              "      <th>891</th>\n",
              "      <td>0</td>\n",
              "      <td>3</td>\n",
              "      <td>male</td>\n",
              "      <td>32.0</td>\n",
              "      <td>0</td>\n",
              "      <td>0</td>\n",
              "      <td>7.7500</td>\n",
              "      <td>Q</td>\n",
              "      <td>Mr</td>\n",
              "      <td>-1</td>\n",
              "    </tr>\n",
              "  </tbody>\n",
              "</table>\n",
              "<p>891 rows × 10 columns</p>\n",
              "</div>"
            ],
            "text/plain": [
              "     Survived  Pclass     Sex   Age  SibSp  Parch     Fare Embarked  \\\n",
              "1           0       3    male  22.0      1      0   7.2500        S   \n",
              "2           1       1  female  38.0      1      0  71.2833        C   \n",
              "3           1       3  female  26.0      0      0   7.9250        S   \n",
              "4           1       1  female  35.0      1      0  53.1000        S   \n",
              "5           0       3    male  35.0      0      0   8.0500        S   \n",
              "..        ...     ...     ...   ...    ...    ...      ...      ...   \n",
              "887         0       2    male  27.0      0      0  13.0000        S   \n",
              "888         1       1  female  19.0      0      0  30.0000        S   \n",
              "889         0       3  female   NaN      1      2  23.4500        S   \n",
              "890         1       1    male  26.0      0      0  30.0000        C   \n",
              "891         0       3    male  32.0      0      0   7.7500        Q   \n",
              "\n",
              "          Title  Companions  \n",
              "1            Mr          -1  \n",
              "2           Mrs          -1  \n",
              "3          Miss          -1  \n",
              "4           Mrs           0  \n",
              "5            Mr          -1  \n",
              "..          ...         ...  \n",
              "887  Rare Title          -1  \n",
              "888        Miss          -1  \n",
              "889        Miss           0  \n",
              "890          Mr          -1  \n",
              "891          Mr          -1  \n",
              "\n",
              "[891 rows x 10 columns]"
            ]
          },
          "execution_count": 72,
          "metadata": {},
          "output_type": "execute_result"
        }
      ],
      "source": [
        "df_titanic"
      ]
    },
    {
      "cell_type": "code",
      "execution_count": 71,
      "metadata": {},
      "outputs": [
        {
          "data": {
            "text/html": [
              "<div>\n",
              "<style scoped>\n",
              "    .dataframe tbody tr th:only-of-type {\n",
              "        vertical-align: middle;\n",
              "    }\n",
              "\n",
              "    .dataframe tbody tr th {\n",
              "        vertical-align: top;\n",
              "    }\n",
              "\n",
              "    .dataframe thead th {\n",
              "        text-align: right;\n",
              "    }\n",
              "</style>\n",
              "<table border=\"1\" class=\"dataframe\">\n",
              "  <thead>\n",
              "    <tr style=\"text-align: right;\">\n",
              "      <th></th>\n",
              "      <th>Survived</th>\n",
              "      <th>Pclass</th>\n",
              "      <th>Sex</th>\n",
              "      <th>Age</th>\n",
              "      <th>SibSp</th>\n",
              "      <th>Parch</th>\n",
              "      <th>Fare</th>\n",
              "      <th>Embarked</th>\n",
              "      <th>Title</th>\n",
              "      <th>Companions</th>\n",
              "    </tr>\n",
              "  </thead>\n",
              "  <tbody>\n",
              "    <tr>\n",
              "      <th>1</th>\n",
              "      <td>0</td>\n",
              "      <td>3</td>\n",
              "      <td>male</td>\n",
              "      <td>22.000000</td>\n",
              "      <td>1</td>\n",
              "      <td>0</td>\n",
              "      <td>7.2500</td>\n",
              "      <td>S</td>\n",
              "      <td>Mr</td>\n",
              "      <td>-1</td>\n",
              "    </tr>\n",
              "    <tr>\n",
              "      <th>2</th>\n",
              "      <td>1</td>\n",
              "      <td>1</td>\n",
              "      <td>female</td>\n",
              "      <td>38.000000</td>\n",
              "      <td>1</td>\n",
              "      <td>0</td>\n",
              "      <td>71.2833</td>\n",
              "      <td>C</td>\n",
              "      <td>Mrs</td>\n",
              "      <td>-1</td>\n",
              "    </tr>\n",
              "    <tr>\n",
              "      <th>3</th>\n",
              "      <td>1</td>\n",
              "      <td>3</td>\n",
              "      <td>female</td>\n",
              "      <td>26.000000</td>\n",
              "      <td>0</td>\n",
              "      <td>0</td>\n",
              "      <td>7.9250</td>\n",
              "      <td>S</td>\n",
              "      <td>Miss</td>\n",
              "      <td>-1</td>\n",
              "    </tr>\n",
              "    <tr>\n",
              "      <th>4</th>\n",
              "      <td>1</td>\n",
              "      <td>1</td>\n",
              "      <td>female</td>\n",
              "      <td>35.000000</td>\n",
              "      <td>1</td>\n",
              "      <td>0</td>\n",
              "      <td>53.1000</td>\n",
              "      <td>S</td>\n",
              "      <td>Mrs</td>\n",
              "      <td>0</td>\n",
              "    </tr>\n",
              "    <tr>\n",
              "      <th>5</th>\n",
              "      <td>0</td>\n",
              "      <td>3</td>\n",
              "      <td>male</td>\n",
              "      <td>35.000000</td>\n",
              "      <td>0</td>\n",
              "      <td>0</td>\n",
              "      <td>8.0500</td>\n",
              "      <td>S</td>\n",
              "      <td>Mr</td>\n",
              "      <td>-1</td>\n",
              "    </tr>\n",
              "    <tr>\n",
              "      <th>...</th>\n",
              "      <td>...</td>\n",
              "      <td>...</td>\n",
              "      <td>...</td>\n",
              "      <td>...</td>\n",
              "      <td>...</td>\n",
              "      <td>...</td>\n",
              "      <td>...</td>\n",
              "      <td>...</td>\n",
              "      <td>...</td>\n",
              "      <td>...</td>\n",
              "    </tr>\n",
              "    <tr>\n",
              "      <th>887</th>\n",
              "      <td>0</td>\n",
              "      <td>2</td>\n",
              "      <td>male</td>\n",
              "      <td>27.000000</td>\n",
              "      <td>0</td>\n",
              "      <td>0</td>\n",
              "      <td>13.0000</td>\n",
              "      <td>S</td>\n",
              "      <td>Rare Title</td>\n",
              "      <td>-1</td>\n",
              "    </tr>\n",
              "    <tr>\n",
              "      <th>888</th>\n",
              "      <td>1</td>\n",
              "      <td>1</td>\n",
              "      <td>female</td>\n",
              "      <td>19.000000</td>\n",
              "      <td>0</td>\n",
              "      <td>0</td>\n",
              "      <td>30.0000</td>\n",
              "      <td>S</td>\n",
              "      <td>Miss</td>\n",
              "      <td>-1</td>\n",
              "    </tr>\n",
              "    <tr>\n",
              "      <th>889</th>\n",
              "      <td>0</td>\n",
              "      <td>3</td>\n",
              "      <td>female</td>\n",
              "      <td>9.331429</td>\n",
              "      <td>1</td>\n",
              "      <td>2</td>\n",
              "      <td>23.4500</td>\n",
              "      <td>S</td>\n",
              "      <td>Miss</td>\n",
              "      <td>0</td>\n",
              "    </tr>\n",
              "    <tr>\n",
              "      <th>890</th>\n",
              "      <td>1</td>\n",
              "      <td>1</td>\n",
              "      <td>male</td>\n",
              "      <td>26.000000</td>\n",
              "      <td>0</td>\n",
              "      <td>0</td>\n",
              "      <td>30.0000</td>\n",
              "      <td>C</td>\n",
              "      <td>Mr</td>\n",
              "      <td>-1</td>\n",
              "    </tr>\n",
              "    <tr>\n",
              "      <th>891</th>\n",
              "      <td>0</td>\n",
              "      <td>3</td>\n",
              "      <td>male</td>\n",
              "      <td>32.000000</td>\n",
              "      <td>0</td>\n",
              "      <td>0</td>\n",
              "      <td>7.7500</td>\n",
              "      <td>Q</td>\n",
              "      <td>Mr</td>\n",
              "      <td>-1</td>\n",
              "    </tr>\n",
              "  </tbody>\n",
              "</table>\n",
              "<p>891 rows × 10 columns</p>\n",
              "</div>"
            ],
            "text/plain": [
              "     Survived  Pclass     Sex        Age  SibSp  Parch     Fare Embarked  \\\n",
              "1           0       3    male  22.000000      1      0   7.2500        S   \n",
              "2           1       1  female  38.000000      1      0  71.2833        C   \n",
              "3           1       3  female  26.000000      0      0   7.9250        S   \n",
              "4           1       1  female  35.000000      1      0  53.1000        S   \n",
              "5           0       3    male  35.000000      0      0   8.0500        S   \n",
              "..        ...     ...     ...        ...    ...    ...      ...      ...   \n",
              "887         0       2    male  27.000000      0      0  13.0000        S   \n",
              "888         1       1  female  19.000000      0      0  30.0000        S   \n",
              "889         0       3  female   9.331429      1      2  23.4500        S   \n",
              "890         1       1    male  26.000000      0      0  30.0000        C   \n",
              "891         0       3    male  32.000000      0      0   7.7500        Q   \n",
              "\n",
              "          Title  Companions  \n",
              "1            Mr          -1  \n",
              "2           Mrs          -1  \n",
              "3          Miss          -1  \n",
              "4           Mrs           0  \n",
              "5            Mr          -1  \n",
              "..          ...         ...  \n",
              "887  Rare Title          -1  \n",
              "888        Miss          -1  \n",
              "889        Miss           0  \n",
              "890          Mr          -1  \n",
              "891          Mr          -1  \n",
              "\n",
              "[891 rows x 10 columns]"
            ]
          },
          "execution_count": 71,
          "metadata": {},
          "output_type": "execute_result"
        }
      ],
      "source": [
        "df_titanic_imp_rf"
      ]
    },
    {
      "cell_type": "code",
      "execution_count": 68,
      "metadata": {},
      "outputs": [
        {
          "name": "stdout",
          "output_type": "stream",
          "text": [
            "    Original  Imputado\n",
            "1      22.00 22.000000\n",
            "2      38.00 38.000000\n",
            "3      26.00 26.000000\n",
            "4      35.00 35.000000\n",
            "5      35.00 35.000000\n",
            "6         NA 38.206847\n",
            "7      54.00 54.000000\n",
            "8       2.00  2.000000\n",
            "9      27.00 27.000000\n",
            "10     14.00 14.000000\n",
            "11      4.00  4.000000\n",
            "12     58.00 58.000000\n",
            "13     20.00 20.000000\n",
            "14     39.00 39.000000\n",
            "15     14.00 14.000000\n",
            "16     55.00 55.000000\n",
            "17      2.00  2.000000\n",
            "18        NA 34.339959\n",
            "19     31.00 31.000000\n",
            "20        NA 30.418396\n",
            "21     35.00 35.000000\n",
            "22     34.00 34.000000\n",
            "23     15.00 15.000000\n",
            "24     28.00 28.000000\n",
            "25      8.00  8.000000\n",
            "26     38.00 38.000000\n",
            "27        NA 30.984529\n",
            "28     19.00 19.000000\n",
            "29        NA 19.833161\n",
            "30        NA 28.161571\n",
            "31     40.00 40.000000\n",
            "32        NA 28.274380\n",
            "33        NA 20.387434\n",
            "34     66.00 66.000000\n",
            "35     28.00 28.000000\n",
            "36     42.00 42.000000\n",
            "37        NA 24.827064\n",
            "38     21.00 21.000000\n",
            "39     18.00 18.000000\n",
            "40     14.00 14.000000\n",
            "41     40.00 40.000000\n",
            "42     27.00 27.000000\n",
            "43        NA 30.073001\n",
            "44      3.00  3.000000\n",
            "45     19.00 19.000000\n",
            "46        NA 29.550672\n",
            "47        NA 36.443469\n",
            "48        NA 20.387434\n",
            "49        NA 27.757780\n",
            "50     18.00 18.000000\n",
            "51      7.00  7.000000\n",
            "52     21.00 21.000000\n",
            "53     49.00 49.000000\n",
            "54     29.00 29.000000\n",
            "55     65.00 65.000000\n",
            "56        NA 38.026795\n",
            "57     21.00 21.000000\n",
            "58     28.50 28.500000\n",
            "59      5.00  5.000000\n",
            "60     11.00 11.000000\n",
            "61     22.00 22.000000\n",
            "62     38.00 38.000000\n",
            "63     45.00 45.000000\n",
            "64      4.00  4.000000\n",
            "65        NA 45.325147\n",
            "66        NA  6.177469\n",
            "67     29.00 29.000000\n",
            "68     19.00 19.000000\n",
            "69     17.00 17.000000\n",
            "70     26.00 26.000000\n",
            "71     32.00 32.000000\n",
            "72     16.00 16.000000\n",
            "73     21.00 21.000000\n",
            "74     26.00 26.000000\n",
            "75     32.00 32.000000\n",
            "76     25.00 25.000000\n",
            "77        NA 28.161571\n",
            "78        NA 29.550672\n",
            "79      0.83  0.830000\n",
            "80     30.00 30.000000\n",
            "81     22.00 22.000000\n",
            "82     29.00 29.000000\n",
            "83        NA 20.021161\n",
            "84     28.00 28.000000\n",
            "85     17.00 17.000000\n",
            "86     33.00 33.000000\n",
            "87     16.00 16.000000\n",
            "88        NA 29.550672\n",
            "89     23.00 23.000000\n",
            "90     24.00 24.000000\n",
            "91     29.00 29.000000\n",
            "92     20.00 20.000000\n",
            "93     46.00 46.000000\n",
            "94     26.00 26.000000\n",
            "95     59.00 59.000000\n",
            "96        NA 29.550672\n",
            "97     71.00 71.000000\n",
            "98     23.00 23.000000\n",
            "99     34.00 34.000000\n",
            "100    34.00 34.000000\n",
            "101    28.00 28.000000\n",
            "102       NA 28.161571\n",
            "103    21.00 21.000000\n",
            "104    33.00 33.000000\n",
            "105    37.00 37.000000\n",
            "106    28.00 28.000000\n",
            "107    21.00 21.000000\n",
            "108       NA 27.948627\n",
            "109    38.00 38.000000\n",
            "110       NA 17.215426\n",
            "111    47.00 47.000000\n",
            "112    14.50 14.500000\n",
            "113    22.00 22.000000\n",
            "114    20.00 20.000000\n",
            "115    17.00 17.000000\n",
            "116    21.00 21.000000\n",
            "117    70.50 70.500000\n",
            "118    29.00 29.000000\n",
            "119    24.00 24.000000\n",
            "120     2.00  2.000000\n",
            "121    21.00 21.000000\n",
            "122       NA 29.550672\n",
            "123    32.50 32.500000\n",
            "124    32.50 32.500000\n",
            "125    54.00 54.000000\n",
            "126    12.00 12.000000\n",
            "127       NA 40.251269\n",
            "128    24.00 24.000000\n",
            "129       NA  5.694501\n",
            "130    45.00 45.000000\n",
            "131    33.00 33.000000\n",
            "132    20.00 20.000000\n",
            "133    47.00 47.000000\n",
            "134    29.00 29.000000\n",
            "135    25.00 25.000000\n",
            "136    23.00 23.000000\n",
            "137    19.00 19.000000\n",
            "138    37.00 37.000000\n",
            "139    16.00 16.000000\n",
            "140    24.00 24.000000\n",
            "141       NA 34.727455\n",
            "142    22.00 22.000000\n",
            "143    24.00 24.000000\n",
            "144    19.00 19.000000\n",
            "145    18.00 18.000000\n",
            "146    19.00 19.000000\n",
            "147    27.00 27.000000\n",
            "148     9.00  9.000000\n",
            "149    36.50 36.500000\n",
            "150    42.00 42.000000\n",
            "151    51.00 51.000000\n",
            "152    22.00 22.000000\n",
            "153    55.50 55.500000\n",
            "154    40.50 40.500000\n",
            "155       NA 30.244033\n",
            "156    51.00 51.000000\n",
            "157    16.00 16.000000\n",
            "158    30.00 30.000000\n",
            "159       NA 27.365092\n",
            "160       NA  8.932183\n",
            "161    44.00 44.000000\n",
            "162    40.00 40.000000\n",
            "163    26.00 26.000000\n",
            "164    17.00 17.000000\n",
            "165     1.00  1.000000\n",
            "166     9.00  9.000000\n",
            "167       NA 44.924544\n",
            "168    45.00 45.000000\n",
            "169       NA 49.735369\n",
            "170    28.00 28.000000\n",
            "171    61.00 61.000000\n",
            "172     4.00  4.000000\n",
            "173     1.00  1.000000\n",
            "174    21.00 21.000000\n",
            "175    56.00 56.000000\n",
            "176    18.00 18.000000\n",
            "177       NA  4.235065\n",
            "178    50.00 50.000000\n",
            "179    30.00 30.000000\n",
            "180    36.00 36.000000\n",
            "181       NA 14.654950\n",
            "182       NA 30.917150\n",
            "183     9.00  9.000000\n",
            "184     1.00  1.000000\n",
            "185     4.00  4.000000\n",
            "186       NA 45.872092\n",
            "187       NA 30.789847\n",
            "188    45.00 45.000000\n",
            "189    40.00 40.000000\n",
            "190    36.00 36.000000\n",
            "191    32.00 32.000000\n",
            "192    19.00 19.000000\n",
            "193    19.00 19.000000\n",
            "194     3.00  3.000000\n",
            "195    44.00 44.000000\n",
            "196    58.00 58.000000\n",
            "197       NA 40.251269\n",
            "198    42.00 42.000000\n",
            "199       NA 20.387434\n",
            "200    24.00 24.000000\n",
            "201    28.00 28.000000\n",
            "202       NA 17.870369\n",
            "203    34.00 34.000000\n",
            "204    45.50 45.500000\n",
            "205    18.00 18.000000\n",
            "206     2.00  2.000000\n",
            "207    32.00 32.000000\n",
            "208    26.00 26.000000\n",
            "209    16.00 16.000000\n",
            "210    40.00 40.000000\n",
            "211    24.00 24.000000\n",
            "212    35.00 35.000000\n",
            "213    22.00 22.000000\n",
            "214    30.00 30.000000\n",
            "215       NA 35.537268\n",
            "216    31.00 31.000000\n",
            "217    27.00 27.000000\n",
            "218    42.00 42.000000\n",
            "219    32.00 32.000000\n",
            "220    30.00 30.000000\n",
            "221    16.00 16.000000\n",
            "222    27.00 27.000000\n",
            "223    51.00 51.000000\n",
            "224       NA 28.161571\n",
            "225    38.00 38.000000\n",
            "226    22.00 22.000000\n",
            "227    19.00 19.000000\n",
            "228    20.50 20.500000\n",
            "229    18.00 18.000000\n",
            "230       NA  5.911615\n",
            "231    35.00 35.000000\n",
            "232    29.00 29.000000\n",
            "233    59.00 59.000000\n",
            "234     5.00  5.000000\n",
            "235    24.00 24.000000\n",
            "236       NA 26.797117\n",
            "237    44.00 44.000000\n",
            "238     8.00  8.000000\n",
            "239    19.00 19.000000\n",
            "240    33.00 33.000000\n",
            "241       NA 16.472362\n",
            "242       NA 16.871176\n",
            "243    29.00 29.000000\n",
            "244    22.00 22.000000\n",
            "245    30.00 30.000000\n",
            "246    44.00 44.000000\n",
            "247    25.00 25.000000\n",
            "248    24.00 24.000000\n",
            "249    37.00 37.000000\n",
            "250    54.00 54.000000\n",
            "251       NA 30.244033\n",
            "252    29.00 29.000000\n",
            "253    62.00 62.000000\n",
            "254    30.00 30.000000\n",
            "255    41.00 41.000000\n",
            "256    29.00 29.000000\n",
            "257       NA 47.802710\n",
            "258    30.00 30.000000\n",
            "259    35.00 35.000000\n",
            "260    50.00 50.000000\n",
            "261       NA 40.251269\n",
            "262     3.00  3.000000\n",
            "263    52.00 52.000000\n",
            "264    40.00 40.000000\n",
            "265       NA 25.675026\n",
            "266    36.00 36.000000\n",
            "267    16.00 16.000000\n",
            "268    25.00 25.000000\n",
            "269    58.00 58.000000\n",
            "270    35.00 35.000000\n",
            "271       NA 45.606209\n",
            "272    25.00 25.000000\n",
            "273    41.00 41.000000\n",
            "274    37.00 37.000000\n",
            "275       NA 20.387434\n",
            "276    63.00 63.000000\n",
            "277    45.00 45.000000\n",
            "278       NA 32.105238\n",
            "279     7.00  7.000000\n",
            "280    35.00 35.000000\n",
            "281    65.00 65.000000\n",
            "282    28.00 28.000000\n",
            "283    16.00 16.000000\n",
            "284    19.00 19.000000\n",
            "285       NA 49.735369\n",
            "286    33.00 33.000000\n",
            "287    30.00 30.000000\n",
            "288    22.00 22.000000\n",
            "289    42.00 42.000000\n",
            "290    22.00 22.000000\n",
            "291    26.00 26.000000\n",
            "292    19.00 19.000000\n",
            "293    36.00 36.000000\n",
            "294    24.00 24.000000\n",
            "295    24.00 24.000000\n",
            "296       NA 45.325147\n",
            "297    23.50 23.500000\n",
            "298     2.00  2.000000\n",
            "299       NA 39.794150\n",
            "300    50.00 50.000000\n",
            "301       NA 20.387434\n",
            "302       NA 29.841758\n",
            "303    19.00 19.000000\n",
            "304       NA 29.861981\n",
            "305       NA 29.550672\n",
            "306     0.92  0.920000\n",
            "307       NA 32.204052\n",
            "308    17.00 17.000000\n",
            "309    30.00 30.000000\n",
            "310    30.00 30.000000\n",
            "311    24.00 24.000000\n",
            "312    18.00 18.000000\n",
            "313    26.00 26.000000\n",
            "314    28.00 28.000000\n",
            "315    43.00 43.000000\n",
            "316    26.00 26.000000\n",
            "317    24.00 24.000000\n",
            "318    54.00 54.000000\n",
            "319    31.00 31.000000\n",
            "320    40.00 40.000000\n",
            "321    22.00 22.000000\n",
            "322    27.00 27.000000\n",
            "323    30.00 30.000000\n",
            "324    22.00 22.000000\n",
            "325       NA 17.870369\n",
            "326    36.00 36.000000\n",
            "327    61.00 61.000000\n",
            "328    36.00 36.000000\n",
            "329    31.00 31.000000\n",
            "330    16.00 16.000000\n",
            "331       NA 16.471545\n",
            "332    45.50 45.500000\n",
            "333    38.00 38.000000\n",
            "334    16.00 16.000000\n",
            "335       NA 32.866383\n",
            "336       NA 28.161571\n",
            "337    29.00 29.000000\n",
            "338    41.00 41.000000\n",
            "339    45.00 45.000000\n",
            "340    45.00 45.000000\n",
            "341     2.00  2.000000\n",
            "342    24.00 24.000000\n",
            "343    28.00 28.000000\n",
            "344    25.00 25.000000\n",
            "345    36.00 36.000000\n",
            "346    24.00 24.000000\n",
            "347    40.00 40.000000\n",
            "348       NA 34.487939\n",
            "349     3.00  3.000000\n",
            "350    42.00 42.000000\n",
            "351    23.00 23.000000\n",
            "352       NA 49.798478\n",
            "353    15.00 15.000000\n",
            "354    25.00 25.000000\n",
            "355       NA 30.984529\n",
            "356    28.00 28.000000\n",
            "357    22.00 22.000000\n",
            "358    38.00 38.000000\n",
            "359       NA 19.833161\n",
            "360       NA 19.833161\n",
            "361    40.00 40.000000\n",
            "362    29.00 29.000000\n",
            "363    45.00 45.000000\n",
            "364    35.00 35.000000\n",
            "365       NA 35.646931\n",
            "366    30.00 30.000000\n",
            "367    60.00 60.000000\n",
            "368       NA 29.921729\n",
            "369       NA 20.387434\n",
            "370    24.00 24.000000\n",
            "371    25.00 25.000000\n",
            "372    18.00 18.000000\n",
            "373    19.00 19.000000\n",
            "374    22.00 22.000000\n",
            "375     3.00  3.000000\n",
            "376       NA 37.819872\n",
            "377    22.00 22.000000\n",
            "378    27.00 27.000000\n",
            "379    20.00 20.000000\n",
            "380    19.00 19.000000\n",
            "381    42.00 42.000000\n",
            "382     1.00  1.000000\n",
            "383    32.00 32.000000\n",
            "384    35.00 35.000000\n",
            "385       NA 28.161571\n",
            "386    18.00 18.000000\n",
            "387     1.00  1.000000\n",
            "388    36.00 36.000000\n",
            "389       NA 31.007672\n",
            "390    17.00 17.000000\n",
            "391    36.00 36.000000\n",
            "392    21.00 21.000000\n",
            "393    28.00 28.000000\n",
            "394    23.00 23.000000\n",
            "395    24.00 24.000000\n",
            "396    22.00 22.000000\n",
            "397    31.00 31.000000\n",
            "398    46.00 46.000000\n",
            "399    23.00 23.000000\n",
            "400    28.00 28.000000\n",
            "401    39.00 39.000000\n",
            "402    26.00 26.000000\n",
            "403    21.00 21.000000\n",
            "404    28.00 28.000000\n",
            "405    20.00 20.000000\n",
            "406    34.00 34.000000\n",
            "407    51.00 51.000000\n",
            "408     3.00  3.000000\n",
            "409    21.00 21.000000\n",
            "410       NA  5.911615\n",
            "411       NA 28.161571\n",
            "412       NA 29.241253\n",
            "413    33.00 33.000000\n",
            "414       NA 32.105238\n",
            "415    44.00 44.000000\n",
            "416       NA 37.644213\n",
            "417    34.00 34.000000\n",
            "418    18.00 18.000000\n",
            "419    30.00 30.000000\n",
            "420    10.00 10.000000\n",
            "421       NA 30.073001\n",
            "422    21.00 21.000000\n",
            "423    29.00 29.000000\n",
            "424    28.00 28.000000\n",
            "425    18.00 18.000000\n",
            "426       NA 30.244033\n",
            "427    28.00 28.000000\n",
            "428    19.00 19.000000\n",
            "429       NA 40.251269\n",
            "430    32.00 32.000000\n",
            "431    28.00 28.000000\n",
            "432       NA 27.220280\n",
            "433    42.00 42.000000\n",
            "434    17.00 17.000000\n",
            "435    50.00 50.000000\n",
            "436    14.00 14.000000\n",
            "437    21.00 21.000000\n",
            "438    24.00 24.000000\n",
            "439    64.00 64.000000\n",
            "440    31.00 31.000000\n",
            "441    45.00 45.000000\n",
            "442    20.00 20.000000\n",
            "443    25.00 25.000000\n",
            "444    28.00 28.000000\n",
            "445       NA 28.140729\n",
            "446     4.00  4.000000\n",
            "447    13.00 13.000000\n",
            "448    34.00 34.000000\n",
            "449     5.00  5.000000\n",
            "450    52.00 52.000000\n",
            "451    36.00 36.000000\n",
            "452       NA 27.535173\n",
            "453    30.00 30.000000\n",
            "454    49.00 49.000000\n",
            "455       NA 29.550672\n",
            "456    29.00 29.000000\n",
            "457    65.00 65.000000\n",
            "458       NA 41.813248\n",
            "459    50.00 50.000000\n",
            "460       NA 40.251269\n",
            "461    48.00 48.000000\n",
            "462    34.00 34.000000\n",
            "463    47.00 47.000000\n",
            "464    48.00 48.000000\n",
            "465       NA 29.550672\n",
            "466    38.00 38.000000\n",
            "467       NA 32.105238\n",
            "468    56.00 56.000000\n",
            "469       NA 31.007672\n",
            "470     0.75  0.750000\n",
            "471       NA 30.244033\n",
            "472    38.00 38.000000\n",
            "473    33.00 33.000000\n",
            "474    23.00 23.000000\n",
            "475    22.00 22.000000\n",
            "476       NA 42.963094\n",
            "477    34.00 34.000000\n",
            "478    29.00 29.000000\n",
            "479    22.00 22.000000\n",
            "480     2.00  2.000000\n",
            "481     9.00  9.000000\n",
            "482       NA 37.479356\n",
            "483    50.00 50.000000\n",
            "484    63.00 63.000000\n",
            "485    25.00 25.000000\n",
            "486       NA  5.911615\n",
            "487    35.00 35.000000\n",
            "488    58.00 58.000000\n",
            "489    30.00 30.000000\n",
            "490     9.00  9.000000\n",
            "491       NA 27.535173\n",
            "492    21.00 21.000000\n",
            "493    55.00 55.000000\n",
            "494    71.00 71.000000\n",
            "495    21.00 21.000000\n",
            "496       NA 23.971224\n",
            "497    54.00 54.000000\n",
            "498       NA 30.246147\n",
            "499    25.00 25.000000\n",
            "500    24.00 24.000000\n",
            "501    17.00 17.000000\n",
            "502    21.00 21.000000\n",
            "503       NA 23.802604\n",
            "504    37.00 37.000000\n",
            "505    16.00 16.000000\n",
            "506    18.00 18.000000\n",
            "507    33.00 33.000000\n",
            "508       NA 42.227016\n",
            "509    28.00 28.000000\n",
            "510    26.00 26.000000\n",
            "511    29.00 29.000000\n",
            "512       NA 29.550672\n",
            "513    36.00 36.000000\n",
            "514    54.00 54.000000\n",
            "515    24.00 24.000000\n",
            "516    47.00 47.000000\n",
            "517    34.00 34.000000\n",
            "518       NA 35.977999\n",
            "519    36.00 36.000000\n",
            "520    32.00 32.000000\n",
            "521    30.00 30.000000\n",
            "522    22.00 22.000000\n",
            "523       NA 30.984529\n",
            "524    44.00 44.000000\n",
            "525       NA 28.991235\n",
            "526    40.50 40.500000\n",
            "527    50.00 50.000000\n",
            "528       NA 39.482523\n",
            "529    39.00 39.000000\n",
            "530    23.00 23.000000\n",
            "531     2.00  2.000000\n",
            "532       NA 28.991235\n",
            "533    17.00 17.000000\n",
            "534       NA 30.195056\n",
            "535    30.00 30.000000\n",
            "536     7.00  7.000000\n",
            "537    45.00 45.000000\n",
            "538    30.00 30.000000\n",
            "539       NA 30.268268\n",
            "540    22.00 22.000000\n",
            "541    36.00 36.000000\n",
            "542     9.00  9.000000\n",
            "543    11.00 11.000000\n",
            "544    32.00 32.000000\n",
            "545    50.00 50.000000\n",
            "546    64.00 64.000000\n",
            "547    19.00 19.000000\n",
            "548       NA 31.900113\n",
            "549    33.00 33.000000\n",
            "550     8.00  8.000000\n",
            "551    17.00 17.000000\n",
            "552    27.00 27.000000\n",
            "553       NA 38.217459\n",
            "554    22.00 22.000000\n",
            "555    22.00 22.000000\n",
            "556    62.00 62.000000\n",
            "557    48.00 48.000000\n",
            "558       NA 26.733177\n",
            "559    39.00 39.000000\n",
            "560    36.00 36.000000\n",
            "561       NA 40.251269\n",
            "562    40.00 40.000000\n",
            "563    28.00 28.000000\n",
            "564       NA 29.550672\n",
            "565       NA 25.158254\n",
            "566    24.00 24.000000\n",
            "567    19.00 19.000000\n",
            "568    29.00 29.000000\n",
            "569       NA 28.991235\n",
            "570    32.00 32.000000\n",
            "571    62.00 62.000000\n",
            "572    53.00 53.000000\n",
            "573    36.00 36.000000\n",
            "574       NA 20.387434\n",
            "575    16.00 16.000000\n",
            "576    19.00 19.000000\n",
            "577    34.00 34.000000\n",
            "578    39.00 39.000000\n",
            "579       NA 31.064125\n",
            "580    32.00 32.000000\n",
            "581    25.00 25.000000\n",
            "582    39.00 39.000000\n",
            "583    54.00 54.000000\n",
            "584    36.00 36.000000\n",
            "585       NA 29.782751\n",
            "586    18.00 18.000000\n",
            "587    47.00 47.000000\n",
            "588    60.00 60.000000\n",
            "589    22.00 22.000000\n",
            "590       NA 29.550672\n",
            "591    35.00 35.000000\n",
            "592    52.00 52.000000\n",
            "593    47.00 47.000000\n",
            "594       NA 12.778471\n",
            "595    37.00 37.000000\n",
            "596    36.00 36.000000\n",
            "597       NA 22.923962\n",
            "598    49.00 49.000000\n",
            "599       NA 30.984529\n",
            "600    49.00 49.000000\n",
            "601    24.00 24.000000\n",
            "602       NA 28.161571\n",
            "603       NA 43.815996\n",
            "604    44.00 44.000000\n",
            "605    35.00 35.000000\n",
            "606    36.00 36.000000\n",
            "607    30.00 30.000000\n",
            "608    27.00 27.000000\n",
            "609    22.00 22.000000\n",
            "610    40.00 40.000000\n",
            "611    39.00 39.000000\n",
            "612       NA 30.482686\n",
            "613       NA 16.871176\n",
            "614       NA 40.251269\n",
            "615    35.00 35.000000\n",
            "616    24.00 24.000000\n",
            "617    34.00 34.000000\n",
            "618    26.00 26.000000\n",
            "619     4.00  4.000000\n",
            "620    26.00 26.000000\n",
            "621    27.00 27.000000\n",
            "622    42.00 42.000000\n",
            "623    20.00 20.000000\n",
            "624    21.00 21.000000\n",
            "625    21.00 21.000000\n",
            "626    61.00 61.000000\n",
            "627    57.00 57.000000\n",
            "628    21.00 21.000000\n",
            "629    26.00 26.000000\n",
            "630       NA 31.007672\n",
            "631    80.00 80.000000\n",
            "632    51.00 51.000000\n",
            "633    32.00 32.000000\n",
            "634       NA 41.742450\n",
            "635     9.00  9.000000\n",
            "636    28.00 28.000000\n",
            "637    32.00 32.000000\n",
            "638    31.00 31.000000\n",
            "639    41.00 41.000000\n",
            "640       NA 27.327968\n",
            "641    20.00 20.000000\n",
            "642    24.00 24.000000\n",
            "643     2.00  2.000000\n",
            "644       NA 29.697867\n",
            "645     0.75  0.750000\n",
            "646    48.00 48.000000\n",
            "647    19.00 19.000000\n",
            "648    56.00 56.000000\n",
            "649       NA 30.118497\n",
            "650    23.00 23.000000\n",
            "651       NA 28.161571\n",
            "652    18.00 18.000000\n",
            "653    21.00 21.000000\n",
            "654       NA 19.773304\n",
            "655    18.00 18.000000\n",
            "656    24.00 24.000000\n",
            "657       NA 28.161571\n",
            "658    32.00 32.000000\n",
            "659    23.00 23.000000\n",
            "660    58.00 58.000000\n",
            "661    50.00 50.000000\n",
            "662    40.00 40.000000\n",
            "663    47.00 47.000000\n",
            "664    36.00 36.000000\n",
            "665    20.00 20.000000\n",
            "666    32.00 32.000000\n",
            "667    25.00 25.000000\n",
            "668       NA 28.610325\n",
            "669    43.00 43.000000\n",
            "670       NA 35.675588\n",
            "671    40.00 40.000000\n",
            "672    31.00 31.000000\n",
            "673    70.00 70.000000\n",
            "674    31.00 31.000000\n",
            "675       NA 37.479356\n",
            "676    18.00 18.000000\n",
            "677    24.50 24.500000\n",
            "678    18.00 18.000000\n",
            "679    43.00 43.000000\n",
            "680    36.00 36.000000\n",
            "681       NA 23.308340\n",
            "682    27.00 27.000000\n",
            "683    20.00 20.000000\n",
            "684    14.00 14.000000\n",
            "685    60.00 60.000000\n",
            "686    25.00 25.000000\n",
            "687    14.00 14.000000\n",
            "688    19.00 19.000000\n",
            "689    18.00 18.000000\n",
            "690    15.00 15.000000\n",
            "691    31.00 31.000000\n",
            "692     4.00  4.000000\n",
            "693       NA 29.697867\n",
            "694    25.00 25.000000\n",
            "695    60.00 60.000000\n",
            "696    52.00 52.000000\n",
            "697    44.00 44.000000\n",
            "698       NA 19.541409\n",
            "699    49.00 49.000000\n",
            "700    42.00 42.000000\n",
            "701    18.00 18.000000\n",
            "702    35.00 35.000000\n",
            "703    18.00 18.000000\n",
            "704    25.00 25.000000\n",
            "705    26.00 26.000000\n",
            "706    39.00 39.000000\n",
            "707    45.00 45.000000\n",
            "708    42.00 42.000000\n",
            "709    22.00 22.000000\n",
            "710       NA  6.177469\n",
            "711    24.00 24.000000\n",
            "712       NA 51.824672\n",
            "713    48.00 48.000000\n",
            "714    29.00 29.000000\n",
            "715    52.00 52.000000\n",
            "716    19.00 19.000000\n",
            "717    38.00 38.000000\n",
            "718    27.00 27.000000\n",
            "719       NA 37.949810\n",
            "720    33.00 33.000000\n",
            "721     6.00  6.000000\n",
            "722    17.00 17.000000\n",
            "723    34.00 34.000000\n",
            "724    50.00 50.000000\n",
            "725    27.00 27.000000\n",
            "726    20.00 20.000000\n",
            "727    30.00 30.000000\n",
            "728       NA 19.541409\n",
            "729    25.00 25.000000\n",
            "730    25.00 25.000000\n",
            "731    29.00 29.000000\n",
            "732    11.00 11.000000\n",
            "733       NA 37.479356\n",
            "734    23.00 23.000000\n",
            "735    23.00 23.000000\n",
            "736    28.50 28.500000\n",
            "737    48.00 48.000000\n",
            "738    35.00 35.000000\n",
            "739       NA 28.161571\n",
            "740       NA 28.161571\n",
            "741       NA 45.800754\n",
            "742    36.00 36.000000\n",
            "743    21.00 21.000000\n",
            "744    24.00 24.000000\n",
            "745    31.00 31.000000\n",
            "746    70.00 70.000000\n",
            "747    16.00 16.000000\n",
            "748    30.00 30.000000\n",
            "749    19.00 19.000000\n",
            "750    31.00 31.000000\n",
            "751     4.00  4.000000\n",
            "752     6.00  6.000000\n",
            "753    33.00 33.000000\n",
            "754    23.00 23.000000\n",
            "755    48.00 48.000000\n",
            "756     0.67  0.670000\n",
            "757    28.00 28.000000\n",
            "758    18.00 18.000000\n",
            "759    34.00 34.000000\n",
            "760    33.00 33.000000\n",
            "761       NA 24.255163\n",
            "762    41.00 41.000000\n",
            "763    20.00 20.000000\n",
            "764    36.00 36.000000\n",
            "765    16.00 16.000000\n",
            "766    51.00 51.000000\n",
            "767       NA 47.478285\n",
            "768    30.50 30.500000\n",
            "769       NA 35.850016\n",
            "770    32.00 32.000000\n",
            "771    24.00 24.000000\n",
            "772    48.00 48.000000\n",
            "773    57.00 57.000000\n",
            "774       NA 30.984529\n",
            "775    54.00 54.000000\n",
            "776    18.00 18.000000\n",
            "777       NA 40.251269\n",
            "778     5.00  5.000000\n",
            "779       NA 31.007672\n",
            "780    43.00 43.000000\n",
            "781    13.00 13.000000\n",
            "782    17.00 17.000000\n",
            "783    29.00 29.000000\n",
            "784       NA 28.543284\n",
            "785    25.00 25.000000\n",
            "786    25.00 25.000000\n",
            "787    18.00 18.000000\n",
            "788     8.00  8.000000\n",
            "789     1.00  1.000000\n",
            "790    46.00 46.000000\n",
            "791       NA 40.251269\n",
            "792    16.00 16.000000\n",
            "793       NA 14.654950\n",
            "794       NA 51.342368\n",
            "795    25.00 25.000000\n",
            "796    39.00 39.000000\n",
            "797    49.00 49.000000\n",
            "798    31.00 31.000000\n",
            "799    30.00 30.000000\n",
            "800    30.00 30.000000\n",
            "801    34.00 34.000000\n",
            "802    31.00 31.000000\n",
            "803    11.00 11.000000\n",
            "804     0.42  0.420000\n",
            "805    27.00 27.000000\n",
            "806    31.00 31.000000\n",
            "807    39.00 39.000000\n",
            "808    18.00 18.000000\n",
            "809    39.00 39.000000\n",
            "810    33.00 33.000000\n",
            "811    26.00 26.000000\n",
            "812    39.00 39.000000\n",
            "813    35.00 35.000000\n",
            "814     6.00  6.000000\n",
            "815    30.50 30.500000\n",
            "816       NA 41.742450\n",
            "817    23.00 23.000000\n",
            "818    31.00 31.000000\n",
            "819    43.00 43.000000\n",
            "820    10.00 10.000000\n",
            "821    52.00 52.000000\n",
            "822    27.00 27.000000\n",
            "823    38.00 38.000000\n",
            "824    27.00 27.000000\n",
            "825     2.00  2.000000\n",
            "826       NA 30.061253\n",
            "827       NA 28.046972\n",
            "828     1.00  1.000000\n",
            "829       NA 34.368471\n",
            "830    62.00 62.000000\n",
            "831    15.00 15.000000\n",
            "832     0.83  0.830000\n",
            "833       NA 28.991235\n",
            "834    23.00 23.000000\n",
            "835    18.00 18.000000\n",
            "836    39.00 39.000000\n",
            "837    21.00 21.000000\n",
            "838       NA 29.550672\n",
            "839    32.00 32.000000\n",
            "840       NA 37.430997\n",
            "841    20.00 20.000000\n",
            "842    16.00 16.000000\n",
            "843    30.00 30.000000\n",
            "844    34.50 34.500000\n",
            "845    17.00 17.000000\n",
            "846    42.00 42.000000\n",
            "847       NA 17.870369\n",
            "848    35.00 35.000000\n",
            "849    28.00 28.000000\n",
            "850       NA 33.067956\n",
            "851     4.00  4.000000\n",
            "852    74.00 74.000000\n",
            "853     9.00  9.000000\n",
            "854    16.00 16.000000\n",
            "855    44.00 44.000000\n",
            "856    18.00 18.000000\n",
            "857    45.00 45.000000\n",
            "858    51.00 51.000000\n",
            "859    24.00 24.000000\n",
            "860       NA 28.991235\n",
            "861    41.00 41.000000\n",
            "862    21.00 21.000000\n",
            "863    48.00 48.000000\n",
            "864       NA 14.654950\n",
            "865    24.00 24.000000\n",
            "866    42.00 42.000000\n",
            "867    27.00 27.000000\n",
            "868    31.00 31.000000\n",
            "869       NA 27.019028\n",
            "870     4.00  4.000000\n",
            "871    26.00 26.000000\n",
            "872    47.00 47.000000\n",
            "873    33.00 33.000000\n",
            "874    47.00 47.000000\n",
            "875    28.00 28.000000\n",
            "876    15.00 15.000000\n",
            "877    20.00 20.000000\n",
            "878    19.00 19.000000\n",
            "879       NA 28.161571\n",
            "880    56.00 56.000000\n",
            "881    25.00 25.000000\n",
            "882    33.00 33.000000\n",
            "883    22.00 22.000000\n",
            "884    28.00 28.000000\n",
            "885    25.00 25.000000\n",
            "886    39.00 39.000000\n",
            "887    27.00 27.000000\n",
            "888    19.00 19.000000\n",
            "889       NA  9.331429\n",
            "890    26.00 26.000000\n",
            "891    32.00 32.000000\n"
          ]
        }
      ],
      "source": [
        "%%R\n",
        "df_dif <- data.frame(\n",
        "    Original = df_titanic$Age,\n",
        "    Imputado = df_titanic_imp_rf$Age\n",
        ")\n",
        "\n",
        "print(df_dif)"
      ]
    },
    {
      "cell_type": "code",
      "execution_count": 74,
      "metadata": {},
      "outputs": [
        {
          "data": {
            "text/html": [
              "<div>\n",
              "<style scoped>\n",
              "    .dataframe tbody tr th:only-of-type {\n",
              "        vertical-align: middle;\n",
              "    }\n",
              "\n",
              "    .dataframe tbody tr th {\n",
              "        vertical-align: top;\n",
              "    }\n",
              "\n",
              "    .dataframe thead th {\n",
              "        text-align: right;\n",
              "    }\n",
              "</style>\n",
              "<table border=\"1\" class=\"dataframe\">\n",
              "  <thead>\n",
              "    <tr style=\"text-align: right;\">\n",
              "      <th></th>\n",
              "      <th>Original</th>\n",
              "      <th>Imputado</th>\n",
              "    </tr>\n",
              "  </thead>\n",
              "  <tbody>\n",
              "    <tr>\n",
              "      <th>1</th>\n",
              "      <td>22.0</td>\n",
              "      <td>22.000000</td>\n",
              "    </tr>\n",
              "    <tr>\n",
              "      <th>2</th>\n",
              "      <td>38.0</td>\n",
              "      <td>38.000000</td>\n",
              "    </tr>\n",
              "    <tr>\n",
              "      <th>3</th>\n",
              "      <td>26.0</td>\n",
              "      <td>26.000000</td>\n",
              "    </tr>\n",
              "    <tr>\n",
              "      <th>4</th>\n",
              "      <td>35.0</td>\n",
              "      <td>35.000000</td>\n",
              "    </tr>\n",
              "    <tr>\n",
              "      <th>5</th>\n",
              "      <td>35.0</td>\n",
              "      <td>35.000000</td>\n",
              "    </tr>\n",
              "    <tr>\n",
              "      <th>...</th>\n",
              "      <td>...</td>\n",
              "      <td>...</td>\n",
              "    </tr>\n",
              "    <tr>\n",
              "      <th>887</th>\n",
              "      <td>27.0</td>\n",
              "      <td>27.000000</td>\n",
              "    </tr>\n",
              "    <tr>\n",
              "      <th>888</th>\n",
              "      <td>19.0</td>\n",
              "      <td>19.000000</td>\n",
              "    </tr>\n",
              "    <tr>\n",
              "      <th>889</th>\n",
              "      <td>NaN</td>\n",
              "      <td>9.331429</td>\n",
              "    </tr>\n",
              "    <tr>\n",
              "      <th>890</th>\n",
              "      <td>26.0</td>\n",
              "      <td>26.000000</td>\n",
              "    </tr>\n",
              "    <tr>\n",
              "      <th>891</th>\n",
              "      <td>32.0</td>\n",
              "      <td>32.000000</td>\n",
              "    </tr>\n",
              "  </tbody>\n",
              "</table>\n",
              "<p>891 rows × 2 columns</p>\n",
              "</div>"
            ],
            "text/plain": [
              "     Original   Imputado\n",
              "1        22.0  22.000000\n",
              "2        38.0  38.000000\n",
              "3        26.0  26.000000\n",
              "4        35.0  35.000000\n",
              "5        35.0  35.000000\n",
              "..        ...        ...\n",
              "887      27.0  27.000000\n",
              "888      19.0  19.000000\n",
              "889       NaN   9.331429\n",
              "890      26.0  26.000000\n",
              "891      32.0  32.000000\n",
              "\n",
              "[891 rows x 2 columns]"
            ]
          },
          "execution_count": 74,
          "metadata": {},
          "output_type": "execute_result"
        }
      ],
      "source": [
        "pd.DataFrame({\n",
        "    \"Original\": df_titanic[\"Age\"],\n",
        "    \"Imputado\": df_titanic_imp_rf[\"Age\"]\n",
        "})"
      ]
    }
  ],
  "metadata": {
    "colab": {
      "provenance": []
    },
    "kernelspec": {
      "display_name": "Python 3",
      "name": "python3"
    },
    "language_info": {
      "codemirror_mode": {
        "name": "ipython",
        "version": 3
      },
      "file_extension": ".py",
      "mimetype": "text/x-python",
      "name": "python",
      "nbconvert_exporter": "python",
      "pygments_lexer": "ipython3",
      "version": "3.12.4"
    }
  },
  "nbformat": 4,
  "nbformat_minor": 0
}
