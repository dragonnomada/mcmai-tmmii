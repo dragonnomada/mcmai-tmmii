{
 "cells": [
  {
   "cell_type": "markdown",
   "id": "54979850",
   "metadata": {},
   "source": [
    "# Introducción a Python\n",
    "\n",
    "Universidad Autónoma Metropolitana - Unidad Iztapalapa (UAM-I)\n",
    "\n",
    "Maestría en Matemáticas Aplicadas e Industriales (MCMAI)\n",
    "\n",
    "Taller de Modelado Matemático II - Parte I\n",
    "\n",
    "Trimestre 25-P\n",
    "\n",
    "Profesor: Dr. Alejandro Román Vásquez\n",
    "\n",
    "Alumno: Alan Badillo Salas"
   ]
  },
  {
   "cell_type": "code",
   "execution_count": 3,
   "id": "76e1f954",
   "metadata": {},
   "outputs": [],
   "source": [
    "import keras"
   ]
  },
  {
   "cell_type": "code",
   "execution_count": 13,
   "id": "bf83cc66",
   "metadata": {},
   "outputs": [
    {
     "data": {
      "text/html": [
       "<div>\n",
       "<style scoped>\n",
       "    .dataframe tbody tr th:only-of-type {\n",
       "        vertical-align: middle;\n",
       "    }\n",
       "\n",
       "    .dataframe tbody tr th {\n",
       "        vertical-align: top;\n",
       "    }\n",
       "\n",
       "    .dataframe thead th {\n",
       "        text-align: right;\n",
       "    }\n",
       "</style>\n",
       "<table border=\"1\" class=\"dataframe\">\n",
       "  <thead>\n",
       "    <tr style=\"text-align: right;\">\n",
       "      <th></th>\n",
       "      <th>x1</th>\n",
       "      <th>x2</th>\n",
       "      <th>y</th>\n",
       "    </tr>\n",
       "  </thead>\n",
       "  <tbody>\n",
       "    <tr>\n",
       "      <th>0</th>\n",
       "      <td>0</td>\n",
       "      <td>0</td>\n",
       "      <td>0</td>\n",
       "    </tr>\n",
       "    <tr>\n",
       "      <th>1</th>\n",
       "      <td>0</td>\n",
       "      <td>1</td>\n",
       "      <td>1</td>\n",
       "    </tr>\n",
       "    <tr>\n",
       "      <th>2</th>\n",
       "      <td>1</td>\n",
       "      <td>0</td>\n",
       "      <td>1</td>\n",
       "    </tr>\n",
       "    <tr>\n",
       "      <th>3</th>\n",
       "      <td>1</td>\n",
       "      <td>1</td>\n",
       "      <td>0</td>\n",
       "    </tr>\n",
       "  </tbody>\n",
       "</table>\n",
       "</div>"
      ],
      "text/plain": [
       "   x1  x2  y\n",
       "0   0   0  0\n",
       "1   0   1  1\n",
       "2   1   0  1\n",
       "3   1   1  0"
      ]
     },
     "execution_count": 13,
     "metadata": {},
     "output_type": "execute_result"
    }
   ],
   "source": [
    "import pandas\n",
    "import numpy\n",
    "\n",
    "D = pandas.DataFrame(numpy.array([\n",
    "    [0, 0, 0],\n",
    "    [0, 1, 1],\n",
    "    [1, 0, 1],\n",
    "    [1, 1, 0],\n",
    "]), columns=[\"x1\", \"x2\", \"y\"])\n",
    "\n",
    "D.head()"
   ]
  },
  {
   "cell_type": "code",
   "execution_count": 14,
   "id": "b608170d",
   "metadata": {},
   "outputs": [
    {
     "data": {
      "text/plain": [
       "((4, 2), (4,))"
      ]
     },
     "execution_count": 14,
     "metadata": {},
     "output_type": "execute_result"
    }
   ],
   "source": [
    "X = D.values[:, 0:2]\n",
    "\n",
    "Y = D.values[:, 2]\n",
    "\n",
    "X.shape, Y.shape"
   ]
  },
  {
   "cell_type": "code",
   "execution_count": 30,
   "id": "35404eb3",
   "metadata": {},
   "outputs": [
    {
     "data": {
      "text/html": [
       "<div>\n",
       "<style scoped>\n",
       "    .dataframe tbody tr th:only-of-type {\n",
       "        vertical-align: middle;\n",
       "    }\n",
       "\n",
       "    .dataframe tbody tr th {\n",
       "        vertical-align: top;\n",
       "    }\n",
       "\n",
       "    .dataframe thead th {\n",
       "        text-align: right;\n",
       "    }\n",
       "</style>\n",
       "<table border=\"1\" class=\"dataframe\">\n",
       "  <thead>\n",
       "    <tr style=\"text-align: right;\">\n",
       "      <th></th>\n",
       "      <th>x1</th>\n",
       "      <th>x2</th>\n",
       "      <th>y</th>\n",
       "    </tr>\n",
       "  </thead>\n",
       "  <tbody>\n",
       "    <tr>\n",
       "      <th>0</th>\n",
       "      <td>0</td>\n",
       "      <td>0</td>\n",
       "      <td>0</td>\n",
       "    </tr>\n",
       "    <tr>\n",
       "      <th>3</th>\n",
       "      <td>1</td>\n",
       "      <td>1</td>\n",
       "      <td>0</td>\n",
       "    </tr>\n",
       "  </tbody>\n",
       "</table>\n",
       "</div>"
      ],
      "text/plain": [
       "   x1  x2  y\n",
       "0   0   0  0\n",
       "3   1   1  0"
      ]
     },
     "execution_count": 30,
     "metadata": {},
     "output_type": "execute_result"
    }
   ],
   "source": [
    "D[D[\"y\"] == 0]"
   ]
  },
  {
   "cell_type": "code",
   "execution_count": 59,
   "id": "0db64e03",
   "metadata": {},
   "outputs": [
    {
     "data": {
      "image/png": "[encoded data removed]",
      "text/plain": [
       "<Figure size 640x480 with 1 Axes>"
      ]
     },
     "metadata": {},
     "output_type": "display_data"
    }
   ],
   "source": [
    "import matplotlib.pyplot as pyplot\n",
    "\n",
    "for c in D[\"y\"].unique():\n",
    "    A = D[D[\"y\"] == c]\n",
    "    x1 = A.values[:, 0]\n",
    "    x2 = A.values[:, 1]\n",
    "    y = A.values[:, 2]\n",
    "    pyplot.scatter(x1, x2, c={0: \"magenta\", 1: \"cyan\"}[c], label=f\"y={c}\")\n",
    "pyplot.legend()\n",
    "pyplot.show()"
   ]
  },
  {
   "cell_type": "code",
   "execution_count": 60,
   "id": "0142d96e",
   "metadata": {},
   "outputs": [
    {
     "name": "stdout",
     "output_type": "stream",
     "text": [
      "0 0 0\n",
      "1 1 0\n",
      "0 1 1\n",
      "1 0 1\n"
     ]
    },
    {
     "data": {
      "image/png": "[encoded data removed]",
      "text/plain": [
       "<Figure size 640x480 with 1 Axes>"
      ]
     },
     "metadata": {},
     "output_type": "display_data"
    }
   ],
   "source": [
    "for c in D[\"y\"].unique():\n",
    "    A = D[D[\"y\"] == c]\n",
    "    x1 = A.values[:, 0]\n",
    "    x2 = A.values[:, 1]\n",
    "    y = A.values[:, 2]\n",
    "    for x1i, x2i in zip(x1, x2):\n",
    "        print(x1i, x2i, c)\n",
    "        for j in range(100):\n",
    "            x1j = numpy.random.normal(x1i, 0.1)\n",
    "            x2j = numpy.random.normal(x2i, 0.1)\n",
    "            pyplot.scatter([x1j], [x2j], c={0: \"red\", 1: \"blue\"}[c], alpha=0.5)    \n",
    "    pyplot.scatter(x1, x2, c={0: \"magenta\", 1: \"cyan\"}[c], label=f\"y={c}\")\n",
    "pyplot.legend()\n",
    "pyplot.show()"
   ]
  },
  {
   "cell_type": "code",
   "execution_count": 19,
   "id": "ad0e8318",
   "metadata": {},
   "outputs": [
    {
     "data": {
      "text/html": [
       "<div>\n",
       "<style scoped>\n",
       "    .dataframe tbody tr th:only-of-type {\n",
       "        vertical-align: middle;\n",
       "    }\n",
       "\n",
       "    .dataframe tbody tr th {\n",
       "        vertical-align: top;\n",
       "    }\n",
       "\n",
       "    .dataframe thead tr th {\n",
       "        text-align: left;\n",
       "    }\n",
       "\n",
       "    .dataframe thead tr:last-of-type th {\n",
       "        text-align: right;\n",
       "    }\n",
       "</style>\n",
       "<table border=\"1\" class=\"dataframe\">\n",
       "  <thead>\n",
       "    <tr>\n",
       "      <th></th>\n",
       "      <th colspan=\"2\" halign=\"left\">y</th>\n",
       "    </tr>\n",
       "    <tr>\n",
       "      <th>x2</th>\n",
       "      <th>0</th>\n",
       "      <th>1</th>\n",
       "    </tr>\n",
       "    <tr>\n",
       "      <th>x1</th>\n",
       "      <th></th>\n",
       "      <th></th>\n",
       "    </tr>\n",
       "  </thead>\n",
       "  <tbody>\n",
       "    <tr>\n",
       "      <th>0</th>\n",
       "      <td>0</td>\n",
       "      <td>1</td>\n",
       "    </tr>\n",
       "    <tr>\n",
       "      <th>1</th>\n",
       "      <td>1</td>\n",
       "      <td>0</td>\n",
       "    </tr>\n",
       "  </tbody>\n",
       "</table>\n",
       "</div>"
      ],
      "text/plain": [
       "    y   \n",
       "x2  0  1\n",
       "x1      \n",
       "0   0  1\n",
       "1   1  0"
      ]
     },
     "execution_count": 19,
     "metadata": {},
     "output_type": "execute_result"
    }
   ],
   "source": [
    "D.groupby([\"x1\", \"x2\"]).sum().unstack()"
   ]
  },
  {
   "cell_type": "code",
   "execution_count": 20,
   "id": "be02db53",
   "metadata": {},
   "outputs": [
    {
     "data": {
      "text/plain": [
       "<Axes: xlabel='None-x2', ylabel='x1'>"
      ]
     },
     "execution_count": 20,
     "metadata": {},
     "output_type": "execute_result"
    },
    {
     "data": {
      "image/png": "[encoded data removed]",
      "text/plain": [
       "<Figure size 640x480 with 2 Axes>"
      ]
     },
     "metadata": {},
     "output_type": "display_data"
    }
   ],
   "source": [
    "import seaborn\n",
    "\n",
    "seaborn.heatmap(D.groupby([\"x1\", \"x2\"]).sum().unstack())"
   ]
  },
  {
   "cell_type": "code",
   "execution_count": 65,
   "id": "b0ce2621",
   "metadata": {},
   "outputs": [
    {
     "name": "stdout",
     "output_type": "stream",
     "text": [
      "0 0 0\n",
      "1 1 0\n",
      "0 1 1\n",
      "1 0 1\n"
     ]
    },
    {
     "data": {
      "text/html": [
       "<div>\n",
       "<style scoped>\n",
       "    .dataframe tbody tr th:only-of-type {\n",
       "        vertical-align: middle;\n",
       "    }\n",
       "\n",
       "    .dataframe tbody tr th {\n",
       "        vertical-align: top;\n",
       "    }\n",
       "\n",
       "    .dataframe thead th {\n",
       "        text-align: right;\n",
       "    }\n",
       "</style>\n",
       "<table border=\"1\" class=\"dataframe\">\n",
       "  <thead>\n",
       "    <tr style=\"text-align: right;\">\n",
       "      <th></th>\n",
       "      <th>x1</th>\n",
       "      <th>x2</th>\n",
       "      <th>d1</th>\n",
       "      <th>d2</th>\n",
       "      <th>y</th>\n",
       "    </tr>\n",
       "  </thead>\n",
       "  <tbody>\n",
       "    <tr>\n",
       "      <th>366</th>\n",
       "      <td>0.891937</td>\n",
       "      <td>0.025763</td>\n",
       "      <td>-0.108063</td>\n",
       "      <td>0.025763</td>\n",
       "      <td>1</td>\n",
       "    </tr>\n",
       "    <tr>\n",
       "      <th>9</th>\n",
       "      <td>0.008993</td>\n",
       "      <td>0.000091</td>\n",
       "      <td>0.008993</td>\n",
       "      <td>0.000091</td>\n",
       "      <td>0</td>\n",
       "    </tr>\n",
       "    <tr>\n",
       "      <th>232</th>\n",
       "      <td>0.021436</td>\n",
       "      <td>1.041319</td>\n",
       "      <td>0.021436</td>\n",
       "      <td>0.041319</td>\n",
       "      <td>1</td>\n",
       "    </tr>\n",
       "    <tr>\n",
       "      <th>361</th>\n",
       "      <td>1.093107</td>\n",
       "      <td>0.033112</td>\n",
       "      <td>0.093107</td>\n",
       "      <td>0.033112</td>\n",
       "      <td>1</td>\n",
       "    </tr>\n",
       "    <tr>\n",
       "      <th>186</th>\n",
       "      <td>1.012018</td>\n",
       "      <td>1.097619</td>\n",
       "      <td>0.012018</td>\n",
       "      <td>0.097619</td>\n",
       "      <td>0</td>\n",
       "    </tr>\n",
       "    <tr>\n",
       "      <th>313</th>\n",
       "      <td>0.765653</td>\n",
       "      <td>0.056598</td>\n",
       "      <td>-0.234347</td>\n",
       "      <td>0.056598</td>\n",
       "      <td>1</td>\n",
       "    </tr>\n",
       "    <tr>\n",
       "      <th>258</th>\n",
       "      <td>-0.022250</td>\n",
       "      <td>1.189405</td>\n",
       "      <td>-0.022250</td>\n",
       "      <td>0.189405</td>\n",
       "      <td>1</td>\n",
       "    </tr>\n",
       "    <tr>\n",
       "      <th>169</th>\n",
       "      <td>0.945094</td>\n",
       "      <td>0.970446</td>\n",
       "      <td>-0.054906</td>\n",
       "      <td>-0.029554</td>\n",
       "      <td>0</td>\n",
       "    </tr>\n",
       "    <tr>\n",
       "      <th>255</th>\n",
       "      <td>-0.056632</td>\n",
       "      <td>1.123376</td>\n",
       "      <td>-0.056632</td>\n",
       "      <td>0.123376</td>\n",
       "      <td>1</td>\n",
       "    </tr>\n",
       "    <tr>\n",
       "      <th>384</th>\n",
       "      <td>1.197994</td>\n",
       "      <td>0.072705</td>\n",
       "      <td>0.197994</td>\n",
       "      <td>0.072705</td>\n",
       "      <td>1</td>\n",
       "    </tr>\n",
       "  </tbody>\n",
       "</table>\n",
       "</div>"
      ],
      "text/plain": [
       "           x1        x2        d1        d2  y\n",
       "366  0.891937  0.025763 -0.108063  0.025763  1\n",
       "9    0.008993  0.000091  0.008993  0.000091  0\n",
       "232  0.021436  1.041319  0.021436  0.041319  1\n",
       "361  1.093107  0.033112  0.093107  0.033112  1\n",
       "186  1.012018  1.097619  0.012018  0.097619  0\n",
       "313  0.765653  0.056598 -0.234347  0.056598  1\n",
       "258 -0.022250  1.189405 -0.022250  0.189405  1\n",
       "169  0.945094  0.970446 -0.054906 -0.029554  0\n",
       "255 -0.056632  1.123376 -0.056632  0.123376  1\n",
       "384  1.197994  0.072705  0.197994  0.072705  1"
      ]
     },
     "execution_count": 65,
     "metadata": {},
     "output_type": "execute_result"
    }
   ],
   "source": [
    "E = []\n",
    "\n",
    "for c in D[\"y\"].unique():\n",
    "    A = D[D[\"y\"] == c]\n",
    "    x1 = A.values[:, 0]\n",
    "    x2 = A.values[:, 1]\n",
    "    y = A.values[:, 2]\n",
    "    for x1i, x2i in zip(x1, x2):\n",
    "        print(x1i, x2i, c)\n",
    "        for j in range(100):\n",
    "            x1j = numpy.random.normal(x1i, 0.1)\n",
    "            x2j = numpy.random.normal(x2i, 0.1)\n",
    "            E.append((x1j, x2j, x1j - x1i, x2j - x2i, c))\n",
    "    E.append((x1i, x2i, 0, 0, c))\n",
    "\n",
    "E = pandas.DataFrame(E, columns=[\"x1\", \"x2\", \"d1\", \"d2\", \"y\"])\n",
    "\n",
    "E.sample(10)"
   ]
  },
  {
   "cell_type": "code",
   "execution_count": 66,
   "id": "87cd16ec",
   "metadata": {},
   "outputs": [
    {
     "data": {
      "text/plain": [
       "((402, 4), (402,))"
      ]
     },
     "execution_count": 66,
     "metadata": {},
     "output_type": "execute_result"
    }
   ],
   "source": [
    "X = E[[\"x1\", \"x2\", \"d1\", \"d2\"]].values\n",
    "Y = E[\"y\"].values\n",
    "\n",
    "X.shape, Y.shape"
   ]
  },
  {
   "cell_type": "code",
   "execution_count": 67,
   "id": "5a271655",
   "metadata": {},
   "outputs": [
    {
     "data": {
      "text/plain": [
       "((301, 4), (101, 4), (301,), (101,))"
      ]
     },
     "execution_count": 67,
     "metadata": {},
     "output_type": "execute_result"
    }
   ],
   "source": [
    "from sklearn.model_selection import train_test_split\n",
    "\n",
    "X_train, X_test, y_train, y_test = train_test_split(X, Y)\n",
    "\n",
    "X_train.shape, X_test.shape, y_train.shape, y_test.shape"
   ]
  },
  {
   "cell_type": "code",
   "execution_count": 92,
   "id": "4f5b9869",
   "metadata": {},
   "outputs": [
    {
     "data": {
      "text/plain": [
       "1.0"
      ]
     },
     "execution_count": 92,
     "metadata": {},
     "output_type": "execute_result"
    }
   ],
   "source": [
    "from sklearn.svm import SVC\n",
    "\n",
    "clf = SVC(kernel=\"rbf\")\n",
    "\n",
    "clf.fit(X_train, y_train)\n",
    "\n",
    "clf.score(X_test, y_test)"
   ]
  },
  {
   "cell_type": "code",
   "execution_count": 93,
   "id": "14951a0d",
   "metadata": {},
   "outputs": [
    {
     "data": {
      "text/plain": [
       "array([0, 0, 0, ..., 0, 0, 0])"
      ]
     },
     "execution_count": 93,
     "metadata": {},
     "output_type": "execute_result"
    }
   ],
   "source": [
    "x1p = numpy.linspace(-1, 2, 10)\n",
    "x2p = numpy.linspace(-1, 2, 10)\n",
    "d1p = numpy.zeros(10)\n",
    "d2p = numpy.zeros(10)\n",
    "\n",
    "X1p, X2p, D1p, D2p = numpy.meshgrid(x1p, x2p, d1p, d2p)\n",
    "\n",
    "X_grid = numpy.c_[X1p.ravel(), X2p.ravel(), D1p.ravel(), D2p.ravel()]\n",
    "\n",
    "yp = clf.predict(X_grid)\n",
    "\n",
    "yp"
   ]
  },
  {
   "cell_type": "code",
   "execution_count": 94,
   "id": "9b2eeced",
   "metadata": {},
   "outputs": [
    {
     "data": {
      "text/plain": [
       "<matplotlib.collections.PathCollection at 0x17aea5ac0>"
      ]
     },
     "execution_count": 94,
     "metadata": {},
     "output_type": "execute_result"
    },
    {
     "data": {
      "image/png": "[encoded data removed]",
      "text/plain": [
       "<Figure size 640x480 with 1 Axes>"
      ]
     },
     "metadata": {},
     "output_type": "display_data"
    }
   ],
   "source": [
    "pyplot.scatter(X1p, X2p, c=yp)"
   ]
  }
 ],
 "metadata": {
  "kernelspec": {
   "display_name": "Python 3",
   "language": "python",
   "name": "python3"
  },
  "language_info": {
   "codemirror_mode": {
    "name": "ipython",
    "version": 3
   },
   "file_extension": ".py",
   "mimetype": "text/x-python",
   "name": "python",
   "nbconvert_exporter": "python",
   "pygments_lexer": "ipython3",
   "version": "3.12.4"
  }
 },
 "nbformat": 4,
 "nbformat_minor": 5
}
