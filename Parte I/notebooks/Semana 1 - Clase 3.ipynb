{
 "cells": [
  {
   "cell_type": "markdown",
   "id": "5f31e072",
   "metadata": {},
   "source": [
    "# Manejo de Módulos\n",
    "\n",
    "Universidad Autónoma Metropolitana - Unidad Iztapalapa (UAM-I)\n",
    "\n",
    "Maestría en Matemáticas Aplicadas e Industriales (MCMAI)\n",
    "\n",
    "Taller de Modelado Matemático II - Parte I\n",
    "\n",
    "Trimestre 25-P\n",
    "\n",
    "Profesor: Dr. Alejandro Román Vásquez\n",
    "\n",
    "Alumno: Alan Badillo Salas"
   ]
  },
  {
   "cell_type": "code",
   "execution_count": 2,
   "id": "8eb2a6dd",
   "metadata": {},
   "outputs": [
    {
     "name": "stdout",
     "output_type": "stream",
     "text": [
      "      May 2025\n",
      "Mo Tu We Th Fr Sa Su\n",
      "          1  2  3  4\n",
      " 5  6  7  8  9 10 11\n",
      "12 13 14 15 16 17 18\n",
      "19 20 21 22 23 24 25\n",
      "26 27 28 29 30 31\n",
      "\n"
     ]
    }
   ],
   "source": [
    "import calendar\n",
    "\n",
    "print(calendar.month(2025, 5))"
   ]
  },
  {
   "cell_type": "code",
   "execution_count": 3,
   "id": "caee32b1",
   "metadata": {},
   "outputs": [
    {
     "name": "stdout",
     "output_type": "stream",
     "text": [
      "      May 2025\n",
      "Mo Tu We Th Fr Sa Su\n",
      "          1  2  3  4\n",
      " 5  6  7  8  9 10 11\n",
      "12 13 14 15 16 17 18\n",
      "19 20 21 22 23 24 25\n",
      "26 27 28 29 30 31\n",
      "\n"
     ]
    }
   ],
   "source": [
    "import calendar as ca\n",
    "\n",
    "print(ca.month(2025, 5))"
   ]
  },
  {
   "cell_type": "code",
   "execution_count": 4,
   "id": "5ff4941f",
   "metadata": {},
   "outputs": [
    {
     "name": "stdout",
     "output_type": "stream",
     "text": [
      "      May 2025\n",
      "Mo Tu We Th Fr Sa Su\n",
      "          1  2  3  4\n",
      " 5  6  7  8  9 10 11\n",
      "12 13 14 15 16 17 18\n",
      "19 20 21 22 23 24 25\n",
      "26 27 28 29 30 31\n",
      "\n"
     ]
    }
   ],
   "source": [
    "from calendar import month\n",
    "\n",
    "print(month(2025, 5))"
   ]
  },
  {
   "cell_type": "markdown",
   "id": "28d1c114",
   "metadata": {},
   "source": [
    "* `sys`\n",
    "* `os`\n",
    "* `io`\n",
    "* `string`\n",
    "* `datetime`\n",
    "* `math`\n",
    "* `statistics`\n",
    "\n",
    "* `numpy`\n",
    "* `scipy`\n",
    "* `pandas`\n",
    "* `matplotlib`\n",
    "* `request`"
   ]
  },
  {
   "cell_type": "markdown",
   "id": "95f14553",
   "metadata": {},
   "source": [
    "# Paquete de Numpy"
   ]
  },
  {
   "cell_type": "code",
   "execution_count": 5,
   "id": "9ba1f343",
   "metadata": {},
   "outputs": [],
   "source": [
    "import numpy"
   ]
  },
  {
   "cell_type": "markdown",
   "id": "e8efeb63",
   "metadata": {},
   "source": [
    "## Ejercicio: Matriz de $4 \\times 4$ y su centro de $2 \\times 2$"
   ]
  },
  {
   "cell_type": "code",
   "execution_count": 7,
   "id": "9fddcf50",
   "metadata": {},
   "outputs": [
    {
     "data": {
      "text/plain": [
       "array([[10., 10., 10., 10.],\n",
       "       [10., 10., 10., 10.],\n",
       "       [10., 10., 10., 10.],\n",
       "       [10., 10., 10., 10.]])"
      ]
     },
     "execution_count": 7,
     "metadata": {},
     "output_type": "execute_result"
    }
   ],
   "source": [
    "A = numpy.ones((4, 4)) * 10; A"
   ]
  },
  {
   "cell_type": "code",
   "execution_count": 8,
   "id": "06388e13",
   "metadata": {},
   "outputs": [
    {
     "data": {
      "text/plain": [
       "array([[10., 10.],\n",
       "       [10., 10.]])"
      ]
     },
     "execution_count": 8,
     "metadata": {},
     "output_type": "execute_result"
    }
   ],
   "source": [
    "A[1:3, 1:3]"
   ]
  },
  {
   "cell_type": "code",
   "execution_count": 11,
   "id": "7ca59f19",
   "metadata": {},
   "outputs": [
    {
     "data": {
      "text/plain": [
       "array([[ 1,  2,  3,  4],\n",
       "       [ 5,  6,  7,  8],\n",
       "       [ 9, 10, 11, 12],\n",
       "       [13, 14, 15, 16]])"
      ]
     },
     "execution_count": 11,
     "metadata": {},
     "output_type": "execute_result"
    }
   ],
   "source": [
    "B = (numpy.arange(16) + 1).reshape((4, 4)); B"
   ]
  },
  {
   "cell_type": "code",
   "execution_count": 12,
   "id": "7a8a1f57",
   "metadata": {},
   "outputs": [
    {
     "data": {
      "text/plain": [
       "array([[ 6,  7],\n",
       "       [10, 11]])"
      ]
     },
     "execution_count": 12,
     "metadata": {},
     "output_type": "execute_result"
    }
   ],
   "source": [
    "B[1:3, 1:3]"
   ]
  },
  {
   "cell_type": "markdown",
   "id": "0d81ff8e",
   "metadata": {},
   "source": [
    "# Paquete de Pandas"
   ]
  },
  {
   "cell_type": "code",
   "execution_count": 13,
   "id": "1c578e07",
   "metadata": {},
   "outputs": [],
   "source": [
    "import pandas"
   ]
  },
  {
   "cell_type": "markdown",
   "id": "f6387e4d",
   "metadata": {},
   "source": [
    "## Ejemplo: Crear un *DataFrame* desde listas"
   ]
  },
  {
   "cell_type": "code",
   "execution_count": 16,
   "id": "f637f6bc",
   "metadata": {},
   "outputs": [
    {
     "data": {
      "text/html": [
       "<div>\n",
       "<style scoped>\n",
       "    .dataframe tbody tr th:only-of-type {\n",
       "        vertical-align: middle;\n",
       "    }\n",
       "\n",
       "    .dataframe tbody tr th {\n",
       "        vertical-align: top;\n",
       "    }\n",
       "\n",
       "    .dataframe thead th {\n",
       "        text-align: right;\n",
       "    }\n",
       "</style>\n",
       "<table border=\"1\" class=\"dataframe\">\n",
       "  <thead>\n",
       "    <tr style=\"text-align: right;\">\n",
       "      <th></th>\n",
       "      <th>Id</th>\n",
       "      <th>Fruta</th>\n",
       "      <th>Precio</th>\n",
       "    </tr>\n",
       "  </thead>\n",
       "  <tbody>\n",
       "    <tr>\n",
       "      <th>0</th>\n",
       "      <td>1</td>\n",
       "      <td>Manzana</td>\n",
       "      <td>45</td>\n",
       "    </tr>\n",
       "    <tr>\n",
       "      <th>1</th>\n",
       "      <td>2</td>\n",
       "      <td>Pera</td>\n",
       "      <td>67</td>\n",
       "    </tr>\n",
       "    <tr>\n",
       "      <th>2</th>\n",
       "      <td>3</td>\n",
       "      <td>Kiwi</td>\n",
       "      <td>23</td>\n",
       "    </tr>\n",
       "  </tbody>\n",
       "</table>\n",
       "</div>"
      ],
      "text/plain": [
       "   Id    Fruta  Precio\n",
       "0   1  Manzana      45\n",
       "1   2     Pera      67\n",
       "2   3     Kiwi      23"
      ]
     },
     "execution_count": 16,
     "metadata": {},
     "output_type": "execute_result"
    }
   ],
   "source": [
    "data1 = pandas.DataFrame({\n",
    "    \"Id\": [1, 2, 3],\n",
    "    \"Fruta\": [\"Manzana\", \"Pera\", \"Kiwi\"],\n",
    "    \"Precio\": [45, 67, 23]\n",
    "})\n",
    "\n",
    "data1.head()"
   ]
  },
  {
   "cell_type": "markdown",
   "id": "9ce28c78",
   "metadata": {},
   "source": [
    "## Ejemplo: Crear un *DataFrame* desde una matriz"
   ]
  },
  {
   "cell_type": "code",
   "execution_count": 17,
   "id": "2a4f899a",
   "metadata": {},
   "outputs": [
    {
     "data": {
      "text/html": [
       "<div>\n",
       "<style scoped>\n",
       "    .dataframe tbody tr th:only-of-type {\n",
       "        vertical-align: middle;\n",
       "    }\n",
       "\n",
       "    .dataframe tbody tr th {\n",
       "        vertical-align: top;\n",
       "    }\n",
       "\n",
       "    .dataframe thead th {\n",
       "        text-align: right;\n",
       "    }\n",
       "</style>\n",
       "<table border=\"1\" class=\"dataframe\">\n",
       "  <thead>\n",
       "    <tr style=\"text-align: right;\">\n",
       "      <th></th>\n",
       "      <th>0</th>\n",
       "      <th>1</th>\n",
       "      <th>2</th>\n",
       "    </tr>\n",
       "  </thead>\n",
       "  <tbody>\n",
       "    <tr>\n",
       "      <th>0</th>\n",
       "      <td>1</td>\n",
       "      <td>2</td>\n",
       "      <td>3</td>\n",
       "    </tr>\n",
       "    <tr>\n",
       "      <th>1</th>\n",
       "      <td>Manzana</td>\n",
       "      <td>Pera</td>\n",
       "      <td>Kiwi</td>\n",
       "    </tr>\n",
       "    <tr>\n",
       "      <th>2</th>\n",
       "      <td>45</td>\n",
       "      <td>67</td>\n",
       "      <td>23</td>\n",
       "    </tr>\n",
       "  </tbody>\n",
       "</table>\n",
       "</div>"
      ],
      "text/plain": [
       "         0     1     2\n",
       "0        1     2     3\n",
       "1  Manzana  Pera  Kiwi\n",
       "2       45    67    23"
      ]
     },
     "execution_count": 17,
     "metadata": {},
     "output_type": "execute_result"
    }
   ],
   "source": [
    "data2 = pandas.DataFrame([\n",
    "    [1, 2, 3],\n",
    "    [\"Manzana\", \"Pera\", \"Kiwi\"],\n",
    "    [45, 67, 23],\n",
    "])\n",
    "\n",
    "data2.head()"
   ]
  },
  {
   "cell_type": "code",
   "execution_count": 19,
   "id": "5103fbdc",
   "metadata": {},
   "outputs": [
    {
     "data": {
      "text/html": [
       "<div>\n",
       "<style scoped>\n",
       "    .dataframe tbody tr th:only-of-type {\n",
       "        vertical-align: middle;\n",
       "    }\n",
       "\n",
       "    .dataframe tbody tr th {\n",
       "        vertical-align: top;\n",
       "    }\n",
       "\n",
       "    .dataframe thead th {\n",
       "        text-align: right;\n",
       "    }\n",
       "</style>\n",
       "<table border=\"1\" class=\"dataframe\">\n",
       "  <thead>\n",
       "    <tr style=\"text-align: right;\">\n",
       "      <th></th>\n",
       "      <th>Id</th>\n",
       "      <th>Fruta</th>\n",
       "      <th>Precio</th>\n",
       "    </tr>\n",
       "  </thead>\n",
       "  <tbody>\n",
       "    <tr>\n",
       "      <th>23</th>\n",
       "      <td>1</td>\n",
       "      <td>2</td>\n",
       "      <td>3</td>\n",
       "    </tr>\n",
       "    <tr>\n",
       "      <th>24</th>\n",
       "      <td>Manzana</td>\n",
       "      <td>Pera</td>\n",
       "      <td>Kiwi</td>\n",
       "    </tr>\n",
       "    <tr>\n",
       "      <th>25</th>\n",
       "      <td>45</td>\n",
       "      <td>67</td>\n",
       "      <td>23</td>\n",
       "    </tr>\n",
       "  </tbody>\n",
       "</table>\n",
       "</div>"
      ],
      "text/plain": [
       "         Id Fruta Precio\n",
       "23        1     2      3\n",
       "24  Manzana  Pera   Kiwi\n",
       "25       45    67     23"
      ]
     },
     "execution_count": 19,
     "metadata": {},
     "output_type": "execute_result"
    }
   ],
   "source": [
    "data2 = pandas.DataFrame([\n",
    "    [1, 2, 3],\n",
    "    [\"Manzana\", \"Pera\", \"Kiwi\"],\n",
    "    [45, 67, 23],\n",
    "], index=[23, 24, 25], columns=[\"Id\", \"Fruta\", \"Precio\"])\n",
    "\n",
    "data2.head()"
   ]
  },
  {
   "cell_type": "markdown",
   "id": "658c4ce0",
   "metadata": {},
   "source": [
    "## Ejercicio: Lista de Nombre y Apellidos"
   ]
  },
  {
   "cell_type": "code",
   "execution_count": 20,
   "id": "69e6fec7",
   "metadata": {},
   "outputs": [
    {
     "data": {
      "text/html": [
       "<div>\n",
       "<style scoped>\n",
       "    .dataframe tbody tr th:only-of-type {\n",
       "        vertical-align: middle;\n",
       "    }\n",
       "\n",
       "    .dataframe tbody tr th {\n",
       "        vertical-align: top;\n",
       "    }\n",
       "\n",
       "    .dataframe thead th {\n",
       "        text-align: right;\n",
       "    }\n",
       "</style>\n",
       "<table border=\"1\" class=\"dataframe\">\n",
       "  <thead>\n",
       "    <tr style=\"text-align: right;\">\n",
       "      <th></th>\n",
       "      <th>Nombre</th>\n",
       "      <th>Apellido</th>\n",
       "    </tr>\n",
       "  </thead>\n",
       "  <tbody>\n",
       "    <tr>\n",
       "      <th>0</th>\n",
       "      <td>Alan</td>\n",
       "      <td>Badillo</td>\n",
       "    </tr>\n",
       "    <tr>\n",
       "      <th>1</th>\n",
       "      <td>Brandon</td>\n",
       "      <td>Gómez</td>\n",
       "    </tr>\n",
       "    <tr>\n",
       "      <th>2</th>\n",
       "      <td>Diego</td>\n",
       "      <td>Arce</td>\n",
       "    </tr>\n",
       "  </tbody>\n",
       "</table>\n",
       "</div>"
      ],
      "text/plain": [
       "    Nombre Apellido\n",
       "0     Alan  Badillo\n",
       "1  Brandon    Gómez\n",
       "2    Diego     Arce"
      ]
     },
     "execution_count": 20,
     "metadata": {},
     "output_type": "execute_result"
    }
   ],
   "source": [
    "data3 = pandas.DataFrame({\n",
    "    \"Nombre\": [\"Alan\", \"Brandon\", \"Diego\"],\n",
    "    \"Apellido\": [\"Badillo\", \"Gómez\", \"Arce\"]\n",
    "})\n",
    "\n",
    "data3.head()"
   ]
  },
  {
   "cell_type": "code",
   "execution_count": 22,
   "id": "a41d2ca7",
   "metadata": {},
   "outputs": [
    {
     "data": {
      "text/html": [
       "<div>\n",
       "<style scoped>\n",
       "    .dataframe tbody tr th:only-of-type {\n",
       "        vertical-align: middle;\n",
       "    }\n",
       "\n",
       "    .dataframe tbody tr th {\n",
       "        vertical-align: top;\n",
       "    }\n",
       "\n",
       "    .dataframe thead th {\n",
       "        text-align: right;\n",
       "    }\n",
       "</style>\n",
       "<table border=\"1\" class=\"dataframe\">\n",
       "  <thead>\n",
       "    <tr style=\"text-align: right;\">\n",
       "      <th></th>\n",
       "      <th>Nombre</th>\n",
       "      <th>Apellido</th>\n",
       "    </tr>\n",
       "  </thead>\n",
       "  <tbody>\n",
       "    <tr>\n",
       "      <th>0</th>\n",
       "      <td>Alan</td>\n",
       "      <td>Badillo</td>\n",
       "    </tr>\n",
       "    <tr>\n",
       "      <th>1</th>\n",
       "      <td>Brandon</td>\n",
       "      <td>Gómez</td>\n",
       "    </tr>\n",
       "    <tr>\n",
       "      <th>2</th>\n",
       "      <td>Diego</td>\n",
       "      <td>Arce</td>\n",
       "    </tr>\n",
       "  </tbody>\n",
       "</table>\n",
       "</div>"
      ],
      "text/plain": [
       "    Nombre Apellido\n",
       "0     Alan  Badillo\n",
       "1  Brandon    Gómez\n",
       "2    Diego     Arce"
      ]
     },
     "execution_count": 22,
     "metadata": {},
     "output_type": "execute_result"
    }
   ],
   "source": [
    "data4 = pandas.DataFrame(\n",
    "    data=[(\"Alan\", \"Badillo\"), (\"Brandon\", \"Gómez\"), (\"Diego\", \"Arce\")],\n",
    "    columns=[\"Nombre\", \"Apellido\"])\n",
    "\n",
    "data4.head()"
   ]
  },
  {
   "cell_type": "markdown",
   "id": "169bad58",
   "metadata": {},
   "source": [
    "## Atributos y Métodos de un *DataFrame*\n",
    "\n",
    "* `.info()`\n",
    "* `.shape`\n",
    "* `.size`\n",
    "* `.columns`\n",
    "* `.index`\n",
    "* `.dtypes`\n",
    "* `.head(n)`\n",
    "* `.tail(n)`"
   ]
  },
  {
   "cell_type": "markdown",
   "id": "39d62669",
   "metadata": {},
   "source": [
    "## Ejercicio: Modificar las columnas a mayúsculas"
   ]
  },
  {
   "cell_type": "code",
   "execution_count": 25,
   "id": "70246209",
   "metadata": {},
   "outputs": [
    {
     "data": {
      "text/html": [
       "<div>\n",
       "<style scoped>\n",
       "    .dataframe tbody tr th:only-of-type {\n",
       "        vertical-align: middle;\n",
       "    }\n",
       "\n",
       "    .dataframe tbody tr th {\n",
       "        vertical-align: top;\n",
       "    }\n",
       "\n",
       "    .dataframe thead th {\n",
       "        text-align: right;\n",
       "    }\n",
       "</style>\n",
       "<table border=\"1\" class=\"dataframe\">\n",
       "  <thead>\n",
       "    <tr style=\"text-align: right;\">\n",
       "      <th></th>\n",
       "      <th>NOMBRE</th>\n",
       "      <th>APELLIDO</th>\n",
       "    </tr>\n",
       "  </thead>\n",
       "  <tbody>\n",
       "    <tr>\n",
       "      <th>0</th>\n",
       "      <td>Alan</td>\n",
       "      <td>Badillo</td>\n",
       "    </tr>\n",
       "    <tr>\n",
       "      <th>1</th>\n",
       "      <td>Brandon</td>\n",
       "      <td>Gómez</td>\n",
       "    </tr>\n",
       "    <tr>\n",
       "      <th>2</th>\n",
       "      <td>Diego</td>\n",
       "      <td>Arce</td>\n",
       "    </tr>\n",
       "  </tbody>\n",
       "</table>\n",
       "</div>"
      ],
      "text/plain": [
       "    NOMBRE APELLIDO\n",
       "0     Alan  Badillo\n",
       "1  Brandon    Gómez\n",
       "2    Diego     Arce"
      ]
     },
     "execution_count": 25,
     "metadata": {},
     "output_type": "execute_result"
    }
   ],
   "source": [
    "data5 = pandas.DataFrame(\n",
    "    data=[(\"Alan\", \"Badillo\"), (\"Brandon\", \"Gómez\"), (\"Diego\", \"Arce\")],\n",
    "    columns=[\"Nombre\", \"Apellido\"])\n",
    "\n",
    "data5.columns = data5.columns.map(str.upper)\n",
    "\n",
    "data5.head()"
   ]
  },
  {
   "cell_type": "markdown",
   "id": "4703e08a",
   "metadata": {},
   "source": [
    "## Acceso por mapa de índices\n",
    "\n",
    "* `.iloc[<índice columna>]`\n",
    "* `.iloc[<índice columna>, <índice fila>]`\n",
    "* `.loc[<fila>]`\n",
    "* `.loc[<fila>, <columna>]`"
   ]
  },
  {
   "cell_type": "code",
   "execution_count": 26,
   "id": "73dac89b",
   "metadata": {},
   "outputs": [
    {
     "data": {
      "text/html": [
       "<div>\n",
       "<style scoped>\n",
       "    .dataframe tbody tr th:only-of-type {\n",
       "        vertical-align: middle;\n",
       "    }\n",
       "\n",
       "    .dataframe tbody tr th {\n",
       "        vertical-align: top;\n",
       "    }\n",
       "\n",
       "    .dataframe thead th {\n",
       "        text-align: right;\n",
       "    }\n",
       "</style>\n",
       "<table border=\"1\" class=\"dataframe\">\n",
       "  <thead>\n",
       "    <tr style=\"text-align: right;\">\n",
       "      <th></th>\n",
       "      <th>Id</th>\n",
       "      <th>Fruta</th>\n",
       "      <th>Precio</th>\n",
       "    </tr>\n",
       "  </thead>\n",
       "  <tbody>\n",
       "    <tr>\n",
       "      <th>0</th>\n",
       "      <td>1</td>\n",
       "      <td>Manzana</td>\n",
       "      <td>45</td>\n",
       "    </tr>\n",
       "    <tr>\n",
       "      <th>1</th>\n",
       "      <td>2</td>\n",
       "      <td>Pera</td>\n",
       "      <td>67</td>\n",
       "    </tr>\n",
       "    <tr>\n",
       "      <th>2</th>\n",
       "      <td>3</td>\n",
       "      <td>Kiwi</td>\n",
       "      <td>23</td>\n",
       "    </tr>\n",
       "  </tbody>\n",
       "</table>\n",
       "</div>"
      ],
      "text/plain": [
       "   Id    Fruta  Precio\n",
       "0   1  Manzana      45\n",
       "1   2     Pera      67\n",
       "2   3     Kiwi      23"
      ]
     },
     "execution_count": 26,
     "metadata": {},
     "output_type": "execute_result"
    }
   ],
   "source": [
    "data1.head()"
   ]
  },
  {
   "cell_type": "code",
   "execution_count": 27,
   "id": "02d7af74",
   "metadata": {},
   "outputs": [
    {
     "data": {
      "text/plain": [
       "Id           2\n",
       "Fruta     Pera\n",
       "Precio      67\n",
       "Name: 1, dtype: object"
      ]
     },
     "execution_count": 27,
     "metadata": {},
     "output_type": "execute_result"
    }
   ],
   "source": [
    "data1.iloc[1]"
   ]
  },
  {
   "cell_type": "code",
   "execution_count": 29,
   "id": "4225dcd9",
   "metadata": {},
   "outputs": [
    {
     "data": {
      "text/plain": [
       "np.int64(2)"
      ]
     },
     "execution_count": 29,
     "metadata": {},
     "output_type": "execute_result"
    }
   ],
   "source": [
    "data1.iloc[1, 0]"
   ]
  },
  {
   "cell_type": "code",
   "execution_count": 33,
   "id": "3c527ed3",
   "metadata": {},
   "outputs": [
    {
     "data": {
      "text/plain": [
       "Id              1\n",
       "Fruta     Manzana\n",
       "Precio         45\n",
       "Name: 0, dtype: object"
      ]
     },
     "execution_count": 33,
     "metadata": {},
     "output_type": "execute_result"
    }
   ],
   "source": [
    "data1.loc[0]"
   ]
  },
  {
   "cell_type": "code",
   "execution_count": 32,
   "id": "e122ea75",
   "metadata": {},
   "outputs": [
    {
     "data": {
      "text/plain": [
       "0    Manzana\n",
       "1       Pera\n",
       "2       Kiwi\n",
       "Name: Fruta, dtype: object"
      ]
     },
     "execution_count": 32,
     "metadata": {},
     "output_type": "execute_result"
    }
   ],
   "source": [
    "data1.loc[:, \"Fruta\"]"
   ]
  },
  {
   "cell_type": "markdown",
   "id": "cb19d2b6",
   "metadata": {},
   "source": [
    "## Columnas computadas"
   ]
  },
  {
   "cell_type": "code",
   "execution_count": 34,
   "id": "5faca15b",
   "metadata": {},
   "outputs": [
    {
     "data": {
      "text/html": [
       "<div>\n",
       "<style scoped>\n",
       "    .dataframe tbody tr th:only-of-type {\n",
       "        vertical-align: middle;\n",
       "    }\n",
       "\n",
       "    .dataframe tbody tr th {\n",
       "        vertical-align: top;\n",
       "    }\n",
       "\n",
       "    .dataframe thead th {\n",
       "        text-align: right;\n",
       "    }\n",
       "</style>\n",
       "<table border=\"1\" class=\"dataframe\">\n",
       "  <thead>\n",
       "    <tr style=\"text-align: right;\">\n",
       "      <th></th>\n",
       "      <th>NOMBRE</th>\n",
       "      <th>APELLIDO</th>\n",
       "    </tr>\n",
       "  </thead>\n",
       "  <tbody>\n",
       "    <tr>\n",
       "      <th>0</th>\n",
       "      <td>Alan</td>\n",
       "      <td>Badillo</td>\n",
       "    </tr>\n",
       "    <tr>\n",
       "      <th>1</th>\n",
       "      <td>Brandon</td>\n",
       "      <td>Gómez</td>\n",
       "    </tr>\n",
       "    <tr>\n",
       "      <th>2</th>\n",
       "      <td>Diego</td>\n",
       "      <td>Arce</td>\n",
       "    </tr>\n",
       "  </tbody>\n",
       "</table>\n",
       "</div>"
      ],
      "text/plain": [
       "    NOMBRE APELLIDO\n",
       "0     Alan  Badillo\n",
       "1  Brandon    Gómez\n",
       "2    Diego     Arce"
      ]
     },
     "execution_count": 34,
     "metadata": {},
     "output_type": "execute_result"
    }
   ],
   "source": [
    "data6 = data5.copy()\n",
    "\n",
    "data6.head()"
   ]
  },
  {
   "cell_type": "code",
   "execution_count": 35,
   "id": "0be9d12d",
   "metadata": {},
   "outputs": [
    {
     "data": {
      "text/html": [
       "<div>\n",
       "<style scoped>\n",
       "    .dataframe tbody tr th:only-of-type {\n",
       "        vertical-align: middle;\n",
       "    }\n",
       "\n",
       "    .dataframe tbody tr th {\n",
       "        vertical-align: top;\n",
       "    }\n",
       "\n",
       "    .dataframe thead th {\n",
       "        text-align: right;\n",
       "    }\n",
       "</style>\n",
       "<table border=\"1\" class=\"dataframe\">\n",
       "  <thead>\n",
       "    <tr style=\"text-align: right;\">\n",
       "      <th></th>\n",
       "      <th>NOMBRE</th>\n",
       "      <th>APELLIDO</th>\n",
       "      <th>EDAD</th>\n",
       "    </tr>\n",
       "  </thead>\n",
       "  <tbody>\n",
       "    <tr>\n",
       "      <th>0</th>\n",
       "      <td>Alan</td>\n",
       "      <td>Badillo</td>\n",
       "      <td>18</td>\n",
       "    </tr>\n",
       "    <tr>\n",
       "      <th>1</th>\n",
       "      <td>Brandon</td>\n",
       "      <td>Gómez</td>\n",
       "      <td>18</td>\n",
       "    </tr>\n",
       "    <tr>\n",
       "      <th>2</th>\n",
       "      <td>Diego</td>\n",
       "      <td>Arce</td>\n",
       "      <td>18</td>\n",
       "    </tr>\n",
       "  </tbody>\n",
       "</table>\n",
       "</div>"
      ],
      "text/plain": [
       "    NOMBRE APELLIDO  EDAD\n",
       "0     Alan  Badillo    18\n",
       "1  Brandon    Gómez    18\n",
       "2    Diego     Arce    18"
      ]
     },
     "execution_count": 35,
     "metadata": {},
     "output_type": "execute_result"
    }
   ],
   "source": [
    "data6[\"EDAD\"] = 18\n",
    "\n",
    "data6.head()"
   ]
  },
  {
   "cell_type": "markdown",
   "id": "9823d5c1",
   "metadata": {},
   "source": [
    "### Ejercicio: Agregar la carrera"
   ]
  },
  {
   "cell_type": "code",
   "execution_count": 37,
   "id": "101b216b",
   "metadata": {},
   "outputs": [
    {
     "data": {
      "text/html": [
       "<div>\n",
       "<style scoped>\n",
       "    .dataframe tbody tr th:only-of-type {\n",
       "        vertical-align: middle;\n",
       "    }\n",
       "\n",
       "    .dataframe tbody tr th {\n",
       "        vertical-align: top;\n",
       "    }\n",
       "\n",
       "    .dataframe thead th {\n",
       "        text-align: right;\n",
       "    }\n",
       "</style>\n",
       "<table border=\"1\" class=\"dataframe\">\n",
       "  <thead>\n",
       "    <tr style=\"text-align: right;\">\n",
       "      <th></th>\n",
       "      <th>NOMBRE</th>\n",
       "      <th>APELLIDO</th>\n",
       "      <th>EDAD</th>\n",
       "      <th>CARRERA</th>\n",
       "    </tr>\n",
       "  </thead>\n",
       "  <tbody>\n",
       "    <tr>\n",
       "      <th>0</th>\n",
       "      <td>Alan</td>\n",
       "      <td>Badillo</td>\n",
       "      <td>18</td>\n",
       "      <td>Lic. Matemáticas Aplicadas</td>\n",
       "    </tr>\n",
       "    <tr>\n",
       "      <th>1</th>\n",
       "      <td>Brandon</td>\n",
       "      <td>Gómez</td>\n",
       "      <td>18</td>\n",
       "      <td>Ing. Química</td>\n",
       "    </tr>\n",
       "    <tr>\n",
       "      <th>2</th>\n",
       "      <td>Diego</td>\n",
       "      <td>Arce</td>\n",
       "      <td>18</td>\n",
       "      <td>Lic. Matemáticas</td>\n",
       "    </tr>\n",
       "  </tbody>\n",
       "</table>\n",
       "</div>"
      ],
      "text/plain": [
       "    NOMBRE APELLIDO  EDAD                     CARRERA\n",
       "0     Alan  Badillo    18  Lic. Matemáticas Aplicadas\n",
       "1  Brandon    Gómez    18                Ing. Química\n",
       "2    Diego     Arce    18            Lic. Matemáticas"
      ]
     },
     "execution_count": 37,
     "metadata": {},
     "output_type": "execute_result"
    }
   ],
   "source": [
    "data6[\"CARRERA\"] = [\"Lic. Matemáticas Aplicadas\", \"Ing. Química\", \"Lic. Matemáticas\"]\n",
    "\n",
    "data6.head()"
   ]
  }
 ],
 "metadata": {
  "kernelspec": {
   "display_name": "Python 3",
   "language": "python",
   "name": "python3"
  },
  "language_info": {
   "codemirror_mode": {
    "name": "ipython",
    "version": 3
   },
   "file_extension": ".py",
   "mimetype": "text/x-python",
   "name": "python",
   "nbconvert_exporter": "python",
   "pygments_lexer": "ipython3",
   "version": "3.12.4"
  }
 },
 "nbformat": 4,
 "nbformat_minor": 5
}
