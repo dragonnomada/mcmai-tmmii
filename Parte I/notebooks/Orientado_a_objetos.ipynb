{
  "nbformat": 4,
  "nbformat_minor": 0,
  "metadata": {
    "colab": {
      "provenance": []
    },
    "kernelspec": {
      "name": "python3",
      "display_name": "Python 3"
    },
    "language_info": {
      "name": "python"
    }
  },
  "cells": [
    {
      "cell_type": "code",
      "execution_count": null,
      "metadata": {
        "id": "opKOxWfhPJsz"
      },
      "outputs": [],
      "source": []
    },
    {
      "cell_type": "markdown",
      "source": [
        "## Programación orientada a objetos\n"
      ],
      "metadata": {
        "id": "rnTC-UukHzQL"
      }
    },
    {
      "cell_type": "markdown",
      "source": [
        "Python también permite la **programación orientada a objetos**, que es un paradigma de programación en la que los datos y las operaciones que pueden realizarse con esos datos se agrupan en ***unidades lógicas llamadas objetos***."
      ],
      "metadata": {
        "id": "Ho2ijIvqKl5k"
      }
    },
    {
      "cell_type": "markdown",
      "source": [
        "\n",
        "\n",
        "*   Los objetos suelen representar conceptos del dominio del programa, como un\n",
        "estudiante, un coche, un teléfono, etc.\n",
        "\n",
        "*   Los datos que describen las características del objeto se llaman **atributos** y son la *parte estática del objeto*.\n",
        "\n",
        "\n",
        "*   Mientras que las operaciones que puede realizar el objeto se llaman **métodos** y son la *parte dinámica del objeto*.\n",
        "\n",
        "\n",
        "\n",
        "\n",
        "---\n",
        "\n",
        "\n",
        "Ejemplo. Una **tarjeta de crédito** puede representarse como un objeto:\n",
        "\n",
        "*  **Atributos**: Número de la tarjeta, titular, balance, fecha de caducidad, pin, entidad emisora, estado (activa o no), etc.\n",
        "*  **Métodos:** Activar, pagar, renovar, anular.\n",
        "\n"
      ],
      "metadata": {
        "id": "9ddbuYJMK0iw"
      }
    },
    {
      "cell_type": "markdown",
      "source": [
        "**Acceso a los atributos y métodos de un objeto**\n",
        "\n",
        "*  dir(objeto): Devuelve una lista con los nombres de los atributos y métodos del objeto objeto.\n",
        "\n",
        "\n",
        "\n",
        "---\n",
        "\n"
      ],
      "metadata": {
        "id": "He31RpVjLKqX"
      }
    },
    {
      "cell_type": "markdown",
      "source": [
        "Para acceder a los **atributos y métodos** de un objeto se pone el nombre del objeto seguido del **operador punto** y el nombre del atributo o el método.\n",
        "\n",
        "*  objeto.atributo: **Accede al atributo** `atributo` del objeto objeto.\n",
        "\n",
        "*  objeto.método(parámetros): **Ejecuta el método** `método `del objeto objeto con los parámetros que se le pasen."
      ],
      "metadata": {
        "id": "ie3OuXcwLNHF"
      }
    },
    {
      "cell_type": "markdown",
      "source": [
        "***Ejemplo.*** Las cadenas tienen un método upper que convierte la cadena en mayúsculas. Para aplicar este método a la cadena c se utiliza la instrucción c.upper()."
      ],
      "metadata": {
        "id": "TQYc3ONILjU_"
      }
    },
    {
      "cell_type": "code",
      "source": [
        "c = 'Python'\n",
        "print(c.upper())"
      ],
      "metadata": {
        "colab": {
          "base_uri": "https://localhost:8080/"
        },
        "id": "5z0veiuiLiv4",
        "outputId": "31672211-7617-426c-b12a-7aafd468d2bd"
      },
      "execution_count": null,
      "outputs": [
        {
          "output_type": "stream",
          "name": "stdout",
          "text": [
            "PYTHON\n"
          ]
        }
      ]
    },
    {
      "cell_type": "markdown",
      "source": [
        "Para ver si un objeto tiene un determinado atributo o método se utiliza la siguiente función:\n",
        "\n",
        "\n",
        "*   hasattr(objeto, elemento): Devuelve True si elemento es un atributo o un método  del objeto objeto y False en caso contrario.\n",
        "\n",
        "\n",
        "\n",
        "---\n",
        "\n"
      ],
      "metadata": {
        "id": "lWx2gDBUJYDq"
      }
    },
    {
      "cell_type": "markdown",
      "source": [
        "**PREGUNTA:**\n",
        "\n",
        "¿ Cuál es el método para agrear un elemento al final de una lista? Realiza un código para generar una lista con 4 elementos y agregar un elemento nuevo"
      ],
      "metadata": {
        "id": "Mma1ZZ4mLoUH"
      }
    },
    {
      "cell_type": "code",
      "source": [
        "l =  [1, 2, 3]\n",
        "l.append(4)         # Llamada al método append del objeto l (lista)\n",
        "print(l)\n"
      ],
      "metadata": {
        "colab": {
          "base_uri": "https://localhost:8080/"
        },
        "id": "v2t6-MVcL5rS",
        "outputId": "472b400b-bf50-4d12-9670-b663aebb5169"
      },
      "execution_count": null,
      "outputs": [
        {
          "output_type": "stream",
          "name": "stdout",
          "text": [
            "[1, 2, 3, 4]\n"
          ]
        }
      ]
    },
    {
      "cell_type": "markdown",
      "source": [
        "**Clases (class)**\n",
        "\n",
        "**Los objetos con los mismos atributos y métodos se agrupan clases**. Las clases definen los atributos y los métodos, y por tanto, la semántica o comportamiento que tienen los objetos que pertenecen a esa clase.\n",
        "\n",
        "Se puede pensar en una clase como **en un molde** a partir del cuál se pueden crear objetos.\n",
        "\n",
        "Para declarar una clase se **utiliza la palabra clave `class`** seguida del nombre de la clase y dos puntos, de acuerdo a la siguiente sintaxis:\n",
        "\n",
        "class nombre-clase:\n",
        ">    atributos\n",
        "\n",
        ">    métodos\n",
        "\n",
        "\n",
        "---\n",
        "\n",
        "\n",
        "\n",
        "*   **Los atributos se definen igual que las variables**\n",
        "\n",
        "*  **Los métodos  se definen igual que las funciones**.\n",
        "\n",
        "Para mayor detalle sobre crear clases y los conceptos relacionados ver:\n",
        "\n",
        "https://aprendeconalf.es/docencia/python/manual/objetos/"
      ],
      "metadata": {
        "id": "yrnLHxDLQy35"
      }
    },
    {
      "cell_type": "markdown",
      "source": [
        "Un ejemplo de la creación de una clase es"
      ],
      "metadata": {
        "id": "3X5Rtya6F38z"
      }
    },
    {
      "cell_type": "code",
      "source": [
        "class Tarjeta:\n",
        "  def __init__(self, id, cantidad = 0):    # Inicializador\n",
        "    self.id = id                         # Creación del atributo id\n",
        "    self.saldo = cantidad                # Creación del atributo saldo\n",
        "    return\n",
        "\n",
        "  def mostrar_saldo(self):\n",
        "    print('El saldo es', self.saldo, '$')\n",
        "    return\n"
      ],
      "metadata": {
        "id": "fZK507h2GAYD"
      },
      "execution_count": null,
      "outputs": []
    },
    {
      "cell_type": "markdown",
      "source": [
        "Se definen como las funciones con la palabra reservada `def`.\n",
        "\n",
        "La única diferencia es que su primer parámetro es especial y se denomina `self`.\n",
        "\n",
        "Este parámetro hace **siempre referencia al objeto desde donde se llama el método**, de manera que para acceder a los atributos o métodos de una clase en su propia definición se puede utilizar la sintaxis -->\n",
        "\n",
        "\n",
        "---\n",
        "\n",
        "\n",
        " `self.atributo` o `self.método`."
      ],
      "metadata": {
        "id": "p8RvCzbuGx9J"
      }
    },
    {
      "cell_type": "markdown",
      "source": [
        "En la definición de una clase suele haber un método llamado \"__init__\" que se conoce como inicializador.\n",
        "\n",
        "Este método es un método especial que se llama cada vez que se instancia una clase y sirve para inicializar el objeto que se crea. **Este método crea los atributos** que deben tener todos los objetos de la clase y por tanto contiene los parámetros necesarios para su creación.\n",
        "\n",
        "No devuelve nada."
      ],
      "metadata": {
        "id": "GtmTN3esHdj_"
      }
    },
    {
      "cell_type": "code",
      "source": [
        "#Cuando se crea un objeto de una clase se dice que el objeto es una instancia de la clase.\n",
        "\n",
        "t = Tarjeta('2372', 1000)     # Creación de un objeto con argumentos\n",
        "t.mostrar_saldo()"
      ],
      "metadata": {
        "colab": {
          "base_uri": "https://localhost:8080/"
        },
        "id": "wamhM33SGNJi",
        "outputId": "af66eef9-cd24-401f-f761-46e2f49e656a"
      },
      "execution_count": null,
      "outputs": [
        {
          "output_type": "stream",
          "name": "stdout",
          "text": [
            "El saldo es 1000 $\n"
          ]
        }
      ]
    },
    {
      "cell_type": "markdown",
      "source": [
        "Cuando invoco un atributo de una clase el resultado es otro objeto que puede tener atributos o métodos\n",
        "\n",
        "\n",
        "Por eso veremos **concatenados las operaciones punto**!\n",
        "\n",
        "Lo mismo pasa cuando se invoca un método el resultado es un objeto que puede volver a tener atributos o métodos!\n",
        "\n",
        "\n",
        "\n",
        "```\n",
        "# df_titanic.groupby('Ticket')['Ticket'].transform('count')\n",
        "\n",
        "```\n",
        "\n",
        "\n",
        "\n"
      ],
      "metadata": {
        "id": "avlnz6vaH3wm"
      }
    },
    {
      "cell_type": "markdown",
      "source": [
        "**EJERCICIO:**\n",
        "Modificar la clase para tener un método que muestre el id de la tarjeta"
      ],
      "metadata": {
        "id": "Kpmalo2UG7iw"
      }
    }
  ]
}