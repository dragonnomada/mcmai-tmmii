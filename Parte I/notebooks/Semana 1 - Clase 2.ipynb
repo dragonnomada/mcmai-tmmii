{
 "cells": [
  {
   "cell_type": "markdown",
   "id": "ed1cff41",
   "metadata": {},
   "source": [
    "# Estructuras de Control y Clases\n",
    "\n",
    "Universidad Autónoma Metropolitana - Unidad Iztapalapa (UAM-I)\n",
    "\n",
    "Maestría en Matemáticas Aplicadas e Industriales (MCMAI)\n",
    "\n",
    "Taller de Modelado Matemático II - Parte I\n",
    "\n",
    "Trimestre 25-P\n",
    "\n",
    "Profesor: Dr. Alejandro Román Vásquez\n",
    "\n",
    "Alumno: Alan Badillo Salas"
   ]
  },
  {
   "cell_type": "code",
   "execution_count": null,
   "id": "a51db918",
   "metadata": {},
   "outputs": [
    {
     "name": "stdout",
     "output_type": "stream",
     "text": [
      "MB\n"
     ]
    }
   ],
   "source": [
    "calificacion = float( input(\"Dame la calificación: \") )\n",
    "\n",
    "if calificacion > 8.8:\n",
    "    print(\"MB\")\n",
    "elif calificacion > 7.5:\n",
    "    print(\"B\")\n",
    "elif calificacion >= 6:\n",
    "    print(\"S\")\n",
    "else:\n",
    "    print(\"NA\")"
   ]
  },
  {
   "cell_type": "code",
   "execution_count": 3,
   "id": "c7d196ef",
   "metadata": {},
   "outputs": [
    {
     "name": "stdout",
     "output_type": "stream",
     "text": [
      "Nó Válida\n"
     ]
    }
   ],
   "source": [
    "calificacion = float( input(\"Dame la calificación: \") )\n",
    "\n",
    "if calificacion >= 6 and calificacion <= 7.5:\n",
    "    print(\"S\")\n",
    "elif calificacion > 7.5 and calificacion <= 8.8:\n",
    "    print(\"B\")\n",
    "elif calificacion >= 8.8 and calificacion <= 10:\n",
    "    print(\"MB\")\n",
    "elif calificacion < 6:\n",
    "    print(\"NA\")\n",
    "else:\n",
    "    print(\"Nó Válida\")"
   ]
  },
  {
   "cell_type": "code",
   "execution_count": 5,
   "id": "c717fe55",
   "metadata": {},
   "outputs": [
    {
     "name": "stdout",
     "output_type": "stream",
     "text": [
      "10\n",
      "15\n",
      "20\n",
      "25\n",
      "30\n",
      "35\n",
      "40\n",
      "45\n",
      "50\n",
      "55\n",
      "60\n",
      "65\n",
      "70\n",
      "75\n",
      "80\n",
      "85\n",
      "90\n",
      "95\n",
      "100\n"
     ]
    }
   ],
   "source": [
    "for i in range(10, 101, 5):\n",
    "    print(i)"
   ]
  },
  {
   "cell_type": "code",
   "execution_count": 6,
   "id": "8d6437d0",
   "metadata": {},
   "outputs": [
    {
     "name": "stdout",
     "output_type": "stream",
     "text": [
      "10\n",
      "15\n",
      "20\n",
      "25\n",
      "30\n",
      "35\n",
      "40\n",
      "45\n",
      "50\n",
      "55\n",
      "60\n",
      "65\n",
      "70\n",
      "75\n",
      "80\n",
      "85\n",
      "90\n",
      "95\n",
      "100\n"
     ]
    }
   ],
   "source": [
    "for i in range(10, 101):\n",
    "    if i % 5 == 0:\n",
    "        print(i)"
   ]
  },
  {
   "cell_type": "code",
   "execution_count": 11,
   "id": "1359e61c",
   "metadata": {},
   "outputs": [
    {
     "name": "stdout",
     "output_type": "stream",
     "text": [
      "\n",
      "        Total:    3\n",
      "        Suma:     6\n",
      "        Promedio: 2.0\n",
      "        Mínimo:   1\n",
      "        Máximo:   3\n",
      "    \n",
      "\n",
      "        Total:    3\n",
      "        Suma:     15\n",
      "        Promedio: 5.0\n",
      "        Mínimo:   2\n",
      "        Máximo:   9\n",
      "    \n"
     ]
    }
   ],
   "source": [
    "def reporte(x = []):\n",
    "    n = len(x)\n",
    "    s = sum(x)\n",
    "    p = s / n\n",
    "    a = min(x)\n",
    "    b = max(x)\n",
    "    print(f\"\"\"\n",
    "        Total:    {n}\n",
    "        Suma:     {s}\n",
    "        Promedio: {p}\n",
    "        Mínimo:   {a}\n",
    "        Máximo:   {b}\n",
    "    \"\"\")\n",
    "\n",
    "reporte([1, 2, 3])\n",
    "reporte([2, 4, 9])"
   ]
  },
  {
   "cell_type": "code",
   "execution_count": 8,
   "id": "3af5c821",
   "metadata": {},
   "outputs": [
    {
     "data": {
      "text/plain": [
       "2.0000000000000018"
      ]
     },
     "execution_count": 8,
     "metadata": {},
     "output_type": "execute_result"
    }
   ],
   "source": [
    "(32 / 5 - int(32 / 5)) * 5"
   ]
  },
  {
   "cell_type": "code",
   "execution_count": null,
   "id": "b1bb951f",
   "metadata": {},
   "outputs": [
    {
     "data": {
      "text/plain": [
       "['__annotations__',\n",
       " '__class__',\n",
       " '__delattr__',\n",
       " '__dict__',\n",
       " '__dir__',\n",
       " '__doc__',\n",
       " '__eq__',\n",
       " '__format__',\n",
       " '__ge__',\n",
       " '__getattribute__',\n",
       " '__getstate__',\n",
       " '__gt__',\n",
       " '__hash__',\n",
       " '__init__',\n",
       " '__init_subclass__',\n",
       " '__le__',\n",
       " '__lt__',\n",
       " '__module__',\n",
       " '__ne__',\n",
       " '__new__',\n",
       " '__reduce__',\n",
       " '__reduce_ex__',\n",
       " '__repr__',\n",
       " '__setattr__',\n",
       " '__sizeof__',\n",
       " '__str__',\n",
       " '__subclasshook__',\n",
       " '__weakref__',\n",
       " 'esValida']"
      ]
     },
     "execution_count": 13,
     "metadata": {},
     "output_type": "execute_result"
    }
   ],
   "source": [
    "class Tarjeta:\n",
    "\n",
    "    id: \"00000000\"\n",
    "    mes: 6\n",
    "    anio: 2025\n",
    "\n",
    "    def esValida(self) -> bool:\n",
    "        return True\n",
    "    \n",
    "t1 = Tarjeta()\n",
    "\n",
    "dir(t1)"
   ]
  },
  {
   "cell_type": "code",
   "execution_count": 15,
   "id": "37439991",
   "metadata": {},
   "outputs": [
    {
     "name": "stdout",
     "output_type": "stream",
     "text": [
      "El saldo es: 10000\n",
      "El id es: 1234\n"
     ]
    }
   ],
   "source": [
    "class Tarjeta:\n",
    "\n",
    "    def __init__(self, id, saldo):\n",
    "        self.id = id\n",
    "        self.saldo = saldo\n",
    "\n",
    "    def mostrar_saldo(self):\n",
    "        print(f\"El saldo es: {self.saldo}\")\n",
    "\n",
    "    def mostrar_id(self):\n",
    "        print(f\"El id es: {self.id}\")\n",
    "\n",
    "t1 = Tarjeta(\"1234\", 10000)\n",
    "\n",
    "t1.mostrar_saldo()\n",
    "t1.mostrar_id()"
   ]
  }
 ],
 "metadata": {
  "kernelspec": {
   "display_name": "Python 3",
   "language": "python",
   "name": "python3"
  },
  "language_info": {
   "codemirror_mode": {
    "name": "ipython",
    "version": 3
   },
   "file_extension": ".py",
   "mimetype": "text/x-python",
   "name": "python",
   "nbconvert_exporter": "python",
   "pygments_lexer": "ipython3",
   "version": "3.12.4"
  }
 },
 "nbformat": 4,
 "nbformat_minor": 5
}
