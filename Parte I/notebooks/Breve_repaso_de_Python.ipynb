{
  "nbformat": 4,
  "nbformat_minor": 0,
  "metadata": {
    "colab": {
      "provenance": []
    },
    "kernelspec": {
      "name": "python3",
      "display_name": "Python 3"
    },
    "language_info": {
      "name": "python"
    }
  },
  "cells": [
    {
      "cell_type": "code",
      "execution_count": null,
      "metadata": {
        "id": "yHYb9VDN85Jg"
      },
      "outputs": [],
      "source": []
    },
    {
      "cell_type": "markdown",
      "source": [
        "# Breve Introducción a Python"
      ],
      "metadata": {
        "id": "yovh5GFkqur1"
      }
    },
    {
      "cell_type": "markdown",
      "source": [
        "Hola"
      ],
      "metadata": {
        "id": "cZSfmp1LQVG7"
      }
    },
    {
      "cell_type": "code",
      "source": [
        "print(\"Hola mundo\")"
      ],
      "metadata": {
        "colab": {
          "base_uri": "https://localhost:8080/"
        },
        "id": "8CNwgNy4QWTq",
        "outputId": "075d68cc-374a-420d-a601-7d8e8d5f7ed5"
      },
      "execution_count": null,
      "outputs": [
        {
          "output_type": "stream",
          "name": "stdout",
          "text": [
            "Hola mundo\n"
          ]
        }
      ]
    },
    {
      "cell_type": "markdown",
      "source": [
        "## Tipos de datos primitivos"
      ],
      "metadata": {
        "id": "WbbeEX6Fq4sR"
      }
    },
    {
      "cell_type": "markdown",
      "source": [
        "En el ámbito real, cada **objeto** se asigna a una categoría específica; de manera similar, en programación, lidiamos con *objetos que están vinculados a una **clase** particular*.\n",
        "\n",
        "Los **tipos o clases de datos** fundamentales con los que se puede operar en Python son:\n",
        "\n",
        "\n",
        "\n",
        "1.   Números (numbers)\n",
        "2.   Cadenas (strings)\n",
        "3.   Booleanos (boolean)\n",
        "\n"
      ],
      "metadata": {
        "id": "a8yLATsDq8AG"
      }
    },
    {
      "cell_type": "code",
      "source": [
        "# Los números pueden ser tipo int\n",
        "type(1)"
      ],
      "metadata": {
        "colab": {
          "base_uri": "https://localhost:8080/"
        },
        "id": "cJL-8LHbsS4s",
        "outputId": "89330884-f806-4340-c772-d8053e2b0acf"
      },
      "execution_count": null,
      "outputs": [
        {
          "output_type": "execute_result",
          "data": {
            "text/plain": [
              "int"
            ]
          },
          "metadata": {},
          "execution_count": 2
        }
      ]
    },
    {
      "cell_type": "markdown",
      "source": [
        "**Observaciones:**\n",
        "\n",
        "*   Poner un símbolo # al inicio de la sentencia es para comentar código --> no se ejectuta\n",
        "*   La función type() aplicada a cualquer objeto indica la clase o tipo de objeto\n",
        "\n"
      ],
      "metadata": {
        "id": "hidUjvfus-aN"
      }
    },
    {
      "cell_type": "code",
      "source": [
        "# Los números pueden ser tipo float\n",
        "type(4)"
      ],
      "metadata": {
        "colab": {
          "base_uri": "https://localhost:8080/"
        },
        "id": "g1ik0PMDsOdR",
        "outputId": "38d346a7-cf5b-44c4-eae9-1034c1976b83"
      },
      "execution_count": null,
      "outputs": [
        {
          "output_type": "execute_result",
          "data": {
            "text/plain": [
              "int"
            ]
          },
          "metadata": {},
          "execution_count": 3
        }
      ]
    },
    {
      "cell_type": "markdown",
      "source": [
        "Los **operadores aritméticos** son:\n",
        "\n",
        "Operadores aritméticos: + (suma), - (resta), * (producto), / (cociente), // (cociente división entera), % (resto división entera), ** (potencia)."
      ],
      "metadata": {
        "id": "7xQQqCtsteqH"
      }
    },
    {
      "cell_type": "code",
      "source": [
        "#Potencia\n",
        "print((2+2)**2)\n",
        "#Resto de división:\n",
        "print( 3%2)"
      ],
      "metadata": {
        "colab": {
          "base_uri": "https://localhost:8080/"
        },
        "id": "XWf1f7BdtXJw",
        "outputId": "c0bc2550-05af-4545-82c3-d63386bb736b"
      },
      "execution_count": null,
      "outputs": [
        {
          "output_type": "stream",
          "name": "stdout",
          "text": [
            "16\n",
            "1\n"
          ]
        }
      ]
    },
    {
      "cell_type": "markdown",
      "source": [
        "**Observación:**\n",
        "\n",
        "*   La función print() imprime el resultado de operaciones o el contenido de algunos objetos.\n",
        "*   La única operación que no necesita print() es el último comando de la celda, ese se imprime solo.\n"
      ],
      "metadata": {
        "id": "qZJu8MVst5cD"
      }
    },
    {
      "cell_type": "markdown",
      "source": [
        "Los **operadores lógicos** son:\n",
        "\n",
        "== (igual que), > (mayor que), < (menor que), >= (mayor o igual que), <= (menor o igual que), != (distinto de)."
      ],
      "metadata": {
        "id": "8a2iX3EpuJO5"
      }
    },
    {
      "cell_type": "code",
      "source": [
        "print(8==9)\n",
        "4<5"
      ],
      "metadata": {
        "colab": {
          "base_uri": "https://localhost:8080/"
        },
        "id": "pMoQaiMEusDB",
        "outputId": "c7bf1fd5-737f-4fdc-f330-9995b586574e"
      },
      "execution_count": null,
      "outputs": [
        {
          "output_type": "stream",
          "name": "stdout",
          "text": [
            "False\n"
          ]
        },
        {
          "output_type": "execute_result",
          "data": {
            "text/plain": [
              "True"
            ]
          },
          "metadata": {},
          "execution_count": 5
        }
      ]
    },
    {
      "cell_type": "markdown",
      "source": [
        "**Variable**\n",
        "\n",
        "Una **variable** se define como un identificador asociado a un valor específico.\n",
        "\n",
        "Aquí están las pautas para nombrarlas:\n",
        "\n",
        "\n",
        "1.   Deben comenzar siempre con una letra, seguida de otras letras o números.\n",
        "2.   No se permite el uso de palabras reservadas del lenguaje.\n",
        "3.   Pueden contener los caracteres: minúsculas, mayúsculas, dígito o Guiones bajos (_).\n",
        "4.   Los nombres de variables son «case-sensitive» Por ejemplo, `Respuesta` y `respuesta` son nombres diferentes.\n",
        "\n",
        "\n",
        "La asignación se hace con el signo = y se borra una varible con el comando `del`\n",
        "\n"
      ],
      "metadata": {
        "id": "aqwv85FGwAvf"
      }
    },
    {
      "cell_type": "code",
      "source": [
        "#Un listado de palabras clave\n",
        "help('keywords')"
      ],
      "metadata": {
        "colab": {
          "base_uri": "https://localhost:8080/"
        },
        "id": "CaDPeQcbwwTR",
        "outputId": "f0bc3ac1-16c2-49ff-c007-03e447773b49"
      },
      "execution_count": null,
      "outputs": [
        {
          "output_type": "stream",
          "name": "stdout",
          "text": [
            "\n",
            "Here is a list of the Python keywords.  Enter any keyword to get more help.\n",
            "\n",
            "False               class               from                or\n",
            "None                continue            global              pass\n",
            "True                def                 if                  raise\n",
            "and                 del                 import              return\n",
            "as                  elif                in                  try\n",
            "assert              else                is                  while\n",
            "async               except              lambda              with\n",
            "await               finally             nonlocal            yield\n",
            "break               for                 not                 \n",
            "\n"
          ]
        }
      ]
    },
    {
      "cell_type": "code",
      "source": [
        "x = 2.923\n",
        "y = 3\n",
        "z = 'Hola mundo'\n",
        "x\n",
        "print(y)\n",
        "z;\n"
      ],
      "metadata": {
        "colab": {
          "base_uri": "https://localhost:8080/"
        },
        "id": "hcc7dz6VxGCM",
        "outputId": "ee941f09-db96-43bd-dd4f-d9bcaa3195e1"
      },
      "execution_count": null,
      "outputs": [
        {
          "output_type": "stream",
          "name": "stdout",
          "text": [
            "3\n"
          ]
        }
      ]
    },
    {
      "cell_type": "markdown",
      "source": [
        "Algunas operaciones de asignación son:"
      ],
      "metadata": {
        "id": "KL8ixaC3yFpK"
      }
    },
    {
      "cell_type": "code",
      "source": [
        "# Asignación múltiple (en la misma fila)\n",
        "a1, a2 = 1, 2\n",
        "print(a1)\n",
        "print(a2)\n",
        "\n",
        "# Intercambio de valores\n",
        "a1, a2 = a2, a1\n",
        "print(a1)\n",
        "print(a2)\n",
        "\n",
        "# Incremento (equivale a x = x + 2)\n",
        "a1 += 2\n",
        "print(a1)\n",
        "# Decremento (equivale a x = x - 1)\n",
        "a2 -= 1\n",
        "print(a2)\n",
        "\n",
        "# Valor no definido\n",
        "x = None"
      ],
      "metadata": {
        "colab": {
          "base_uri": "https://localhost:8080/"
        },
        "id": "VKTLR6tdxspy",
        "outputId": "810e8b34-df34-4486-d6d2-86d5f155ebd3"
      },
      "execution_count": null,
      "outputs": [
        {
          "output_type": "stream",
          "name": "stdout",
          "text": [
            "1\n",
            "2\n",
            "2\n",
            "1\n",
            "4\n",
            "0\n"
          ]
        }
      ]
    },
    {
      "cell_type": "markdown",
      "source": [
        "**Cadenas de texto**:\n",
        "\n",
        "Se escriben entre comillas sencillas ’ o dobles “."
      ],
      "metadata": {
        "id": "wGq4m1Bxv2G7"
      }
    },
    {
      "cell_type": "code",
      "source": [
        "z1 = 'Hola'\n",
        "z2 = 'Mundo'"
      ],
      "metadata": {
        "id": "r2HnocViyRtv"
      },
      "execution_count": null,
      "outputs": []
    },
    {
      "cell_type": "markdown",
      "source": [
        "Para acceder a los elementos de una cadena se usa índices entre corchetes [] empezando por 0 (primer elemento)"
      ],
      "metadata": {
        "id": "wGMq1qaBygnN"
      }
    },
    {
      "cell_type": "code",
      "source": [
        "#Para acceder a los elementos de una cadena []\n",
        "print(z1[0])\n",
        "print(z1[1])\n",
        "print(z1[2])\n",
        "print(z1[3])\n"
      ],
      "metadata": {
        "colab": {
          "base_uri": "https://localhost:8080/"
        },
        "id": "5sfirp50ycX1",
        "outputId": "b96d5fa0-6789-4698-d7b8-95d6f602ecd3"
      },
      "execution_count": null,
      "outputs": [
        {
          "output_type": "stream",
          "name": "stdout",
          "text": [
            "H\n",
            "o\n",
            "l\n",
            "a\n"
          ]
        }
      ]
    },
    {
      "cell_type": "markdown",
      "source": [
        "**Subcadenas**\n",
        "\n",
        "c[i:j:k] : Devuelve la subcadena de c desde el carácter con el índice i hasta el carácter anterior al índice j, tomando caracteres cada k."
      ],
      "metadata": {
        "id": "RmSTF4CWy2Z0"
      }
    },
    {
      "cell_type": "code",
      "source": [
        "print(z2[0:4:2])\n",
        "print(z1[0:3])"
      ],
      "metadata": {
        "colab": {
          "base_uri": "https://localhost:8080/"
        },
        "id": "PR5tMm6XzINF",
        "outputId": "04046cb7-747c-4e1c-c848-64edfcd657a0"
      },
      "execution_count": null,
      "outputs": [
        {
          "output_type": "stream",
          "name": "stdout",
          "text": [
            "Mn\n",
            "Hol\n"
          ]
        }
      ]
    },
    {
      "cell_type": "markdown",
      "source": [
        "**Operaciones con cadenas**\n",
        "\n",
        "1.   c1 + c2 : Devuelve la cadena resultado de concatenar las cadenas c1 y c2.\n",
        "2.   c * n : Devuelve la cadena resultado de concatenar n copias de la cadena c.\n",
        "3.   c1 in c2 : Devuelve True si c1 es una cadena concenida en c2 y False en caso contrario.\n",
        "4.   c1 not in c2 : Devuelve True si c1 es una cadena no concenida en c2 y False en caso contrario.\n",
        "\n",
        "\n",
        "\n"
      ],
      "metadata": {
        "id": "Ee4EXwLvzdwW"
      }
    },
    {
      "cell_type": "code",
      "source": [
        "z3=z1 + ' '+ z2\n",
        "print(z3)\n",
        "print(5*z1)\n",
        "print('a' in z1)"
      ],
      "metadata": {
        "colab": {
          "base_uri": "https://localhost:8080/"
        },
        "id": "uRew-d4azdNi",
        "outputId": "83c26c7a-b126-4108-e0ca-e5fe19195e53"
      },
      "execution_count": null,
      "outputs": [
        {
          "output_type": "stream",
          "name": "stdout",
          "text": [
            "Hola Mundo\n",
            "HolaHolaHolaHolaHola\n",
            "True\n"
          ]
        }
      ]
    },
    {
      "cell_type": "markdown",
      "source": [
        "**Funciones aplicadas a cadenas**\n",
        "1.   len(c) : Devuelve el número de caracteres de la cadena c.\n",
        "2.   c.upper() : Devuelve la cadena con los mismos caracteres que la cadena c pero en mayúsculas.\n",
        "3.   c.lower() : Devuelve la cadena con los mismos caracteres que la cadena c pero en minúsculas.\n",
        "4.   c.title() : Devuelve la cadena con los mismos caracteres que la cadena c con el primer carácter en mayúsculas y el resto en minúsculas."
      ],
      "metadata": {
        "id": "zNLKK6pm0kGN"
      }
    },
    {
      "cell_type": "code",
      "source": [
        "print(len(z3))\n",
        "print(z3.upper())\n",
        "print(z3.title())"
      ],
      "metadata": {
        "colab": {
          "base_uri": "https://localhost:8080/"
        },
        "id": "CMRU_WTS00So",
        "outputId": "8d731d85-b8a7-4333-bc69-2c60e50993f0"
      },
      "execution_count": null,
      "outputs": [
        {
          "output_type": "stream",
          "name": "stdout",
          "text": [
            "10\n",
            "HOLA MUNDO\n",
            "Hola Mundo\n"
          ]
        }
      ]
    },
    {
      "cell_type": "markdown",
      "source": [
        "**Observación:**\n",
        "cuando a un objeto se le pone un . y luego una función, quiere decir que se está usando una función guardada en ese objeto. Esas funciones reciben el nombre de **Métodos**"
      ],
      "metadata": {
        "id": "zv9tij1P1YNB"
      }
    },
    {
      "cell_type": "markdown",
      "source": [
        "**Conversión de datos primitivos simples**\n",
        "Las siguientes funciones convierten un dato de un tipo en otro, siempre y cuando la conversión sea posible.\n",
        "\n",
        "*   int() convierte a entero.\n",
        "*   float() convierte a real.\n",
        "*   str() convierte a cadena.\n",
        "*   bool() convierte a lógico.\n"
      ],
      "metadata": {
        "id": "wGVtXJ1k2Cvh"
      }
    },
    {
      "cell_type": "code",
      "source": [
        "print(\"Cadena a entero:\")\n",
        "print(int('134'))\n",
        "\n",
        "print(\"Real a cadena:\")\n",
        "print(str(13.4))\n"
      ],
      "metadata": {
        "colab": {
          "base_uri": "https://localhost:8080/"
        },
        "id": "fs98BaMA2ONb",
        "outputId": "f9e430d7-acfb-45b3-d170-792426dd1d81"
      },
      "execution_count": null,
      "outputs": [
        {
          "output_type": "stream",
          "name": "stdout",
          "text": [
            "Cadena a entero:\n",
            "134\n",
            "Real a cadena:\n",
            "13.4\n"
          ]
        }
      ]
    },
    {
      "cell_type": "markdown",
      "source": [
        "## Estructuras de datos"
      ],
      "metadata": {
        "id": "VmecghYY2pHk"
      }
    },
    {
      "cell_type": "markdown",
      "source": [
        "Aunque ya hemos explorado la sección sobre tipos de datos, ahora podemos abordar **tipos de datos más elaborados** en Python, que se presentan en forma de estructuras de datos.\n",
        "\n",
        " *Si concebimos estos elementos como átomos, las estructuras de datos que examinaremos serían equivalentes a moléculas.*\n",
        "\n",
        "En otras palabras, **combinamos tipos básicos para formar estructuras más complejas**.\n",
        "\n",
        "Abordaremos diversas estructuras de datos, como **listas, tuplas y diccionarios**."
      ],
      "metadata": {
        "id": "KJ7OoOYV26WK"
      }
    },
    {
      "cell_type": "markdown",
      "source": [
        "### **Listas**"
      ],
      "metadata": {
        "id": "lFWHhYKAEJlA"
      }
    },
    {
      "cell_type": "markdown",
      "source": [
        "Una lista en Python se define como una **secuencia ordenada de objetos de diversos tipos**. Se crean al colocar ***los elementos entre corchetes*** [ ] y ***separarlos por comas***.\n",
        "\n",
        "Características clave:\n",
        "\n",
        "*   **Ordenadas**: Los elementos de la lista siguen un orden específico.\n",
        "\n",
        "*   **Variedad de tipos**: Pueden contener elementos de diferentes tipos en una misma lista.\n",
        "\n",
        "*   **Mutables**: Las listas son mutables, lo que significa que pueden ser modificadas durante la ejecución de un programa."
      ],
      "metadata": {
        "id": "CYHWO8MA3AxB"
      }
    },
    {
      "cell_type": "code",
      "source": [
        "#Lista vacia\n",
        "print(type([]))\n",
        "[]"
      ],
      "metadata": {
        "colab": {
          "base_uri": "https://localhost:8080/"
        },
        "id": "axZ4RYm34Fbo",
        "outputId": "1d55a3da-28fd-47e0-cd80-d211d4cef9ec"
      },
      "execution_count": null,
      "outputs": [
        {
          "output_type": "stream",
          "name": "stdout",
          "text": [
            "<class 'list'>\n"
          ]
        },
        {
          "output_type": "execute_result",
          "data": {
            "text/plain": [
              "[]"
            ]
          },
          "metadata": {},
          "execution_count": 15
        }
      ]
    },
    {
      "cell_type": "code",
      "source": [
        "#Lista con elementos diferentes\n",
        "lista1 = [1, 'Hola', 2.34, True, 'Mundo']\n",
        "lista1"
      ],
      "metadata": {
        "colab": {
          "base_uri": "https://localhost:8080/"
        },
        "id": "jHNJN2rg4SSu",
        "outputId": "956364a4-80a8-4412-cabe-19b08a300352"
      },
      "execution_count": null,
      "outputs": [
        {
          "output_type": "execute_result",
          "data": {
            "text/plain": [
              "[1, 'Hola', 2.34, True, 'Mundo']"
            ]
          },
          "metadata": {},
          "execution_count": 16
        }
      ]
    },
    {
      "cell_type": "markdown",
      "source": [
        "Se pueden crear listas con la **función list()**, creando una lista con los elementos de la secuencia o colección c."
      ],
      "metadata": {
        "id": "GhgyBezd4mSc"
      }
    },
    {
      "cell_type": "code",
      "source": [
        "list('Cadena')"
      ],
      "metadata": {
        "colab": {
          "base_uri": "https://localhost:8080/"
        },
        "id": "q3H5yznx4pEu",
        "outputId": "dea2153b-e597-4665-a952-034f2a3d35de"
      },
      "execution_count": null,
      "outputs": [
        {
          "output_type": "execute_result",
          "data": {
            "text/plain": [
              "['C', 'a', 'd', 'e', 'n', 'a']"
            ]
          },
          "metadata": {},
          "execution_count": 17
        }
      ]
    },
    {
      "cell_type": "markdown",
      "source": [
        "**Acceso a los elementos de una lista**\n",
        "\n",
        "Se emplean los mismos operadores de acceso que para cadenas de caracteres.\n",
        "\n",
        "*   l[i] : Devuelve el elemento de la lista l con el índice i.\n",
        "\n",
        "**Observación:** ***El índice del primer elemento de la lista es 0:***"
      ],
      "metadata": {
        "id": "Jh2C47By4Axm"
      }
    },
    {
      "cell_type": "code",
      "source": [
        "print(lista1[0])\n",
        "lista1[3]\n"
      ],
      "metadata": {
        "colab": {
          "base_uri": "https://localhost:8080/"
        },
        "id": "utiRgylX5Obe",
        "outputId": "ff6c5252-d3e7-421d-d875-73a78064c7ec"
      },
      "execution_count": null,
      "outputs": [
        {
          "output_type": "stream",
          "name": "stdout",
          "text": [
            "1\n"
          ]
        },
        {
          "output_type": "execute_result",
          "data": {
            "text/plain": [
              "True"
            ]
          },
          "metadata": {},
          "execution_count": 18
        }
      ]
    },
    {
      "cell_type": "markdown",
      "source": [
        "**Sublistas**\n",
        "\n",
        "Al igual como ocurrió con las cadenas de caracteres, se tienen las sublistas\n",
        "\n",
        "*   l[i:j:k] : **Devuelve la sublista** desde el elemento de l con el índice i hasta el elemento anterior al índice j, tomando elementos cada k."
      ],
      "metadata": {
        "id": "owI3BlL-5bPh"
      }
    },
    {
      "cell_type": "code",
      "source": [
        "print(lista1[0:3])"
      ],
      "metadata": {
        "colab": {
          "base_uri": "https://localhost:8080/"
        },
        "id": "OCuVcSpY5xe8",
        "outputId": "6a135e35-77eb-4010-bbc7-486546ba8eab"
      },
      "execution_count": null,
      "outputs": [
        {
          "output_type": "stream",
          "name": "stdout",
          "text": [
            "[1, 'Hola', 2.34]\n"
          ]
        }
      ]
    },
    {
      "cell_type": "markdown",
      "source": [
        "**Operaciones que no modifican una lista:**\n",
        "\n",
        "*   len(l) : Devuelve el número de elementos de la lista l.\n",
        "*   sum(l) : Devuelve la suma de los elementos de la lista l, siempre que los datos se puedan sumar.\n",
        "*   dato in l : Devuelve True si el dato dato pertenece a la lista l y False en caso contrario.\n",
        "*   l.index(dato) : Devuelve la posición que ocupa en la lista l el primer elemento con valor dato.\n",
        "*   l.count(dato) : Devuelve el número de veces que el valor dato está contenido en la lista l."
      ],
      "metadata": {
        "id": "nFIUFB6367NI"
      }
    },
    {
      "cell_type": "code",
      "source": [
        "print(len(lista1))\n",
        "print('Hola' in lista1)\n",
        "print(lista1.index('Hola'))\n",
        "lista1.count('Mundo')"
      ],
      "metadata": {
        "colab": {
          "base_uri": "https://localhost:8080/"
        },
        "id": "017aC5_H7KDT",
        "outputId": "f7737293-f00c-46cc-ff70-1835abcbfd05"
      },
      "execution_count": null,
      "outputs": [
        {
          "output_type": "stream",
          "name": "stdout",
          "text": [
            "5\n",
            "True\n",
            "1\n"
          ]
        },
        {
          "output_type": "execute_result",
          "data": {
            "text/plain": [
              "1"
            ]
          },
          "metadata": {},
          "execution_count": 20
        }
      ]
    },
    {
      "cell_type": "markdown",
      "source": [
        "**Operaciones que modifican una lista**\n",
        "\n",
        "*   l1 + l2 : Crea una nueva lista concatenan los elementos de la listas l1 y l2.\n",
        "\n",
        "*   l.append(dato) : Añade dato al final de la lista l.\n",
        "\n",
        "*   l.insert(índice, dato) : Inserta dato en la posición índice de la lista l y desplaza los elementos una posición a partir de la posición índice.\n",
        "\n",
        "*   l.remove(dato) : Elimina el primer elemento con valor dato en la lista l y desplaza los que están por detrás de él una posición hacia delante.\n",
        "\n",
        "*   l.pop([índice]) : Devuelve el dato en la posición índice y lo elimina de la lista l, desplazando los elementos por detrás de él una posición hacia delante.\n",
        "\n",
        "*   l.sort() : Ordena los elementos de la lista l de acuerdo al orden predefinido, siempre que los elementos sean comparables.\n",
        "*   l.reverse() : invierte el orden de los elementos de la lista l."
      ],
      "metadata": {
        "id": "3Pr2Xnpt7kCU"
      }
    },
    {
      "cell_type": "code",
      "source": [
        "lista2 = [2, 2.3, 'Hola']\n",
        "\n",
        "#Concatenar listas\n",
        "print(lista1 + lista2)\n",
        "\n",
        "#Agregar un elemento al final de la lista\n",
        "lista1.append(-23)\n",
        "print(lista1)"
      ],
      "metadata": {
        "colab": {
          "base_uri": "https://localhost:8080/"
        },
        "id": "u0_XlWqe78af",
        "outputId": "1cf3994e-45fe-440f-dac8-0498730ec4ed"
      },
      "execution_count": null,
      "outputs": [
        {
          "output_type": "stream",
          "name": "stdout",
          "text": [
            "[1, 'Hola', 2.34, True, 'Mundo', 2, 2.3, 'Hola']\n",
            "[1, 'Hola', 2.34, True, 'Mundo', -23]\n"
          ]
        }
      ]
    },
    {
      "cell_type": "markdown",
      "source": [
        "### **Tuplas**"
      ],
      "metadata": {
        "id": "9uEz2KpB1ur3"
      }
    },
    {
      "cell_type": "markdown",
      "source": [
        "Las **tuplas** son secuencias ordenadas de objetos de diversos tipos.\n",
        "\n",
        "Su construcción se realiza al colocar los **elementos entre paréntesis** ( ), separados por comas.\n",
        "\n",
        "Las características distintivas de las tuplas incluyen su orden, la capacidad de **contener elementos de tipos variados** y su **inmutabilidad**, lo que significa que no pueden modificarse durante la ejecución de un programa.\n",
        "\n",
        "Estas son comúnmente empleadas para *representar colecciones de datos con una estructura específica*, como un **vector o una matriz**.\n",
        "\n",
        "\n",
        "\n",
        "\n"
      ],
      "metadata": {
        "id": "7OBl16DL1xhd"
      }
    },
    {
      "cell_type": "code",
      "source": [
        "# dato tupla\n",
        "type( () )"
      ],
      "metadata": {
        "colab": {
          "base_uri": "https://localhost:8080/"
        },
        "id": "BgcfWYoY5ZKK",
        "outputId": "25d6fcab-8ac0-4390-b2c3-e75e04777b3b"
      },
      "execution_count": null,
      "outputs": [
        {
          "output_type": "execute_result",
          "data": {
            "text/plain": [
              "tuple"
            ]
          },
          "metadata": {},
          "execution_count": 22
        }
      ]
    },
    {
      "cell_type": "code",
      "source": [
        "# Tupla con elementos de distintos tipos\n",
        "print((1, \"hola\", True))\n",
        "\n",
        "# Vector\n",
        "t1 = (4, 2, 1)\n",
        "t1"
      ],
      "metadata": {
        "colab": {
          "base_uri": "https://localhost:8080/"
        },
        "id": "DUOTFGbt5eYt",
        "outputId": "dcc9018f-53ca-4d5e-c19a-f72190f2619c"
      },
      "execution_count": null,
      "outputs": [
        {
          "output_type": "stream",
          "name": "stdout",
          "text": [
            "(1, 'hola', True)\n"
          ]
        },
        {
          "output_type": "execute_result",
          "data": {
            "text/plain": [
              "(4, 2, 1)"
            ]
          },
          "metadata": {},
          "execution_count": 23
        }
      ]
    },
    {
      "cell_type": "code",
      "source": [
        "# Matriz\n",
        "t2 = ((1, 2, 3), (4, 5, 6))\n",
        "t2"
      ],
      "metadata": {
        "colab": {
          "base_uri": "https://localhost:8080/"
        },
        "id": "CdU7adfN5vSu",
        "outputId": "17418c83-5052-44e5-fa0e-5efeb946f09f"
      },
      "execution_count": null,
      "outputs": [
        {
          "output_type": "execute_result",
          "data": {
            "text/plain": [
              "((1, 2, 3), (4, 5, 6))"
            ]
          },
          "metadata": {},
          "execution_count": 24
        }
      ]
    },
    {
      "cell_type": "markdown",
      "source": [
        "**Operaciones de tuplas**\n",
        "\n",
        "El acceso a los elementos en una tupla se lleva a cabo de *manera similar a como se hace en las listas*.\n",
        "\n",
        "Además, es posible **obtener subtuplas** de la misma manera que se obtienen sublistas.\n",
        "\n",
        "Las ***operaciones comunes en listas que no implican modificación***   también son aplicables a las tuplas."
      ],
      "metadata": {
        "id": "PEzz7Dey6o4j"
      }
    },
    {
      "cell_type": "code",
      "source": [
        "#Creación de tupla\n",
        "t3 = (1, 2, 2)\n",
        "print(type(t3))\n",
        "\n",
        "#Longitud de tupla\n",
        "print(len(t3))\n",
        "\n",
        "#Indice del valor 2\n",
        "print(t3.index(2))\n"
      ],
      "metadata": {
        "colab": {
          "base_uri": "https://localhost:8080/"
        },
        "id": "PqjkhCQW7VBi",
        "outputId": "2fc5c04e-3ce6-4f09-bd0e-084030c936f8"
      },
      "execution_count": null,
      "outputs": [
        {
          "output_type": "stream",
          "name": "stdout",
          "text": [
            "<class 'tuple'>\n",
            "3\n",
            "1\n"
          ]
        }
      ]
    },
    {
      "cell_type": "markdown",
      "source": [
        "### **Diccionarios**"
      ],
      "metadata": {
        "id": "BKTxa2wyEXYe"
      }
    },
    {
      "cell_type": "markdown",
      "source": [
        "Un diccionario es una **colección de pares** formados por una **clave** y un **valor** asociado a la clave.\n",
        "\n",
        "Se construyen poniendo los **pares entre llaves { } separados por comas**, y separando la clave del valor con dos puntos :.\n"
      ],
      "metadata": {
        "id": "Ilys2a7N74J4"
      }
    },
    {
      "cell_type": "markdown",
      "source": [
        "Se caracterizan por:\n",
        "\n",
        "*   No tienen orden.\n",
        "*   Pueden contener elementos de distintos tipos.\n",
        "*   Son **mutables**, es decir, pueden alterarse durante la ejecución de un programa.\n",
        "*   Las **claves son únicas**, es decir, no pueden repetirse en un mismo diccionario"
      ],
      "metadata": {
        "id": "uxiJui3h7-nr"
      }
    },
    {
      "cell_type": "code",
      "source": [
        "print(type({}))\n",
        "\n",
        "# Diccionario con elementos de distintos tipos\n",
        "dic1 = {'nombre':'Raúl', 'Despacho': 101, 'email':'raul.gutierrez@gmail.com'}\n",
        "print(\"Diccionario:\")\n",
        "print(dic1)\n",
        "\n",
        "# Diccionarios anidados\n",
        "dic2= {'nombre_completo':{'nombre': 'Alfredo', 'Apellidos': 'Sánchez Alberca'}}\n",
        "print(\"Diccionario anidado:\")\n",
        "print(dic2)\n"
      ],
      "metadata": {
        "colab": {
          "base_uri": "https://localhost:8080/"
        },
        "id": "WGASDxAD77Ki",
        "outputId": "f1e674cb-4e0f-4603-8624-dc9463d42fbb"
      },
      "execution_count": null,
      "outputs": [
        {
          "output_type": "stream",
          "name": "stdout",
          "text": [
            "<class 'dict'>\n",
            "Diccionario:\n",
            "{'nombre': 'Raúl', 'Despacho': 101, 'email': 'raul.gutierrez@gmail.com'}\n",
            "Diccionario anidado:\n",
            "{'nombre_completo': {'nombre': 'Alfredo', 'Apellidos': 'Sánchez Alberca'}}\n"
          ]
        }
      ]
    },
    {
      "cell_type": "markdown",
      "source": [
        "**Acceso a los elementos de un diccionar**.\n",
        "\n",
        "*  d[clave] **devuelve el valor del diccionario d asociado a la clave** `clave`. Si en el diccionario no existe esa clave devuelve un error.\n",
        "\n",
        "*  d.get(clave, valor) **devuelve el valor del diccionario d asociado a la clave** `clave`. Si en el diccionario no existe esa clave devuelve valor, y si no se especifica un valor por defecto devuelve None."
      ],
      "metadata": {
        "id": "kwtXLD0m89j4"
      }
    },
    {
      "cell_type": "code",
      "source": [
        "dic1['Despacho']"
      ],
      "metadata": {
        "colab": {
          "base_uri": "https://localhost:8080/"
        },
        "id": "bdPQ6WlBWqIs",
        "outputId": "cb076ef9-099f-4f18-a10b-772d48177b99"
      },
      "execution_count": null,
      "outputs": [
        {
          "output_type": "execute_result",
          "data": {
            "text/plain": [
              "101"
            ]
          },
          "metadata": {},
          "execution_count": 27
        }
      ]
    },
    {
      "cell_type": "markdown",
      "source": [
        "Dado el diccionario creado con antelación ¿como extraigo el nombre, despacho y correo?"
      ],
      "metadata": {
        "id": "MD0C0YyC9OHW"
      }
    },
    {
      "cell_type": "markdown",
      "source": [
        "\n",
        "\n",
        "---\n",
        "\n"
      ],
      "metadata": {
        "id": "W9EslvbR9lVM"
      }
    },
    {
      "cell_type": "code",
      "source": [
        "#Extrayendo el nombre\n",
        "print(dic1['nombre'])\n",
        "\n",
        "#Extrayendo el despacho\n",
        "print(dic1['Despacho'])\n",
        "print(dic1.get('Despacho'))\n",
        "\n",
        "#Extrayendo el email\n",
        "print(dic1['email'])\n",
        "print(dic1.get('email'))\n",
        "\n",
        "#No encuentra la clave edificio y regresa 1\n",
        "reg = dic1.get('Edificio','1')\n",
        "type(reg)"
      ],
      "metadata": {
        "colab": {
          "base_uri": "https://localhost:8080/"
        },
        "id": "NqJ7U7dM9GwV",
        "outputId": "bc6743e2-8a0f-4f80-bff9-c72364531a7c"
      },
      "execution_count": null,
      "outputs": [
        {
          "output_type": "stream",
          "name": "stdout",
          "text": [
            "Raúl\n",
            "101\n",
            "101\n",
            "raul.gutierrez@gmail.com\n",
            "raul.gutierrez@gmail.com\n"
          ]
        },
        {
          "output_type": "execute_result",
          "data": {
            "text/plain": [
              "str"
            ]
          },
          "metadata": {},
          "execution_count": 28
        }
      ]
    },
    {
      "cell_type": "markdown",
      "source": [
        "**Operaciones que no modifican un diccionario**\n",
        "\n",
        "\n",
        "*  len(d) : Devuelve el número de elementos del diccionario d.\n",
        "\n",
        "*   clave in d : Devuelve True si la clave clave pertenece al diccionario d y False en caso contrario.\n",
        "\n",
        "*   d.keys() : Devuelve un **iterador** sobre las claves de un diccionario.\n",
        "\n",
        "*   d.values() : Devuelve un **iterador** sobre los valores de un diccionario.\n",
        "\n",
        "*   d.items() : Devuelve un **iterador** sobre los pares clave-valor de un diccionario.\n",
        "\n",
        "Un **iterador** en Python es un objeto que devuelve una secuencia de valores, ya sea finita o infinita.\n",
        "\n",
        "Los iteradores son una forma especial de objetos en Python que se caracterizan por ser un c**onjunto de elementos contables**"
      ],
      "metadata": {
        "id": "wxyqukQr-aEp"
      }
    },
    {
      "cell_type": "code",
      "source": [
        "#Longitud del diccionario (número de pares)\n",
        "print(len(dic1))\n",
        "\n",
        "#imprimir llaves, valores e items\n",
        "print(dic1.keys())\n",
        "print(dic1.values())\n",
        "print(dic1.items())\n",
        "\n"
      ],
      "metadata": {
        "colab": {
          "base_uri": "https://localhost:8080/"
        },
        "id": "CFfdO9kABT_c",
        "outputId": "28072d3f-376b-4412-ae99-5c77c9eb912c"
      },
      "execution_count": null,
      "outputs": [
        {
          "output_type": "stream",
          "name": "stdout",
          "text": [
            "3\n",
            "dict_keys(['nombre', 'Despacho', 'email'])\n",
            "dict_values(['Raúl', 101, 'raul.gutierrez@gmail.com'])\n",
            "dict_items([('nombre', 'Raúl'), ('Despacho', 101), ('email', 'raul.gutierrez@gmail.com')])\n"
          ]
        }
      ]
    },
    {
      "cell_type": "markdown",
      "source": [
        "**Operaciones que modifican un diccionario**\n",
        "\n",
        "*  d[clave] = valor : **Añade al diccionario d el par** formado por la clave clave y el valor valor.\n",
        "*  d.update(d2). **Añade los pares del diccionario d2** al diccionario d.\n",
        "\n",
        "*  d.popitem() : Devuelve la tupla formada por la clave y el valor del último par añadido al diccionario d y lo elimina del diccionario.\n",
        "\n",
        "*  del d[clave] : **Elimina del diccionario d** el par con la clave clave.\n",
        "\n",
        "*  d.clear() : Elimina todos los pares del diccionario d de manera que se queda vacío."
      ],
      "metadata": {
        "id": "qFKtFVlKCLHr"
      }
    },
    {
      "cell_type": "markdown",
      "source": [
        "**PREGUNTA:**\n",
        "\n",
        "¿ Cómo agregarían la clave y valor 'Universidad' 'UAM' al diccionario dic1 y luego borrarlos?"
      ],
      "metadata": {
        "id": "qYiV0VCcC0fQ"
      }
    },
    {
      "cell_type": "code",
      "source": [
        "#Agregar clave 'Universidad' y valor 'UAM'\n",
        "dic1['Universidad']='UAM'\n",
        "print(dic1)\n",
        "\n",
        "#Quitarlos\n",
        "del dic1['Universidad']\n",
        "print(dic1)\n",
        "\n",
        "dic1.update({'Universidad':'UAM'})\n",
        "dic1"
      ],
      "metadata": {
        "colab": {
          "base_uri": "https://localhost:8080/"
        },
        "id": "5yKb_ozzDLf-",
        "outputId": "f2e1baeb-3bf7-422a-cbd5-8ec74deb517f"
      },
      "execution_count": null,
      "outputs": [
        {
          "output_type": "stream",
          "name": "stdout",
          "text": [
            "{'nombre': 'Raúl', 'Despacho': 101, 'email': 'raul.gutierrez@gmail.com', 'Universidad': 'UAM'}\n",
            "{'nombre': 'Raúl', 'Despacho': 101, 'email': 'raul.gutierrez@gmail.com'}\n"
          ]
        },
        {
          "output_type": "execute_result",
          "data": {
            "text/plain": [
              "{'nombre': 'Raúl',\n",
              " 'Despacho': 101,\n",
              " 'email': 'raul.gutierrez@gmail.com',\n",
              " 'Universidad': 'UAM'}"
            ]
          },
          "metadata": {},
          "execution_count": 30
        }
      ]
    },
    {
      "cell_type": "markdown",
      "source": [
        "## Condicionales"
      ],
      "metadata": {
        "id": "_na9FWZkRgld"
      }
    },
    {
      "cell_type": "markdown",
      "source": [
        "**Condicionales (if)**\n",
        "\n",
        "if condición1:\n",
        "> bloque código\n",
        "\n",
        "elif condición2:\n",
        "> bloque código\n",
        "\n",
        "....\n",
        "\n",
        "else :\n",
        "> bloque código\n"
      ],
      "metadata": {
        "id": "Y00bAeOTRq2Q"
      }
    },
    {
      "cell_type": "markdown",
      "source": [
        "Evalúa la expresión lógica **condición1** y ejecuta el primer bloque de código si es `True`;\n",
        "\n",
        "si no, **evalúa la siguientes condiciones** hasta **llegar a la primera** que es `True` y ejecuta el bloque de código asociado.\n",
        "\n",
        "Si ninguna condición es `True` ejecuta el bloque de código después de else:.\n",
        "\n",
        "Pueden aparecer ***varios bloques elif*** pero ***solo uno else al final***.\n",
        "\n",
        "**OBSERVACION:**\n",
        "\n",
        "***Los bloques de código deben estar indentados por 2 espacios.***\n"
      ],
      "metadata": {
        "id": "8E6E31sbR0of"
      }
    },
    {
      "cell_type": "code",
      "source": [
        "edad = 80\n",
        "if edad <= 18 :\n",
        "  print('Menor')\n",
        "elif edad > 65:\n",
        "  print('Jubilado')\n",
        "else:\n",
        "  print('Activo')"
      ],
      "metadata": {
        "colab": {
          "base_uri": "https://localhost:8080/"
        },
        "id": "FPx6lQtuSPOX",
        "outputId": "0e846292-02b0-4bdd-d8d8-68290b89b887"
      },
      "execution_count": null,
      "outputs": [
        {
          "output_type": "stream",
          "name": "stdout",
          "text": [
            "Jubilado\n"
          ]
        }
      ]
    },
    {
      "cell_type": "markdown",
      "source": [
        "**PREGUNTA:**\n",
        "\n",
        "¿ Cómo generan un bloque de código que imprima la calificación final: NA, S, B y MB de acuerdo a la calificación numérica?"
      ],
      "metadata": {
        "id": "nZiEtgEYSiJS"
      }
    },
    {
      "cell_type": "markdown",
      "source": [
        "## Bucles"
      ],
      "metadata": {
        "id": "NdNUXn06Rkwt"
      }
    },
    {
      "cell_type": "markdown",
      "source": [
        "**Bucles iterativos (for)**\n",
        "\n",
        "for i in secuencia:\n",
        ">  bloque código\n",
        "\n",
        "**Repite la ejecución del bloque de código** para cada elemento de la secuencia, asignado dicho elemento a i en cada repetición.\n",
        "\n",
        "Se puede **interrumpir** en cualquier momento la ejecución del bloque de código con la instrucción `break` o **saltar** la ejecución para un determinado elemento de la secuencia con la instrucción `continue`.\n",
        "\n",
        "**OBSERVACION:**\n",
        "\n",
        "***El bloque de código deben estar indentado por 2 espacios.***"
      ],
      "metadata": {
        "id": "-Xk_SxGGS5Kf"
      }
    },
    {
      "cell_type": "markdown",
      "source": [
        "Se utiliza fundamentalmente para r**ecorrer colecciones** de objetos como ***cadenas, listas, tuplas o diccionarios***.\n",
        "\n"
      ],
      "metadata": {
        "id": "BDJGrVXhTKo3"
      }
    },
    {
      "cell_type": "code",
      "source": [
        "palabra = 'Python'\n",
        "for letra in palabra:\n",
        "  print(letra)\n"
      ],
      "metadata": {
        "colab": {
          "base_uri": "https://localhost:8080/"
        },
        "id": "K2wB8FvITVMm",
        "outputId": "2a5d6ef6-744e-4511-d8aa-60f3f86f671f"
      },
      "execution_count": null,
      "outputs": [
        {
          "output_type": "stream",
          "name": "stdout",
          "text": [
            "P\n",
            "y\n",
            "t\n",
            "h\n",
            "o\n",
            "n\n"
          ]
        }
      ]
    },
    {
      "cell_type": "markdown",
      "source": [
        "A menudo se usan con la instrucción `range`:\n",
        "\n",
        "*  range(fin) : Genera una secuencia de números enteros desde 0 hasta fin-1.\n",
        "*  range(inicio, fin, salto) : Genera una secuencia de números enteros desde inicio hasta fin-1 con un incremento de salto."
      ],
      "metadata": {
        "id": "PQm8c9vgvXvi"
      }
    },
    {
      "cell_type": "code",
      "source": [
        "# Ejemplo con un argumento\n",
        "for i in range(5):\n",
        "    print(i) # prints: 0, 1, 2, 3, 4,"
      ],
      "metadata": {
        "colab": {
          "base_uri": "https://localhost:8080/"
        },
        "id": "xRBTXgidvRIX",
        "outputId": "7483cfc2-13d6-4c20-95d4-697471cbf97a"
      },
      "execution_count": null,
      "outputs": [
        {
          "output_type": "stream",
          "name": "stdout",
          "text": [
            "0\n",
            "1\n",
            "2\n",
            "3\n",
            "4\n"
          ]
        }
      ]
    },
    {
      "cell_type": "markdown",
      "source": [
        "**PREGUNTA**\n",
        "\n",
        "¿Cómo imprimo en pantalla los múltiplos del 5, empezando desde 10 y terminando en el 100?"
      ],
      "metadata": {
        "id": "l6d-v6APvix5"
      }
    },
    {
      "cell_type": "markdown",
      "source": [
        "## Funciones"
      ],
      "metadata": {
        "id": "W0eI8p9lEkPb"
      }
    },
    {
      "cell_type": "markdown",
      "source": [
        "Una **función** es un bloque de código que tiene asociado un nombre, de manera que cada vez que ***se quiera ejecutar el bloque de código*** basta con **invocar el nombre de la función**.\n",
        "\n",
        "Para declarar una función se utiliza la siguiente sintaxis:\n",
        "\n",
        "def nombre-funcion (parámetros):\n",
        "\n",
        "> bloque código\n",
        "\n",
        "> return objeto\n",
        "\n",
        "\n"
      ],
      "metadata": {
        "id": "i_-LBAE3EBeH"
      }
    },
    {
      "cell_type": "code",
      "source": [
        "#Definición de la función\n",
        "def bienvenida():\n",
        "  print('¡Bienvenido a Python!')\n",
        "  return\n",
        "\n",
        "bienvenida()"
      ],
      "metadata": {
        "colab": {
          "base_uri": "https://localhost:8080/"
        },
        "id": "FjdsdbkhFafh",
        "outputId": "aa377103-3189-4a1c-d381-521d636b3010"
      },
      "execution_count": null,
      "outputs": [
        {
          "output_type": "stream",
          "name": "stdout",
          "text": [
            "¡Bienvenido a Python!\n"
          ]
        }
      ]
    },
    {
      "cell_type": "markdown",
      "source": [
        "**Parámetros y argumentos de una función**\n",
        "\n",
        "Una función puede recibir valores cuando se invoca a través de unas variables conocidas como **parámetros** que se definen entre paréntesis en la declaración de la función.\n",
        "\n",
        "En el **cuerpo de la función** se pueden usar estos parámetros c**omo si fuesen variables**.\n",
        "\n",
        "Los valores que se pasan a la ***función en una llamada o invocación*** concreta de ella se conocen como **argumentos** y se asocian a los parámetros de la declaración de la función."
      ],
      "metadata": {
        "id": "ZF6s2bUyFiyp"
      }
    },
    {
      "cell_type": "code",
      "source": [
        "#Función con un parámetro\n",
        "def bienvenida(nombre):\n",
        "  print('¡Bienvenido a Python', nombre + '!')\n",
        "  return\n",
        "\n",
        "#Se pasa un argumento\n",
        "bienvenida('Laura')\n"
      ],
      "metadata": {
        "colab": {
          "base_uri": "https://localhost:8080/"
        },
        "id": "peN9civEFvp2",
        "outputId": "fa6d1101-6748-4b67-8e9c-673ebb6530f1"
      },
      "execution_count": null,
      "outputs": [
        {
          "output_type": "stream",
          "name": "stdout",
          "text": [
            "¡Bienvenido a Python Laura!\n"
          ]
        }
      ]
    },
    {
      "cell_type": "markdown",
      "source": [
        "**Paso de argumentos a una función**\n",
        "\n",
        "Los argumentos se pueden pasar de dos formas:\n",
        "\n",
        "*   **Argumentos posicionales**: Se asocian a los parámetros de la función en ***el mismo orden que aparecen*** en la definición de la función.\n",
        "\n",
        "*   **Argumentos nominales**: Se indica ***explícitamente el nombre del parámetro*** al que se asocia un argumento de la forma parametro = argumento."
      ],
      "metadata": {
        "id": "ovbeCHhcH4e5"
      }
    },
    {
      "cell_type": "markdown",
      "source": [
        "**PREGUNTA:**\n",
        "\n",
        "¿ Cómo genero una función donde agrego dos parámetros, el nombre y apellido para que los imprima en pantalla?"
      ],
      "metadata": {
        "id": "lBwDhugKGB9M"
      }
    },
    {
      "cell_type": "code",
      "source": [
        "#Función con dos parámetros\n",
        "def bienvenida(nombre, apellido):\n",
        "  print('¡Bienvenido a Python', nombre, apellido + '!')\n",
        "  return\n",
        "\n",
        "#Argumentos posicionales\n",
        "bienvenida('Alfredo', 'Sánchez')\n",
        "\n",
        "#Argumentos nominales\n",
        "bienvenida(apellido = 'Sánchez', nombre = 'Alfredo')\n"
      ],
      "metadata": {
        "colab": {
          "base_uri": "https://localhost:8080/"
        },
        "id": "q1gZ9ZTeH8Zi",
        "outputId": "f8ba21ae-8c9a-454b-bf36-93f7c8e1aff3"
      },
      "execution_count": null,
      "outputs": [
        {
          "output_type": "stream",
          "name": "stdout",
          "text": [
            "¡Bienvenido a Python Alfredo Sánchez!\n",
            "¡Bienvenido a Python Alfredo Sánchez!\n"
          ]
        }
      ]
    },
    {
      "cell_type": "markdown",
      "source": [
        "**Retorno de una función**\n",
        "\n",
        "Una función puede **devolver un objeto de cualquier tipo tras su invocación**.\n",
        "\n",
        "Para ello el objeto a devolver debe escribirse después de la palabra reservada return. Si no se indica ningún objeto, la función no devolverá nada."
      ],
      "metadata": {
        "id": "IfQsPHC2HYFl"
      }
    },
    {
      "cell_type": "code",
      "source": [
        "#Función para calcular el área de un triángulo\n",
        "def area_triangulo(base, altura):\n",
        "  return base * altura / 2\n",
        "\n",
        "area_triangulo(2, 3)"
      ],
      "metadata": {
        "colab": {
          "base_uri": "https://localhost:8080/"
        },
        "id": "uOdFZBvoGIqm",
        "outputId": "3d03b507-1863-4bf8-fa63-67133b72f9e2"
      },
      "execution_count": null,
      "outputs": [
        {
          "output_type": "execute_result",
          "data": {
            "text/plain": [
              "3.0"
            ]
          },
          "metadata": {},
          "execution_count": 37
        }
      ]
    },
    {
      "cell_type": "markdown",
      "source": [
        "**Argumentos por defecto**\n",
        "\n",
        "En la definición de una función se puede asignar a cada parámetro un **argumento por defecto**, de manera que si se invoca la función sin proporcionar ningún argumento para ese parámetro, ***se utiliza el argumento por defecto***.\n",
        "\n"
      ],
      "metadata": {
        "id": "AJqXfZpjIVWs"
      }
    },
    {
      "cell_type": "code",
      "source": [
        "def bienvenida(nombre, lenguaje = 'Python'):\n",
        "  print('¡Bienvenido al curso de', lenguaje, nombre + '!')\n",
        "  return\n",
        "\n",
        "#Sin el 2do argumento\n",
        "bienvenida('Laura')\n",
        "\n",
        "#Con el 2do argumento de forma posicional\n",
        "bienvenida('Laura', 'R')\n"
      ],
      "metadata": {
        "colab": {
          "base_uri": "https://localhost:8080/"
        },
        "id": "VA9Y_rh-IUiD",
        "outputId": "621fdc14-a265-4367-e674-bc3055107c80"
      },
      "execution_count": null,
      "outputs": [
        {
          "output_type": "stream",
          "name": "stdout",
          "text": [
            "¡Bienvenido al curso de Python Laura!\n",
            "¡Bienvenido al curso de R Laura!\n"
          ]
        }
      ]
    },
    {
      "cell_type": "code",
      "source": [
        "print('Hola', 'Mundo')"
      ],
      "metadata": {
        "colab": {
          "base_uri": "https://localhost:8080/"
        },
        "id": "7-SsKxUmJBqh",
        "outputId": "8d52230b-f9cd-401a-ae3a-2a6f21d9acd7"
      },
      "execution_count": null,
      "outputs": [
        {
          "output_type": "stream",
          "name": "stdout",
          "text": [
            "Hola Mundo\n"
          ]
        }
      ]
    },
    {
      "cell_type": "markdown",
      "source": [
        "## Programación orientada a objetos\n"
      ],
      "metadata": {
        "id": "rnTC-UukHzQL"
      }
    },
    {
      "cell_type": "markdown",
      "source": [
        "Python también permite la **programación orientada a objetos**, que es un paradigma de programación en la que los datos y las operaciones que pueden realizarse con esos datos se agrupan en ***unidades lógicas llamadas objetos***."
      ],
      "metadata": {
        "id": "Ho2ijIvqKl5k"
      }
    },
    {
      "cell_type": "markdown",
      "source": [
        "\n",
        "\n",
        "*   Los objetos suelen representar conceptos del dominio del programa, como un\n",
        "estudiante, un coche, un teléfono, etc.\n",
        "\n",
        "*   Los datos que describen las características del objeto se llaman **atributos** y son la *parte estática del objeto*.\n",
        "\n",
        "\n",
        "*   Mientras que las operaciones que puede realizar el objeto se llaman **métodos** y son la *parte dinámica del objeto*.\n",
        "\n",
        "\n",
        "\n",
        "\n",
        "---\n",
        "\n",
        "\n",
        "Ejemplo. Una **tarjeta de crédito** puede representarse como un objeto:\n",
        "\n",
        "*  **Atributos**: Número de la tarjeta, titular, balance, fecha de caducidad, pin, entidad emisora, estado (activa o no), etc.\n",
        "*  **Métodos:** Activar, pagar, renovar, anular.\n",
        "\n"
      ],
      "metadata": {
        "id": "9ddbuYJMK0iw"
      }
    },
    {
      "cell_type": "markdown",
      "source": [
        "**Acceso a los atributos y métodos de un objeto**\n",
        "\n",
        "*  dir(objeto): Devuelve una lista con los nombres de los atributos y métodos del objeto objeto.\n",
        "\n",
        "\n",
        "\n",
        "---\n",
        "\n"
      ],
      "metadata": {
        "id": "He31RpVjLKqX"
      }
    },
    {
      "cell_type": "markdown",
      "source": [
        "Para acceder a los **atributos y métodos** de un objeto se pone el nombre del objeto seguido del operador punto y el nombre del atributo o el método.\n",
        "\n",
        "*  objeto.atributo: **Accede al atributo** `atributo` del objeto objeto.\n",
        "\n",
        "*  objeto.método(parámetros): **Ejecuta el método** `método `del objeto objeto con los parámetros que se le pasen."
      ],
      "metadata": {
        "id": "ie3OuXcwLNHF"
      }
    },
    {
      "cell_type": "markdown",
      "source": [
        "***Ejemplo.*** Las cadenas tienen un método upper que convierte la cadena en mayúsculas. Para aplicar este método a la cadena c se utiliza la instrucción c.upper()."
      ],
      "metadata": {
        "id": "TQYc3ONILjU_"
      }
    },
    {
      "cell_type": "code",
      "source": [
        "c = 'Python'\n",
        "print(c.upper())"
      ],
      "metadata": {
        "colab": {
          "base_uri": "https://localhost:8080/"
        },
        "id": "5z0veiuiLiv4",
        "outputId": "31672211-7617-426c-b12a-7aafd468d2bd"
      },
      "execution_count": null,
      "outputs": [
        {
          "output_type": "stream",
          "name": "stdout",
          "text": [
            "PYTHON\n"
          ]
        }
      ]
    },
    {
      "cell_type": "markdown",
      "source": [
        "**PREGUNTA:**\n",
        "\n",
        "¿ Cuál es el método para agrear un elemento al final de una lista? Realiza un código para generar una lista con 4 elementos y agregar un elemento nuevo"
      ],
      "metadata": {
        "id": "Mma1ZZ4mLoUH"
      }
    },
    {
      "cell_type": "code",
      "source": [
        "l =  [1, 2, 3]\n",
        "l.append(4)         # Llamada al método append del objeto l (lista)\n",
        "print(l)\n"
      ],
      "metadata": {
        "colab": {
          "base_uri": "https://localhost:8080/"
        },
        "id": "v2t6-MVcL5rS",
        "outputId": "59f06e72-ecb5-43fc-ba39-61d8c29d492e"
      },
      "execution_count": null,
      "outputs": [
        {
          "output_type": "stream",
          "name": "stdout",
          "text": [
            "[1, 2, 3, 4]\n"
          ]
        }
      ]
    },
    {
      "cell_type": "markdown",
      "source": [
        "**Clases (class)**\n",
        "\n",
        "**Los objetos con los mismos atributos y métodos se agrupan clases**. Las clases definen los atributos y los métodos, y por tanto, la semántica o comportamiento que tienen los objetos que pertenecen a esa clase.\n",
        "\n",
        "Se puede pensar en una clase como **en un molde** a partir del cuál se pueden crear objetos.\n",
        "\n",
        "Para declarar una clase se **utiliza la palabra clave `class`** seguida del nombre de la clase y dos puntos, de acuerdo a la siguiente sintaxis:\n",
        "\n",
        "class nombre-clase:\n",
        ">    atributos\n",
        "\n",
        ">    métodos\n",
        "\n",
        "\n",
        "---\n",
        "\n",
        "\n",
        "\n",
        "*   **Los atributos se definen igual que las variables**\n",
        "\n",
        "*  **Los métodos  se definen igual que las funciones**.\n",
        "\n",
        "Para mayor detalle sobre crear clases y los conceptos relacionados ver:\n",
        "\n",
        "https://aprendeconalf.es/docencia/python/manual/objetos/"
      ],
      "metadata": {
        "id": "yrnLHxDLQy35"
      }
    },
    {
      "cell_type": "markdown",
      "source": [
        "## Módulos\n",
        "\n",
        "El código de un programa en Python puede **reutilizarse** en otro importándolo.\n",
        "\n",
        "*Cualquier fichero con código de Python reutilizable* se conoce como **módulo o librería**.\n",
        "\n",
        "Los módulos suelen contener **funciones y clases**, pero también pueden definir variables con datos simples o compuestos (listas, diccionarios, etc), o cualquier otro código válido en Python.\n",
        "\n",
        "\n",
        "---\n",
        "\n",
        "\n",
        "\n",
        "\n",
        "Python permite **importar un módulo completo o sólo algunas partes de él**.\n",
        "\n",
        "Cuando se importa un módulo completo, *el intérprete de Python ejecuta todo el código que contiene el módulo*, mientras que si solo se importan algunas partes del módulo, solo se ejecutarán esas partes."
      ],
      "metadata": {
        "id": "zHLmqCOvMQb2"
      }
    },
    {
      "cell_type": "markdown",
      "source": [
        "**Importación completa de módulos (import)**\n",
        "\n",
        "*  import M : **Ejecuta el código que contiene M y crea una referencia a él**, de manera que pueden invocarse un objeto o función f definida en él mediante la sintaxis M.f.\n",
        "\n",
        "*  import M as N : **Ejecuta el código que contiene M y crea una referencia a él con el nombre N**, de manera que pueden invocarse un objeto o función f definida en él mediante la sintaxis N.f. *Esta forma es similar a la anterior, pero se suele usar cuando el nombre del módulo es muy largo para utilizar un alias más corto*."
      ],
      "metadata": {
        "id": "f9qM-yuUFWJt"
      }
    },
    {
      "cell_type": "markdown",
      "source": [
        "**Importación parcial de módulos (from import)**\n",
        "\n",
        "\n",
        "*  from M import f, g, ... :\n",
        "Ejecuta el código que contiene M y crea referencias a los objetos f, g, ..., de manera que pueden ser invocados por su nombre.\n",
        "\n",
        "**De esta manera para invocar cualquiera de estos objetos no hace falta precederlos por el nombre del módulo, basta con escribir su nombre.**"
      ],
      "metadata": {
        "id": "wSFzY2a3FNxR"
      }
    },
    {
      "cell_type": "code",
      "source": [
        "#Importar módulo calendar\n",
        "import calendar\n",
        "print(calendar.month(2019, 4))"
      ],
      "metadata": {
        "colab": {
          "base_uri": "https://localhost:8080/"
        },
        "outputId": "f26918d9-6505-4175-d36d-037394b8542a",
        "id": "5y-d0qb9FNxa"
      },
      "execution_count": null,
      "outputs": [
        {
          "output_type": "stream",
          "name": "stdout",
          "text": [
            "     April 2019\n",
            "Mo Tu We Th Fr Sa Su\n",
            " 1  2  3  4  5  6  7\n",
            " 8  9 10 11 12 13 14\n",
            "15 16 17 18 19 20 21\n",
            "22 23 24 25 26 27 28\n",
            "29 30\n",
            "\n"
          ]
        }
      ]
    },
    {
      "cell_type": "code",
      "source": [
        "import calendar as ca\n",
        "print(ca.month(2020,5))"
      ],
      "metadata": {
        "colab": {
          "base_uri": "https://localhost:8080/"
        },
        "id": "jsz-Z59xq0JI",
        "outputId": "8d79e447-0298-4a34-f330-b40175d24848"
      },
      "execution_count": null,
      "outputs": [
        {
          "output_type": "stream",
          "name": "stdout",
          "text": [
            "      May 2020\n",
            "Mo Tu We Th Fr Sa Su\n",
            "             1  2  3\n",
            " 4  5  6  7  8  9 10\n",
            "11 12 13 14 15 16 17\n",
            "18 19 20 21 22 23 24\n",
            "25 26 27 28 29 30 31\n",
            "\n"
          ]
        }
      ]
    },
    {
      "cell_type": "markdown",
      "source": [
        "**Librerias estándar:**\n",
        "\n",
        "**Módulos de la librería estándar más importantes\n",
        "Python**  viene con una biblioteca de módulos predefinidos que no necesitan instalarse. Algunos de los más utilizados son:\n",
        "\n",
        "*  **sys**: Funciones y parámetros específicos del sistema operativo.\n",
        "*  **os**: Interfaz con el sistema operativo.\n",
        "*  **os.path**: Funciones de acceso a las rutas del sistema.\n",
        "*  **io**: Funciones para manejo de flujos de datos y ficheros.\n",
        "*  **string**: Funciones con cadenas de caracteres.\n",
        "*  **datetime**: Funciones para fechas y tiempos.\n",
        "*  **math**: Funciones y constantes matemáticas.\n",
        "*  **statistics**: Funciones estadísticas.\n",
        "*  **random**: Generación de números pseudo-aleatorios."
      ],
      "metadata": {
        "id": "NVnqjv4wFNxa"
      }
    },
    {
      "cell_type": "markdown",
      "source": [
        "**Otras librerías imprescindibles**\n",
        "\n",
        "Estas librerías no vienen en la distribución estándar de Python, pero ya viene instaladas en google colab\n",
        "\n",
        "*  **NumPy**: Funciones matemáticas avanzadas y arrays.\n",
        "*   **SciPy**: Más funciones matemáticas para aplicaciones científicas.\n",
        "*  **matplotlib**: Análisis y representación gráfica de datos.\n",
        "*   **Pandas**: Funciones para el manejo y análisis de estructuras de datos.\n",
        "*  **Request**: Acceso a internet por http."
      ],
      "metadata": {
        "id": "TCmTeUiLFNxa"
      }
    },
    {
      "cell_type": "markdown",
      "source": [
        "## Librería Numpy"
      ],
      "metadata": {
        "id": "s2FZ5SdvtkHs"
      }
    },
    {
      "cell_type": "markdown",
      "source": [
        "FUENTE: https://aprendeconalf.es/docencia/python/manual/numpy/"
      ],
      "metadata": {
        "id": "WiSEAWxWYiOZ"
      }
    },
    {
      "cell_type": "markdown",
      "source": [
        "NumPy constituye una biblioteca especializada en Python que se centra en el **cálculo numérico y el análisis de datos**, particularmente diseñada para abordar **conjuntos extensos de datos**.\n",
        "\n",
        "Introduce una categoría de objetos denominados **arrays**, los cuales posibilitan la representación de conjuntos de **datos homogéneos en múltiples dimensiones**, además de proporcionar funciones altamente eficientes para su manipulación.\n",
        "\n",
        "La ventaja distintiva de NumPy en comparación con las listas predefinidas en Python **radica en la velocidad** significativamente mayor con la que se lleva a cabo el **procesamiento de los arrays**, alcanzando hasta ***50 veces más rapidez*** que las listas. Esta característica la convierte en una elección ideal para el **tratamiento de vectores y matrices** de dimensiones considerables."
      ],
      "metadata": {
        "id": "exE_NBjwtoP8"
      }
    },
    {
      "cell_type": "markdown",
      "source": [
        "**La clase de objetos array**\n",
        "\n",
        "Un **array** es una ***estructura de datos de un mismo tipo*** organizada en forma de **tabla o cuadrícula** de distintas dimensiones.\n",
        "\n",
        "Las dimensiones de un array también se conocen como **ejes**."
      ],
      "metadata": {
        "id": "Kzym0kCbcbdZ"
      }
    },
    {
      "cell_type": "markdown",
      "source": [
        "**Creación de arrays**\n",
        "\n",
        "Para crear un array se utiliza la siguiente función de NumPy\n",
        "\n",
        "*  `np.array(lista)` : Crea un array a partir de la **lista** o **tupla** y devuelve una referencia a él. El **número de dimensiones** del array dependerá de las listas o tuplas anidadas en lista:"
      ],
      "metadata": {
        "id": "GnralnwZdRc6"
      }
    },
    {
      "cell_type": "markdown",
      "source": [
        "Para **una lista** de valores se crea **un array de una dimensión**, también conocido como **vector**.\n",
        "\n",
        "Para **una lista de listas** de valores se crea un **array de dos dimensiones**, también conocido como **matriz**.\n",
        "\n",
        "Para **una lista de listas de listas** de valores se crea u**n array de tres dimensiones**, también conocido como **cubo**.\n",
        "\n",
        "Y así sucesivamente. No hay límite en el número de dimensiones del array más allá de la memoria disponible en el sistema."
      ],
      "metadata": {
        "id": "H6SX7BC9eMaa"
      }
    },
    {
      "cell_type": "code",
      "source": [
        "import numpy as np\n",
        "\n",
        "# Array de una dimensión\n",
        "array1 = np.array([3, 4, 2])\n",
        "print(\"Array de una dimensión:\")\n",
        "print(array1)\n",
        "\n",
        "# Array de dos dimensiones\n",
        "array2 = np.array([[3, 2, 2], [4, 1, 9]])\n",
        "print(\"Array de dos dimensiones:\")\n",
        "print(array2)\n"
      ],
      "metadata": {
        "colab": {
          "base_uri": "https://localhost:8080/"
        },
        "id": "aITycG2edbLP",
        "outputId": "9043a837-7b7d-4424-8662-1f7bf28c5fbb"
      },
      "execution_count": null,
      "outputs": [
        {
          "output_type": "stream",
          "name": "stdout",
          "text": [
            "Array de una dimensión:\n",
            "[3 4 2]\n",
            "Array de dos dimensiones:\n",
            "[[3 2 2]\n",
            " [4 1 9]]\n"
          ]
        }
      ]
    },
    {
      "cell_type": "markdown",
      "source": [
        "**Atributos de un array**\n",
        "\n",
        "Existen varios atributos y funciones que describen las características de un array.\n",
        "\n",
        "*  a.ndim : Devuelve el número de dimensiones del array a.\n",
        "\n",
        "*  a.shape : Devuelve una tupla con las dimensiones del array a.\n",
        "\n",
        "*  a.size : Devuelve el número de elementos del array a.\n",
        "\n",
        "*  a.dtype: Devuelve el tipo de datos de los elementos del array a."
      ],
      "metadata": {
        "id": "9oYkOMZ6cmnd"
      }
    },
    {
      "cell_type": "code",
      "source": [
        "#Número de dimensiones del array\n",
        "print(array2.ndim)\n",
        "\n",
        "#Dimensiones\n",
        "array2.shape"
      ],
      "metadata": {
        "colab": {
          "base_uri": "https://localhost:8080/"
        },
        "id": "1R1_giithiOz",
        "outputId": "99ed4d1b-85e8-4026-c39c-4aaa022dedfa"
      },
      "execution_count": null,
      "outputs": [
        {
          "output_type": "stream",
          "name": "stdout",
          "text": [
            "2\n"
          ]
        },
        {
          "output_type": "execute_result",
          "data": {
            "text/plain": [
              "(2, 3)"
            ]
          },
          "metadata": {},
          "execution_count": 7
        }
      ]
    },
    {
      "cell_type": "markdown",
      "source": [
        "**Otras funciones útiles que permiten generar arrays son:**\n",
        "\n",
        "*  np.empty(dimensiones) : Crea y devuelve una referencia a un **array vacío** con las **dimensiones especificadas** en la tupla dimensiones.\n",
        "\n",
        "*  np.zeros(dimensiones) : Crea y devuelve una referencia a un **array con las dimensiones especificadas** en la tupla dimensiones cuyos elementos **son todos ceros**.\n",
        "\n",
        "*   np.ones(dimensiones) : Crea y devuelve una referencia a **un array con las dimensiones especificadas** en la tupla dimensiones cuyos elementos son **todos unos**.\n",
        "\n",
        "*  np.full(dimensiones, valor) : Crea y devuelve una referencia a un array con las dimensiones especificadas en la **tupla dimensiones** cuyos elementos son todos valor.\n",
        "\n",
        "*  np.identity(n) : Crea y devuelve una referencia a la **matriz identidad** de dimensión n.\n"
      ],
      "metadata": {
        "id": "iKpT_98DitEh"
      }
    },
    {
      "cell_type": "code",
      "source": [
        "print(np.zeros(2))\n",
        "print(np.zeros((2,2)))\n",
        "print(np.ones((2,2)))\n",
        "print(np.identity(5))"
      ],
      "metadata": {
        "id": "83GeMXz1vCG4"
      },
      "execution_count": null,
      "outputs": []
    },
    {
      "cell_type": "markdown",
      "source": [
        "**Acceso a los elementos de un array**\n",
        "\n",
        "Para acceder a los elementos contenidos en un array se **usan índices** al igual que para acceder a los elementos de una lista, pero indicando **los índices de cada dimensión separados por comas**.\n",
        "\n",
        "Al igual que para listas, los índices de cada dimensión comienzan en 0.\n",
        "\n",
        "También es posible **obtener subarrays con el operador dos puntos :** indicando el índice inicial y el siguiente al final para cada dimensión, de nuevo separados por comas."
      ],
      "metadata": {
        "id": "KUnJ4qf3B378"
      }
    },
    {
      "cell_type": "markdown",
      "source": [
        "**EJERCICIO**\n",
        "\n",
        "Genera un array cuadrado de dos dimensiones con los números del 1 al 16.\n",
        "\n",
        "Extrae el subarray del cuadrado de 2x2 interior de la matriz de 4x4.\n",
        "\n",
        "\n",
        "\n",
        "---\n",
        "\n"
      ],
      "metadata": {
        "id": "ngIuCXt2CCOL"
      }
    },
    {
      "cell_type": "markdown",
      "source": [
        "Una posible solución es:"
      ],
      "metadata": {
        "id": "cjBdFf-9YYCC"
      }
    },
    {
      "cell_type": "code",
      "source": [
        "array = np.array([[1,2,3,4],[5,6,7,8],[9,10,11,12],[13,14,15,16]])\n",
        "print(array)\n",
        "\n",
        "array[1:3,1:3]"
      ],
      "metadata": {
        "colab": {
          "base_uri": "https://localhost:8080/"
        },
        "id": "0aV9f2YxyAPQ",
        "outputId": "4824942c-aea3-46a7-c21b-662e04b77574"
      },
      "execution_count": null,
      "outputs": [
        {
          "output_type": "stream",
          "name": "stdout",
          "text": [
            "[[ 1  2  3  4]\n",
            " [ 5  6  7  8]\n",
            " [ 9 10 11 12]\n",
            " [13 14 15 16]]\n"
          ]
        },
        {
          "output_type": "execute_result",
          "data": {
            "text/plain": [
              "array([[ 6,  7],\n",
              "       [10, 11]])"
            ]
          },
          "metadata": {},
          "execution_count": 47
        }
      ]
    },
    {
      "cell_type": "markdown",
      "source": [
        "## Librería pandas"
      ],
      "metadata": {
        "id": "LltRDnqNBmo_"
      }
    },
    {
      "cell_type": "markdown",
      "source": [
        "FUENTE: https://aprendeconalf.es/docencia/python/manual/pandas/"
      ],
      "metadata": {
        "id": "qO7gTlCWt1r9"
      }
    },
    {
      "cell_type": "markdown",
      "source": [
        "**Pandas** es una librería de Python especializada en el ***manejo y análisis de estructuras de datos***.\n",
        "\n",
        "Las principales características de esta librería son:\n",
        "\n",
        "\n",
        "1.   Define nuevas estructuras de datos basadas en los ***arrays*** de la librería NumPy pero con nuevas funcionalidades.\n",
        "2.   Permite ***leer y escribir fácilmente ficheros*** en formato ***CSV, Excel y bases de datos SQL***.\n",
        "3.  Permite **acceder a los datos** mediante índices o nombres para filas y columnas.\n",
        "4. Ofrece métodos para **reordenar, dividir y combinar** conjuntos de datos.\n",
        "5. Permite trabajar con ***series temporales***.\n",
        "6. Realiza todas estas operaciones de manera muy eficiente."
      ],
      "metadata": {
        "id": "oJM94PP2BvzW"
      }
    },
    {
      "cell_type": "markdown",
      "source": [
        "Tipos de datos de Pandas\n",
        "Pandas dispone de ***tres estructuras*** de datos diferentes:\n",
        "\n",
        "* ***Series***: Estructura de una dimensión.\n",
        "* ***DataFrame***: Estructura de dos dimensiones (tablas).\n",
        "* ***Panel***: Estructura de tres dimensiones (cubos).\n",
        "\n",
        "Estas estructuras se construyen a partir de arrays de la librería **NumPy**, añadiendo nuevas funcionalidades.\n",
        "También se puede crear estas estructuras al leer ficheros (archivos de datos)"
      ],
      "metadata": {
        "id": "7Y6Pjd0HCuta"
      }
    },
    {
      "cell_type": "markdown",
      "source": [
        "**Creación de un DataFrame a partir de una lista de listas**\n",
        "\n",
        "Para crear un DataFrame a partir de una ***lista de listas*** se utiliza el siguiente método:\n",
        "\n",
        "*  `DataFrame(data=listas, index=lista_filas, columns=lista_columnas, dtype=lista_tipos)` : Devuelve un objeto del tipo DataFrame .\n",
        "\n",
        "***Observación***: el `index` es como el nombre de las filas. `columns` es el nombre de las columnas.\n",
        "\n",
        "Si no se pasa la lista de filas o de columnas se utilizan enteros empezando en 0. Si no se pasa la lista de tipos, se infiere."
      ],
      "metadata": {
        "id": "oKlZVjBUFe8x"
      }
    },
    {
      "cell_type": "code",
      "source": [
        "import pandas as pd\n",
        "\n",
        "df = pd.DataFrame(data=[['María', 18], ['Luis', 22],\n",
        " ['Carmen', 20], ['Héctor', 21]],columns=['Nombre', 'Edad'])\n",
        "print(df)"
      ],
      "metadata": {
        "colab": {
          "base_uri": "https://localhost:8080/"
        },
        "id": "aWPlGLySIg-E",
        "outputId": "f966208f-749d-4c22-f7c7-4b9ddc9c72cd"
      },
      "execution_count": null,
      "outputs": [
        {
          "output_type": "stream",
          "name": "stdout",
          "text": [
            "   Nombre  Edad\n",
            "0   María    18\n",
            "1    Luis    22\n",
            "2  Carmen    20\n",
            "3  Héctor    21\n"
          ]
        }
      ]
    },
    {
      "cell_type": "markdown",
      "source": [
        "**EJERCICIO:**\n",
        "\n",
        "Realicen un dataframe con dos columnas, el \"Nombre\" y \"Apellido\" de todos ustedes."
      ],
      "metadata": {
        "id": "T54SwQNNI107"
      }
    },
    {
      "cell_type": "markdown",
      "source": [
        "Centrándose en dataframes (marcos de datos) existen varios ***atributos*** o ***métodos*** para ver las ***características*** de un objeto tipo DataFrame.\n",
        "\n",
        "* MÉTODO: **df.info()** : Devuelve información (número de filas, número de columnas, índices, tipo de las columnas y memoria usado) sobre el DataFrame df.\n",
        "\n",
        "* ATRIBUTO **df.shape** : Devuelve una tupla con el número de filas y columnas del DataFrame df.\n",
        "\n",
        "* ATRIBUTO **df.size** : Devuelve el número de elementos del DataFrame.\n",
        "\n",
        "* ATRIBUTO **df.columns** : Devuelve una lista con los nombres de las columnas del DataFrame df.\n",
        "\n",
        "* ATRIBUTO **df.index** : Devuelve una lista con los nombres de las filas del DataFrame df.\n",
        "\n",
        "* ATRIBUTO **df.dtypes** : Devuelve una serie con los tipos de datos de las columnas del DataFrame df.\n",
        "\n",
        "* MÉTODO **df.head(n)** : Devuelve las n primeras filas del DataFrame df.\n",
        "\n",
        "* MÉTODO **df.tail(n)** : Devuelve las n últimas filas del DataFrame df."
      ],
      "metadata": {
        "id": "e60Kn3tJDcd4"
      }
    },
    {
      "cell_type": "code",
      "source": [
        "#Atributo para imprimir dimensiones\n",
        "print(df.shape)\n",
        "\n",
        "#Método para imprimir información\n",
        "print(df.info())\n",
        "\n",
        "#Método para imprimir el tipo de dato\n",
        "print(df.dtypes)\n",
        "\n",
        "#Atributo para el nombre de las columnas\n",
        "df.columns"
      ],
      "metadata": {
        "colab": {
          "base_uri": "https://localhost:8080/"
        },
        "id": "5-ml43fWyBKw",
        "outputId": "b80dfed6-c9d8-4b3a-cd63-b401ca14cb03"
      },
      "execution_count": null,
      "outputs": [
        {
          "output_type": "stream",
          "name": "stdout",
          "text": [
            "(4, 2)\n",
            "<class 'pandas.core.frame.DataFrame'>\n",
            "RangeIndex: 4 entries, 0 to 3\n",
            "Data columns (total 2 columns):\n",
            " #   Column  Non-Null Count  Dtype \n",
            "---  ------  --------------  ----- \n",
            " 0   Nombre  4 non-null      object\n",
            " 1   Edad    4 non-null      int64 \n",
            "dtypes: int64(1), object(1)\n",
            "memory usage: 192.0+ bytes\n",
            "None\n",
            "Nombre    object\n",
            "Edad       int64\n",
            "dtype: object\n"
          ]
        },
        {
          "output_type": "execute_result",
          "data": {
            "text/plain": [
              "Index(['Nombre', 'Edad'], dtype='object')"
            ]
          },
          "metadata": {},
          "execution_count": 18
        }
      ]
    },
    {
      "cell_type": "markdown",
      "source": [
        "**Renombrar los nombres de las filas y columnas**\n",
        "\n",
        "Para cambiar el nombre de las filas y las columnas de un DataFrame se utiliza el siguiente método:\n",
        "\n",
        "*  `df.rename(columns=dic_columnas, index=dic_filas)`:\n",
        "\n",
        "Devuelve el DataFrame que resulta de renombrar las columnas indicadas en las **claves del diccionario** `dic_columnas` con sus valores y las filas indicadas en las **claves del diccionario** `dic_filas` con sus valores en el DataFrame df."
      ],
      "metadata": {
        "id": "ZCcm9cK-RhRZ"
      }
    },
    {
      "cell_type": "markdown",
      "source": [
        "**EJERCICIO:**\n",
        "\n",
        "Cambie  los nombres de las columnas del data frame previo para que tenga puras mayúsculas"
      ],
      "metadata": {
        "id": "xROmtbocxY5f"
      }
    },
    {
      "cell_type": "markdown",
      "source": [
        "**Accesos mediante posiciones**\n",
        "\n",
        "*  df.iloc[i, j] : Devuelve el elemento que se encuentra en la fila i y la columna j del DataFrame df. Pueden indicarse secuencias de índices  [:,:] para obtener partes del DataFrame.\n",
        "\n",
        "*  df.iloc[i] : Devuelve una serie con los elementos de la fila i del DataFrame df."
      ],
      "metadata": {
        "id": "xDGBNK6KxvvP"
      }
    },
    {
      "cell_type": "code",
      "source": [
        "#Imprimir elemento\n",
        "print(df.iloc[1, 1])\n",
        "\n",
        "#Imprimir sub dataframe con secuencia [:,:]\n",
        "print(df.iloc[0:2,0:2])\n",
        "\n",
        "#Imprimir la serie\n",
        "print(\"La serie dada por la primera fila\")\n",
        "print(df.iloc[1])"
      ],
      "metadata": {
        "colab": {
          "base_uri": "https://localhost:8080/"
        },
        "id": "uTWcdvCezBCV",
        "outputId": "184fc0fd-f2ef-42f1-f032-14ff069914d1"
      },
      "execution_count": null,
      "outputs": [
        {
          "output_type": "stream",
          "name": "stdout",
          "text": [
            "22\n",
            "  Nombre  Edad\n",
            "0  María    18\n",
            "1   Luis    22\n",
            "La serie dada por la primera fila\n",
            "Nombre    Luis\n",
            "Edad        22\n",
            "Name: 1, dtype: object\n"
          ]
        }
      ]
    },
    {
      "cell_type": "markdown",
      "source": [
        "**Acceso a los elementos mediante nombres**\n",
        "\n",
        "*  df.loc[fila, columna] : ***Devuelve el elemento*** que se encuentra en la fila con nombre fila y la columna de con nombre columna del DataFrame df.\n",
        "\n",
        "*  df.loc[filas, columnas] : ***Devuelve un DataFrame*** con los elemento que se encuentra en las filas con los ***nombres de la lista filas*** y las columnas con los ***nombres de la lista columnas*** del DataFrame df.\n",
        "\n",
        "*  df[columna] : Devuelve una serie con los elementos de la columna de nombre columna del DataFrame df."
      ],
      "metadata": {
        "id": "vvUpAxW2zodU"
      }
    },
    {
      "cell_type": "code",
      "source": [
        "print(df)\n",
        "#Las filas no le dimos nombre (es el index)\n",
        "\n",
        "#Extraer un elemento\n",
        "print(\"Solo un elemento:\")\n",
        "print(df.loc[2, 'Edad'])\n",
        "\n",
        "#Extraer un subdataframe\n",
        "print(\"un subdataframe:\")\n",
        "print(df.loc[[1,2], ['Nombre','Edad']])\n",
        "\n",
        "#Extraer un pandas serie\n",
        "print(\"Una serie:\")\n",
        "print(df['Nombre'])\n"
      ],
      "metadata": {
        "colab": {
          "base_uri": "https://localhost:8080/",
          "height": 211
        },
        "id": "gbldYkwxz2DE",
        "outputId": "c56f43dc-fecc-4f39-dff8-a426ca84b443"
      },
      "execution_count": null,
      "outputs": [
        {
          "output_type": "error",
          "ename": "NameError",
          "evalue": "name 'df' is not defined",
          "traceback": [
            "\u001b[0;31m---------------------------------------------------------------------------\u001b[0m",
            "\u001b[0;31mNameError\u001b[0m                                 Traceback (most recent call last)",
            "\u001b[0;32m<ipython-input-10-80403bcec091>\u001b[0m in \u001b[0;36m<cell line: 1>\u001b[0;34m()\u001b[0m\n\u001b[0;32m----> 1\u001b[0;31m \u001b[0mprint\u001b[0m\u001b[0;34m(\u001b[0m\u001b[0mdf\u001b[0m\u001b[0;34m)\u001b[0m\u001b[0;34m\u001b[0m\u001b[0;34m\u001b[0m\u001b[0m\n\u001b[0m\u001b[1;32m      2\u001b[0m \u001b[0;31m#Las filas no le dimos nombre (es el index)\u001b[0m\u001b[0;34m\u001b[0m\u001b[0;34m\u001b[0m\u001b[0m\n\u001b[1;32m      3\u001b[0m \u001b[0;34m\u001b[0m\u001b[0m\n\u001b[1;32m      4\u001b[0m \u001b[0;31m#Extraer un elemento\u001b[0m\u001b[0;34m\u001b[0m\u001b[0;34m\u001b[0m\u001b[0m\n\u001b[1;32m      5\u001b[0m \u001b[0mprint\u001b[0m\u001b[0;34m(\u001b[0m\u001b[0;34m\"Solo un elemento:\"\u001b[0m\u001b[0;34m)\u001b[0m\u001b[0;34m\u001b[0m\u001b[0;34m\u001b[0m\u001b[0m\n",
            "\u001b[0;31mNameError\u001b[0m: name 'df' is not defined"
          ]
        }
      ]
    },
    {
      "cell_type": "markdown",
      "source": [
        "**Añadir columnas a un DataFrame**\n",
        "\n",
        "El procedimiento para añadir una nueva columna a un DataFrame es similar al de añadir un nuevo par a un diccionario, pero pasando los valores de la columna en una lista o serie.\n",
        "\n",
        "*  d[nombre] = lista: Añade al DataFrame df una **nueva columna** con el nombre `nombre` y ***los valores de la lista*** `lista`. La lista debe tener el mismo tamaño que el número de filas de df.\n",
        "\n",
        "*  d[nombre] = serie: Añade al DataFrame df una **nueva columna** con el nombre `nombre` y los valores de la serie `serie`. Si el tamaño de la serie es menor que el número de filas de df se rellena con valores NaN mientras que si es mayor se recorta."
      ],
      "metadata": {
        "id": "3pI-71rC03-p"
      }
    },
    {
      "cell_type": "code",
      "source": [
        "#con lista\n",
        "df['Primer apellido'] = ['García', 'Fernández', 'Pérez', 'Velazquez']\n",
        "\n",
        "#Con pandas serie\n",
        "df['Segundo apellido'] = pd.Series(['Guerrero', 'Pérez', 'Olmedo', 'Hernández'])\n",
        "\n",
        "df"
      ],
      "metadata": {
        "colab": {
          "base_uri": "https://localhost:8080/",
          "height": 175
        },
        "id": "WFQ_GuS41C7o",
        "outputId": "b98028ab-1308-4204-83f6-59a6781808ae"
      },
      "execution_count": null,
      "outputs": [
        {
          "output_type": "execute_result",
          "data": {
            "text/plain": [
              "   Nombre  Edad Primer apellido Segundo apellido\n",
              "0   María    18          García         Guerrero\n",
              "1    Luis    22       Fernández            Pérez\n",
              "2  Carmen    20           Pérez           Olmedo\n",
              "3  Héctor    21       Velazquez        Hernández"
            ],
            "text/html": [
              "\n",
              "  <div id=\"df-7ed94a27-17f3-484f-a8dc-d9d1df31fe26\" class=\"colab-df-container\">\n",
              "    <div>\n",
              "<style scoped>\n",
              "    .dataframe tbody tr th:only-of-type {\n",
              "        vertical-align: middle;\n",
              "    }\n",
              "\n",
              "    .dataframe tbody tr th {\n",
              "        vertical-align: top;\n",
              "    }\n",
              "\n",
              "    .dataframe thead th {\n",
              "        text-align: right;\n",
              "    }\n",
              "</style>\n",
              "<table border=\"1\" class=\"dataframe\">\n",
              "  <thead>\n",
              "    <tr style=\"text-align: right;\">\n",
              "      <th></th>\n",
              "      <th>Nombre</th>\n",
              "      <th>Edad</th>\n",
              "      <th>Primer apellido</th>\n",
              "      <th>Segundo apellido</th>\n",
              "    </tr>\n",
              "  </thead>\n",
              "  <tbody>\n",
              "    <tr>\n",
              "      <th>0</th>\n",
              "      <td>María</td>\n",
              "      <td>18</td>\n",
              "      <td>García</td>\n",
              "      <td>Guerrero</td>\n",
              "    </tr>\n",
              "    <tr>\n",
              "      <th>1</th>\n",
              "      <td>Luis</td>\n",
              "      <td>22</td>\n",
              "      <td>Fernández</td>\n",
              "      <td>Pérez</td>\n",
              "    </tr>\n",
              "    <tr>\n",
              "      <th>2</th>\n",
              "      <td>Carmen</td>\n",
              "      <td>20</td>\n",
              "      <td>Pérez</td>\n",
              "      <td>Olmedo</td>\n",
              "    </tr>\n",
              "    <tr>\n",
              "      <th>3</th>\n",
              "      <td>Héctor</td>\n",
              "      <td>21</td>\n",
              "      <td>Velazquez</td>\n",
              "      <td>Hernández</td>\n",
              "    </tr>\n",
              "  </tbody>\n",
              "</table>\n",
              "</div>\n",
              "    <div class=\"colab-df-buttons\">\n",
              "\n",
              "  <div class=\"colab-df-container\">\n",
              "    <button class=\"colab-df-convert\" onclick=\"convertToInteractive('df-7ed94a27-17f3-484f-a8dc-d9d1df31fe26')\"\n",
              "            title=\"Convert this dataframe to an interactive table.\"\n",
              "            style=\"display:none;\">\n",
              "\n",
              "  <svg xmlns=\"http://www.w3.org/2000/svg\" height=\"24px\" viewBox=\"0 -960 960 960\">\n",
              "    <path d=\"M120-120v-720h720v720H120Zm60-500h600v-160H180v160Zm220 220h160v-160H400v160Zm0 220h160v-160H400v160ZM180-400h160v-160H180v160Zm440 0h160v-160H620v160ZM180-180h160v-160H180v160Zm440 0h160v-160H620v160Z\"/>\n",
              "  </svg>\n",
              "    </button>\n",
              "\n",
              "  <style>\n",
              "    .colab-df-container {\n",
              "      display:flex;\n",
              "      gap: 12px;\n",
              "    }\n",
              "\n",
              "    .colab-df-convert {\n",
              "      background-color: #E8F0FE;\n",
              "      border: none;\n",
              "      border-radius: 50%;\n",
              "      cursor: pointer;\n",
              "      display: none;\n",
              "      fill: #1967D2;\n",
              "      height: 32px;\n",
              "      padding: 0 0 0 0;\n",
              "      width: 32px;\n",
              "    }\n",
              "\n",
              "    .colab-df-convert:hover {\n",
              "      background-color: #E2EBFA;\n",
              "      box-shadow: 0px 1px 2px rgba(60, 64, 67, 0.3), 0px 1px 3px 1px rgba(60, 64, 67, 0.15);\n",
              "      fill: #174EA6;\n",
              "    }\n",
              "\n",
              "    .colab-df-buttons div {\n",
              "      margin-bottom: 4px;\n",
              "    }\n",
              "\n",
              "    [theme=dark] .colab-df-convert {\n",
              "      background-color: #3B4455;\n",
              "      fill: #D2E3FC;\n",
              "    }\n",
              "\n",
              "    [theme=dark] .colab-df-convert:hover {\n",
              "      background-color: #434B5C;\n",
              "      box-shadow: 0px 1px 3px 1px rgba(0, 0, 0, 0.15);\n",
              "      filter: drop-shadow(0px 1px 2px rgba(0, 0, 0, 0.3));\n",
              "      fill: #FFFFFF;\n",
              "    }\n",
              "  </style>\n",
              "\n",
              "    <script>\n",
              "      const buttonEl =\n",
              "        document.querySelector('#df-7ed94a27-17f3-484f-a8dc-d9d1df31fe26 button.colab-df-convert');\n",
              "      buttonEl.style.display =\n",
              "        google.colab.kernel.accessAllowed ? 'block' : 'none';\n",
              "\n",
              "      async function convertToInteractive(key) {\n",
              "        const element = document.querySelector('#df-7ed94a27-17f3-484f-a8dc-d9d1df31fe26');\n",
              "        const dataTable =\n",
              "          await google.colab.kernel.invokeFunction('convertToInteractive',\n",
              "                                                    [key], {});\n",
              "        if (!dataTable) return;\n",
              "\n",
              "        const docLinkHtml = 'Like what you see? Visit the ' +\n",
              "          '<a target=\"_blank\" href=https://colab.research.google.com/notebooks/data_table.ipynb>data table notebook</a>'\n",
              "          + ' to learn more about interactive tables.';\n",
              "        element.innerHTML = '';\n",
              "        dataTable['output_type'] = 'display_data';\n",
              "        await google.colab.output.renderOutput(dataTable, element);\n",
              "        const docLink = document.createElement('div');\n",
              "        docLink.innerHTML = docLinkHtml;\n",
              "        element.appendChild(docLink);\n",
              "      }\n",
              "    </script>\n",
              "  </div>\n",
              "\n",
              "\n",
              "<div id=\"df-26d02824-a92d-4858-b91f-b1965bbc3e10\">\n",
              "  <button class=\"colab-df-quickchart\" onclick=\"quickchart('df-26d02824-a92d-4858-b91f-b1965bbc3e10')\"\n",
              "            title=\"Suggest charts\"\n",
              "            style=\"display:none;\">\n",
              "\n",
              "<svg xmlns=\"http://www.w3.org/2000/svg\" height=\"24px\"viewBox=\"0 0 24 24\"\n",
              "     width=\"24px\">\n",
              "    <g>\n",
              "        <path d=\"M19 3H5c-1.1 0-2 .9-2 2v14c0 1.1.9 2 2 2h14c1.1 0 2-.9 2-2V5c0-1.1-.9-2-2-2zM9 17H7v-7h2v7zm4 0h-2V7h2v10zm4 0h-2v-4h2v4z\"/>\n",
              "    </g>\n",
              "</svg>\n",
              "  </button>\n",
              "\n",
              "<style>\n",
              "  .colab-df-quickchart {\n",
              "      --bg-color: #E8F0FE;\n",
              "      --fill-color: #1967D2;\n",
              "      --hover-bg-color: #E2EBFA;\n",
              "      --hover-fill-color: #174EA6;\n",
              "      --disabled-fill-color: #AAA;\n",
              "      --disabled-bg-color: #DDD;\n",
              "  }\n",
              "\n",
              "  [theme=dark] .colab-df-quickchart {\n",
              "      --bg-color: #3B4455;\n",
              "      --fill-color: #D2E3FC;\n",
              "      --hover-bg-color: #434B5C;\n",
              "      --hover-fill-color: #FFFFFF;\n",
              "      --disabled-bg-color: #3B4455;\n",
              "      --disabled-fill-color: #666;\n",
              "  }\n",
              "\n",
              "  .colab-df-quickchart {\n",
              "    background-color: var(--bg-color);\n",
              "    border: none;\n",
              "    border-radius: 50%;\n",
              "    cursor: pointer;\n",
              "    display: none;\n",
              "    fill: var(--fill-color);\n",
              "    height: 32px;\n",
              "    padding: 0;\n",
              "    width: 32px;\n",
              "  }\n",
              "\n",
              "  .colab-df-quickchart:hover {\n",
              "    background-color: var(--hover-bg-color);\n",
              "    box-shadow: 0 1px 2px rgba(60, 64, 67, 0.3), 0 1px 3px 1px rgba(60, 64, 67, 0.15);\n",
              "    fill: var(--button-hover-fill-color);\n",
              "  }\n",
              "\n",
              "  .colab-df-quickchart-complete:disabled,\n",
              "  .colab-df-quickchart-complete:disabled:hover {\n",
              "    background-color: var(--disabled-bg-color);\n",
              "    fill: var(--disabled-fill-color);\n",
              "    box-shadow: none;\n",
              "  }\n",
              "\n",
              "  .colab-df-spinner {\n",
              "    border: 2px solid var(--fill-color);\n",
              "    border-color: transparent;\n",
              "    border-bottom-color: var(--fill-color);\n",
              "    animation:\n",
              "      spin 1s steps(1) infinite;\n",
              "  }\n",
              "\n",
              "  @keyframes spin {\n",
              "    0% {\n",
              "      border-color: transparent;\n",
              "      border-bottom-color: var(--fill-color);\n",
              "      border-left-color: var(--fill-color);\n",
              "    }\n",
              "    20% {\n",
              "      border-color: transparent;\n",
              "      border-left-color: var(--fill-color);\n",
              "      border-top-color: var(--fill-color);\n",
              "    }\n",
              "    30% {\n",
              "      border-color: transparent;\n",
              "      border-left-color: var(--fill-color);\n",
              "      border-top-color: var(--fill-color);\n",
              "      border-right-color: var(--fill-color);\n",
              "    }\n",
              "    40% {\n",
              "      border-color: transparent;\n",
              "      border-right-color: var(--fill-color);\n",
              "      border-top-color: var(--fill-color);\n",
              "    }\n",
              "    60% {\n",
              "      border-color: transparent;\n",
              "      border-right-color: var(--fill-color);\n",
              "    }\n",
              "    80% {\n",
              "      border-color: transparent;\n",
              "      border-right-color: var(--fill-color);\n",
              "      border-bottom-color: var(--fill-color);\n",
              "    }\n",
              "    90% {\n",
              "      border-color: transparent;\n",
              "      border-bottom-color: var(--fill-color);\n",
              "    }\n",
              "  }\n",
              "</style>\n",
              "\n",
              "  <script>\n",
              "    async function quickchart(key) {\n",
              "      const quickchartButtonEl =\n",
              "        document.querySelector('#' + key + ' button');\n",
              "      quickchartButtonEl.disabled = true;  // To prevent multiple clicks.\n",
              "      quickchartButtonEl.classList.add('colab-df-spinner');\n",
              "      try {\n",
              "        const charts = await google.colab.kernel.invokeFunction(\n",
              "            'suggestCharts', [key], {});\n",
              "      } catch (error) {\n",
              "        console.error('Error during call to suggestCharts:', error);\n",
              "      }\n",
              "      quickchartButtonEl.classList.remove('colab-df-spinner');\n",
              "      quickchartButtonEl.classList.add('colab-df-quickchart-complete');\n",
              "    }\n",
              "    (() => {\n",
              "      let quickchartButtonEl =\n",
              "        document.querySelector('#df-26d02824-a92d-4858-b91f-b1965bbc3e10 button');\n",
              "      quickchartButtonEl.style.display =\n",
              "        google.colab.kernel.accessAllowed ? 'block' : 'none';\n",
              "    })();\n",
              "  </script>\n",
              "</div>\n",
              "\n",
              "  <div id=\"id_6801356d-8052-4e96-b742-61954139009c\">\n",
              "    <style>\n",
              "      .colab-df-generate {\n",
              "        background-color: #E8F0FE;\n",
              "        border: none;\n",
              "        border-radius: 50%;\n",
              "        cursor: pointer;\n",
              "        display: none;\n",
              "        fill: #1967D2;\n",
              "        height: 32px;\n",
              "        padding: 0 0 0 0;\n",
              "        width: 32px;\n",
              "      }\n",
              "\n",
              "      .colab-df-generate:hover {\n",
              "        background-color: #E2EBFA;\n",
              "        box-shadow: 0px 1px 2px rgba(60, 64, 67, 0.3), 0px 1px 3px 1px rgba(60, 64, 67, 0.15);\n",
              "        fill: #174EA6;\n",
              "      }\n",
              "\n",
              "      [theme=dark] .colab-df-generate {\n",
              "        background-color: #3B4455;\n",
              "        fill: #D2E3FC;\n",
              "      }\n",
              "\n",
              "      [theme=dark] .colab-df-generate:hover {\n",
              "        background-color: #434B5C;\n",
              "        box-shadow: 0px 1px 3px 1px rgba(0, 0, 0, 0.15);\n",
              "        filter: drop-shadow(0px 1px 2px rgba(0, 0, 0, 0.3));\n",
              "        fill: #FFFFFF;\n",
              "      }\n",
              "    </style>\n",
              "    <button class=\"colab-df-generate\" onclick=\"generateWithVariable('df')\"\n",
              "            title=\"Generate code using this dataframe.\"\n",
              "            style=\"display:none;\">\n",
              "\n",
              "  <svg xmlns=\"http://www.w3.org/2000/svg\" height=\"24px\"viewBox=\"0 0 24 24\"\n",
              "       width=\"24px\">\n",
              "    <path d=\"M7,19H8.4L18.45,9,17,7.55,7,17.6ZM5,21V16.75L18.45,3.32a2,2,0,0,1,2.83,0l1.4,1.43a1.91,1.91,0,0,1,.58,1.4,1.91,1.91,0,0,1-.58,1.4L9.25,21ZM18.45,9,17,7.55Zm-12,3A5.31,5.31,0,0,0,4.9,8.1,5.31,5.31,0,0,0,1,6.5,5.31,5.31,0,0,0,4.9,4.9,5.31,5.31,0,0,0,6.5,1,5.31,5.31,0,0,0,8.1,4.9,5.31,5.31,0,0,0,12,6.5,5.46,5.46,0,0,0,6.5,12Z\"/>\n",
              "  </svg>\n",
              "    </button>\n",
              "    <script>\n",
              "      (() => {\n",
              "      const buttonEl =\n",
              "        document.querySelector('#id_6801356d-8052-4e96-b742-61954139009c button.colab-df-generate');\n",
              "      buttonEl.style.display =\n",
              "        google.colab.kernel.accessAllowed ? 'block' : 'none';\n",
              "\n",
              "      buttonEl.onclick = () => {\n",
              "        google.colab.notebook.generateWithVariable('df');\n",
              "      }\n",
              "      })();\n",
              "    </script>\n",
              "  </div>\n",
              "\n",
              "    </div>\n",
              "  </div>\n"
            ],
            "application/vnd.google.colaboratory.intrinsic+json": {
              "type": "dataframe",
              "variable_name": "df",
              "summary": "{\n  \"name\": \"df\",\n  \"rows\": 4,\n  \"fields\": [\n    {\n      \"column\": \"Nombre\",\n      \"properties\": {\n        \"dtype\": \"string\",\n        \"num_unique_values\": 4,\n        \"samples\": [\n          \"Luis\",\n          \"H\\u00e9ctor\",\n          \"Mar\\u00eda\"\n        ],\n        \"semantic_type\": \"\",\n        \"description\": \"\"\n      }\n    },\n    {\n      \"column\": \"Edad\",\n      \"properties\": {\n        \"dtype\": \"number\",\n        \"std\": 1,\n        \"min\": 18,\n        \"max\": 22,\n        \"num_unique_values\": 4,\n        \"samples\": [\n          22,\n          21,\n          18\n        ],\n        \"semantic_type\": \"\",\n        \"description\": \"\"\n      }\n    },\n    {\n      \"column\": \"Primer apellido\",\n      \"properties\": {\n        \"dtype\": \"string\",\n        \"num_unique_values\": 4,\n        \"samples\": [\n          \"Fern\\u00e1ndez\",\n          \"Velazquez\",\n          \"Garc\\u00eda\"\n        ],\n        \"semantic_type\": \"\",\n        \"description\": \"\"\n      }\n    },\n    {\n      \"column\": \"Segundo apellido\",\n      \"properties\": {\n        \"dtype\": \"string\",\n        \"num_unique_values\": 4,\n        \"samples\": [\n          \"P\\u00e9rez\",\n          \"Hern\\u00e1ndez\",\n          \"Guerrero\"\n        ],\n        \"semantic_type\": \"\",\n        \"description\": \"\"\n      }\n    }\n  ]\n}"
            }
          },
          "metadata": {},
          "execution_count": 52
        }
      ]
    },
    {
      "cell_type": "markdown",
      "source": [
        "**Ejercicio:**\n",
        "Agreguen a su data frame la carrera de cada uno de ustedes"
      ],
      "metadata": {
        "id": "wW0OEIdU1Dyh"
      }
    }
  ]
}