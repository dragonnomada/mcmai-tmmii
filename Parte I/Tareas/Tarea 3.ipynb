{
 "cells": [
  {
   "cell_type": "markdown",
   "id": "694b0e66",
   "metadata": {},
   "source": [
    "**Universidad Autónoma Metropolitana - Unidad Iztapalapa (UAM-I)**\n",
    "\n",
    "**Maestría en Matemáticas Aplicadas e Industriales (MCMAI)**\n",
    "\n",
    "**Taller de Modelado Matemático II - Parte I**\n",
    "\n",
    "> Trimestre 25-P\n",
    "\n",
    "**Profesor**: \n",
    "    \n",
    "> Dr. Alejandro Román Vásquez\n",
    "\n",
    "**Alumnos**: \n",
    "    \n",
    "> Alan Badillo Salas\n",
    "> \n",
    "> Brandon Eduardo Antonio Gómez\n",
    "> \n",
    "> Diego Armando Arce Montes de Oca"
   ]
  },
  {
   "cell_type": "markdown",
   "id": "779a6f91",
   "metadata": {},
   "source": [
    "# Fase 1 - Adquisición de los datos"
   ]
  },
  {
   "cell_type": "code",
   "execution_count": 1,
   "id": "879249ca",
   "metadata": {},
   "outputs": [],
   "source": [
    "import numpy\n",
    "import pandas\n",
    "\n",
    "import matplotlib.pyplot as pyplot\n",
    "import seaborn"
   ]
  },
  {
   "cell_type": "code",
   "execution_count": null,
   "id": "e9f60539",
   "metadata": {},
   "outputs": [],
   "source": []
  }
 ],
 "metadata": {
  "kernelspec": {
   "display_name": "Python 3",
   "language": "python",
   "name": "python3"
  },
  "language_info": {
   "codemirror_mode": {
    "name": "ipython",
    "version": 3
   },
   "file_extension": ".py",
   "mimetype": "text/x-python",
   "name": "python",
   "nbconvert_exporter": "python",
   "pygments_lexer": "ipython3",
   "version": "3.12.4"
  }
 },
 "nbformat": 4,
 "nbformat_minor": 5
}
