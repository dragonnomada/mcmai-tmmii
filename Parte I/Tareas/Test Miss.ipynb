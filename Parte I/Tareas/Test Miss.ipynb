{
 "cells": [
  {
   "cell_type": "code",
   "execution_count": 1,
   "id": "33075005",
   "metadata": {},
   "outputs": [
    {
     "data": {
      "text/html": [
       "<div>\n",
       "<style scoped>\n",
       "    .dataframe tbody tr th:only-of-type {\n",
       "        vertical-align: middle;\n",
       "    }\n",
       "\n",
       "    .dataframe tbody tr th {\n",
       "        vertical-align: top;\n",
       "    }\n",
       "\n",
       "    .dataframe thead th {\n",
       "        text-align: right;\n",
       "    }\n",
       "</style>\n",
       "<table border=\"1\" class=\"dataframe\">\n",
       "  <thead>\n",
       "    <tr style=\"text-align: right;\">\n",
       "      <th></th>\n",
       "      <th>Columna</th>\n",
       "      <th>Nulos</th>\n",
       "    </tr>\n",
       "  </thead>\n",
       "  <tbody>\n",
       "    <tr>\n",
       "      <th>10</th>\n",
       "      <td>BsmtCond</td>\n",
       "      <td>37</td>\n",
       "    </tr>\n",
       "    <tr>\n",
       "      <th>11</th>\n",
       "      <td>FireplaceQu</td>\n",
       "      <td>690</td>\n",
       "    </tr>\n",
       "    <tr>\n",
       "      <th>12</th>\n",
       "      <td>Electrical</td>\n",
       "      <td>1</td>\n",
       "    </tr>\n",
       "    <tr>\n",
       "      <th>13</th>\n",
       "      <td>LotFrontage</td>\n",
       "      <td>259</td>\n",
       "    </tr>\n",
       "  </tbody>\n",
       "</table>\n",
       "</div>"
      ],
      "text/plain": [
       "        Columna  Nulos\n",
       "10     BsmtCond     37\n",
       "11  FireplaceQu    690\n",
       "12   Electrical      1\n",
       "13  LotFrontage    259"
      ]
     },
     "execution_count": 1,
     "metadata": {},
     "output_type": "execute_result"
    }
   ],
   "source": [
    "import pandas\n",
    "\n",
    "casas = pandas.read_csv(\"Casas.csv\")\n",
    "\n",
    "columnas_analisis = [\n",
    "    \"MSZoning\",\n",
    "    \"LotArea\",\n",
    "    \"Street\",\n",
    "    \"Neighborhood\",\n",
    "    \"YearBuilt\",\n",
    "    \"OverallCond\",\n",
    "    \"ExterQual\",\n",
    "    \"GrLivArea\",\n",
    "    \"FullBath\",\n",
    "    \"GarageArea\",\n",
    "    \"BsmtCond\",\n",
    "    \"FireplaceQu\",\n",
    "    \"Electrical\",\n",
    "    \"LotFrontage\",\n",
    "    \"KitchenQual\",\n",
    "    \"PavedDrive\",\n",
    "    \"SalePrice\",\n",
    "]\n",
    "\n",
    "casas_analisis = casas[columnas_analisis]\n",
    "\n",
    "reporte = casas_analisis.isnull().sum().reset_index()\n",
    "reporte.columns=[\"Columna\", \"Nulos\"]\n",
    "reporte[reporte[\"Nulos\"] > 0]"
   ]
  },
  {
   "cell_type": "code",
   "execution_count": 127,
   "id": "7cf73e2d",
   "metadata": {},
   "outputs": [
    {
     "name": "stdout",
     "output_type": "stream",
     "text": [
      "<class 'pandas.core.series.Series'>\n",
      "RangeIndex: 1460 entries, 0 to 1459\n",
      "Series name: BsmtCond\n",
      "Non-Null Count  Dtype \n",
      "--------------  ----- \n",
      "1423 non-null   object\n",
      "dtypes: object(1)\n",
      "memory usage: 11.5+ KB\n"
     ]
    }
   ],
   "source": [
    "casas_analisis[\"BsmtCond\"].info()"
   ]
  },
  {
   "cell_type": "code",
   "execution_count": 128,
   "id": "be592b0c",
   "metadata": {},
   "outputs": [
    {
     "data": {
      "text/plain": [
       "BsmtCond\n",
       "TA    1311\n",
       "Gd      65\n",
       "Fa      45\n",
       "Po       2\n",
       "Name: count, dtype: int64"
      ]
     },
     "execution_count": 128,
     "metadata": {},
     "output_type": "execute_result"
    }
   ],
   "source": [
    "casas_analisis[\"BsmtCond\"].value_counts()"
   ]
  },
  {
   "cell_type": "code",
   "execution_count": 137,
   "id": "1adda356",
   "metadata": {},
   "outputs": [],
   "source": [
    "def missforest_multivariable(data, target_column):\n",
    "    import pandas as pd\n",
    "    import numpy as np\n",
    "    from sklearn.experimental import enable_iterative_imputer\n",
    "    from sklearn.impute import IterativeImputer\n",
    "    from sklearn.ensemble import RandomForestRegressor\n",
    "    from sklearn.preprocessing import LabelEncoder\n",
    "\n",
    "    df = data.copy()\n",
    "    encoders = {}\n",
    "\n",
    "    # Codifica todas las columnas categóricas como enteros (temporalmente)\n",
    "    for col in df.columns:\n",
    "        if df[col].dtype == \"object\" or df[col].dtype.name == \"category\":\n",
    "            le = LabelEncoder()\n",
    "            not_null = df[col].notnull()\n",
    "            le.fit(df[col][not_null].astype(str))\n",
    "            df.loc[not_null, col] = le.transform(df[col][not_null].astype(str))\n",
    "            df.loc[~not_null, col] = np.nan  # mantiene NaNs\n",
    "            encoders[col] = le\n",
    "\n",
    "    # Asegura que todo sea numérico\n",
    "    df = df.apply(pd.to_numeric, errors=\"coerce\")\n",
    "\n",
    "    # Imputación con todas las columnas\n",
    "    imputer = IterativeImputer(\n",
    "        estimator=RandomForestRegressor(n_estimators=100, random_state=0),\n",
    "        max_iter=10,\n",
    "        random_state=0\n",
    "    )\n",
    "\n",
    "    df_imputed = pd.DataFrame(imputer.fit_transform(df), columns=df.columns)\n",
    "\n",
    "    # Decodifica sólo la columna objetivo\n",
    "    if target_column in encoders:\n",
    "        col_imputed = df_imputed[target_column].round().astype(int)\n",
    "        decoded = encoders[target_column].inverse_transform(col_imputed)\n",
    "        return decoded\n",
    "    else:\n",
    "        return df_imputed[target_column]"
   ]
  },
  {
   "cell_type": "code",
   "execution_count": 138,
   "id": "ca222992",
   "metadata": {},
   "outputs": [
    {
     "data": {
      "text/html": [
       "<div>\n",
       "<style scoped>\n",
       "    .dataframe tbody tr th:only-of-type {\n",
       "        vertical-align: middle;\n",
       "    }\n",
       "\n",
       "    .dataframe tbody tr th {\n",
       "        vertical-align: top;\n",
       "    }\n",
       "\n",
       "    .dataframe thead th {\n",
       "        text-align: right;\n",
       "    }\n",
       "</style>\n",
       "<table border=\"1\" class=\"dataframe\">\n",
       "  <thead>\n",
       "    <tr style=\"text-align: right;\">\n",
       "      <th></th>\n",
       "      <th>BsmtCond</th>\n",
       "      <th>BsmtCond - Imputado</th>\n",
       "    </tr>\n",
       "  </thead>\n",
       "  <tbody>\n",
       "    <tr>\n",
       "      <th>174</th>\n",
       "      <td>Fa</td>\n",
       "      <td>Fa</td>\n",
       "    </tr>\n",
       "    <tr>\n",
       "      <th>1014</th>\n",
       "      <td>Fa</td>\n",
       "      <td>Fa</td>\n",
       "    </tr>\n",
       "    <tr>\n",
       "      <th>789</th>\n",
       "      <td>Fa</td>\n",
       "      <td>Fa</td>\n",
       "    </tr>\n",
       "    <tr>\n",
       "      <th>383</th>\n",
       "      <td>Fa</td>\n",
       "      <td>Fa</td>\n",
       "    </tr>\n",
       "    <tr>\n",
       "      <th>124</th>\n",
       "      <td>Fa</td>\n",
       "      <td>Fa</td>\n",
       "    </tr>\n",
       "    <tr>\n",
       "      <th>...</th>\n",
       "      <td>...</td>\n",
       "      <td>...</td>\n",
       "    </tr>\n",
       "    <tr>\n",
       "      <th>1216</th>\n",
       "      <td>NaN</td>\n",
       "      <td>TA</td>\n",
       "    </tr>\n",
       "    <tr>\n",
       "      <th>1218</th>\n",
       "      <td>NaN</td>\n",
       "      <td>TA</td>\n",
       "    </tr>\n",
       "    <tr>\n",
       "      <th>1232</th>\n",
       "      <td>NaN</td>\n",
       "      <td>TA</td>\n",
       "    </tr>\n",
       "    <tr>\n",
       "      <th>1321</th>\n",
       "      <td>NaN</td>\n",
       "      <td>TA</td>\n",
       "    </tr>\n",
       "    <tr>\n",
       "      <th>1412</th>\n",
       "      <td>NaN</td>\n",
       "      <td>TA</td>\n",
       "    </tr>\n",
       "  </tbody>\n",
       "</table>\n",
       "<p>1460 rows × 2 columns</p>\n",
       "</div>"
      ],
      "text/plain": [
       "     BsmtCond BsmtCond - Imputado\n",
       "174        Fa                  Fa\n",
       "1014       Fa                  Fa\n",
       "789        Fa                  Fa\n",
       "383        Fa                  Fa\n",
       "124        Fa                  Fa\n",
       "...       ...                 ...\n",
       "1216      NaN                  TA\n",
       "1218      NaN                  TA\n",
       "1232      NaN                  TA\n",
       "1321      NaN                  TA\n",
       "1412      NaN                  TA\n",
       "\n",
       "[1460 rows x 2 columns]"
      ]
     },
     "execution_count": 138,
     "metadata": {},
     "output_type": "execute_result"
    }
   ],
   "source": [
    "casas_analisis.loc[:, \"BsmtCond - Imputado\"] = missforest_multivariable(casas_analisis, \"BsmtCond\")\n",
    "\n",
    "casas_analisis[[\"BsmtCond\", \"BsmtCond - Imputado\"]].sort_values(\"BsmtCond\")"
   ]
  },
  {
   "cell_type": "code",
   "execution_count": 139,
   "id": "a1960566",
   "metadata": {},
   "outputs": [
    {
     "data": {
      "text/plain": [
       "BsmtCond\n",
       "TA    1311\n",
       "Gd      65\n",
       "Fa      45\n",
       "Po       2\n",
       "Name: count, dtype: int64"
      ]
     },
     "execution_count": 139,
     "metadata": {},
     "output_type": "execute_result"
    }
   ],
   "source": [
    "casas_analisis[\"BsmtCond\"].value_counts()"
   ]
  },
  {
   "cell_type": "code",
   "execution_count": 140,
   "id": "f215509a",
   "metadata": {},
   "outputs": [
    {
     "data": {
      "text/plain": [
       "BsmtCond - Imputado\n",
       "TA    1348\n",
       "Gd      65\n",
       "Fa      45\n",
       "Po       2\n",
       "Name: count, dtype: int64"
      ]
     },
     "execution_count": 140,
     "metadata": {},
     "output_type": "execute_result"
    }
   ],
   "source": [
    "casas_analisis[\"BsmtCond - Imputado\"].value_counts()"
   ]
  },
  {
   "cell_type": "code",
   "execution_count": 141,
   "id": "dae6e04d",
   "metadata": {},
   "outputs": [
    {
     "data": {
      "text/plain": [
       "FireplaceQu               0.472603\n",
       "LotFrontage               0.177397\n",
       "BsmtCond                  0.025342\n",
       "Electrical                0.000685\n",
       "MSZoning                  0.000000\n",
       "BsmtCond - Imputado       0.000000\n",
       "SalePrice                 0.000000\n",
       "PavedDrive                0.000000\n",
       "KitchenQual               0.000000\n",
       "GarageArea                0.000000\n",
       "LotArea                   0.000000\n",
       "FullBath                  0.000000\n",
       "GrLivArea                 0.000000\n",
       "ExterQual                 0.000000\n",
       "OverallCond               0.000000\n",
       "YearBuilt                 0.000000\n",
       "Neighborhood              0.000000\n",
       "Street                    0.000000\n",
       "FireplaceQu - Imputado    0.000000\n",
       "dtype: float64"
      ]
     },
     "execution_count": 141,
     "metadata": {},
     "output_type": "execute_result"
    }
   ],
   "source": [
    "casas_analisis.isnull().mean().sort_values(axis=0, ascending=False)"
   ]
  },
  {
   "cell_type": "code",
   "execution_count": 142,
   "id": "96f0b413",
   "metadata": {},
   "outputs": [
    {
     "data": {
      "text/plain": [
       "FireplaceQu\n",
       "Gd    380\n",
       "TA    313\n",
       "Fa     33\n",
       "Ex     24\n",
       "Po     20\n",
       "Name: count, dtype: int64"
      ]
     },
     "execution_count": 142,
     "metadata": {},
     "output_type": "execute_result"
    }
   ],
   "source": [
    "casas_analisis[\"FireplaceQu\"].value_counts()"
   ]
  },
  {
   "cell_type": "code",
   "execution_count": 143,
   "id": "a91a062c",
   "metadata": {},
   "outputs": [],
   "source": [
    "casas_analisis.loc[:, [\"FireplaceQu - Imputado\"]] = missforest_multivariable(casas_analisis, \"FireplaceQu\")"
   ]
  },
  {
   "cell_type": "code",
   "execution_count": 144,
   "id": "b9601ae3",
   "metadata": {},
   "outputs": [
    {
     "data": {
      "text/plain": [
       "FireplaceQu - Imputado\n",
       "Po    710\n",
       "Gd    380\n",
       "TA    313\n",
       "Fa     33\n",
       "Ex     24\n",
       "Name: count, dtype: int64"
      ]
     },
     "execution_count": 144,
     "metadata": {},
     "output_type": "execute_result"
    }
   ],
   "source": [
    "casas_analisis[\"FireplaceQu - Imputado\"].value_counts()"
   ]
  },
  {
   "cell_type": "code",
   "execution_count": 3,
   "id": "dbf3b2a8",
   "metadata": {},
   "outputs": [
    {
     "name": "stdout",
     "output_type": "stream",
     "text": [
      "The rpy2.ipython extension is already loaded. To reload it, use:\n",
      "  %reload_ext rpy2.ipython\n"
     ]
    }
   ],
   "source": [
    "%load_ext rpy2.ipython"
   ]
  },
  {
   "cell_type": "code",
   "execution_count": 4,
   "id": "59a2d83f",
   "metadata": {},
   "outputs": [
    {
     "name": "stdout",
     "output_type": "stream",
     "text": [
      "--- Please select a CRAN mirror for use in this session ---\n",
      "\n",
      "The downloaded binary packages are in\n",
      "\t/var/folders/zr/py0pd6bs6gnfzg9ljbgr9v0c0000gn/T//Rtmpb81WQF/downloaded_packages\n"
     ]
    },
    {
     "data": {
      "text/plain": [
       "probando la URL 'https://cran.itam.mx/bin/macosx/big-sur-arm64/contrib/4.4/missForest_1.5.tgz'\n",
       "Content type 'application/x-gzip' length 343906 bytes (335 KB)\n",
       "==================================================\n",
       "downloaded 335 KB\n",
       "\n"
      ]
     },
     "metadata": {},
     "output_type": "display_data"
    }
   ],
   "source": [
    "%%R\n",
    "install.packages(\"missForest\")\n",
    "library(missForest)"
   ]
  },
  {
   "cell_type": "code",
   "execution_count": 5,
   "id": "4dfef840",
   "metadata": {},
   "outputs": [
    {
     "name": "stdout",
     "output_type": "stream",
     "text": [
      "object True\n",
      "float64 False\n",
      "object True\n",
      "object True\n"
     ]
    },
    {
     "data": {
      "text/html": [
       "<div>\n",
       "<style scoped>\n",
       "    .dataframe tbody tr th:only-of-type {\n",
       "        vertical-align: middle;\n",
       "    }\n",
       "\n",
       "    .dataframe tbody tr th {\n",
       "        vertical-align: top;\n",
       "    }\n",
       "\n",
       "    .dataframe thead th {\n",
       "        text-align: right;\n",
       "    }\n",
       "</style>\n",
       "<table border=\"1\" class=\"dataframe\">\n",
       "  <thead>\n",
       "    <tr style=\"text-align: right;\">\n",
       "      <th></th>\n",
       "      <th>FireplaceQu</th>\n",
       "      <th>LotFrontage</th>\n",
       "      <th>BsmtCond</th>\n",
       "      <th>Electrical</th>\n",
       "    </tr>\n",
       "  </thead>\n",
       "  <tbody>\n",
       "    <tr>\n",
       "      <th>0</th>\n",
       "      <td>NA</td>\n",
       "      <td>65.0</td>\n",
       "      <td>TA</td>\n",
       "      <td>SBrkr</td>\n",
       "    </tr>\n",
       "    <tr>\n",
       "      <th>1</th>\n",
       "      <td>TA</td>\n",
       "      <td>80.0</td>\n",
       "      <td>TA</td>\n",
       "      <td>SBrkr</td>\n",
       "    </tr>\n",
       "    <tr>\n",
       "      <th>2</th>\n",
       "      <td>TA</td>\n",
       "      <td>68.0</td>\n",
       "      <td>TA</td>\n",
       "      <td>SBrkr</td>\n",
       "    </tr>\n",
       "    <tr>\n",
       "      <th>3</th>\n",
       "      <td>Gd</td>\n",
       "      <td>60.0</td>\n",
       "      <td>Gd</td>\n",
       "      <td>SBrkr</td>\n",
       "    </tr>\n",
       "    <tr>\n",
       "      <th>4</th>\n",
       "      <td>TA</td>\n",
       "      <td>84.0</td>\n",
       "      <td>TA</td>\n",
       "      <td>SBrkr</td>\n",
       "    </tr>\n",
       "    <tr>\n",
       "      <th>...</th>\n",
       "      <td>...</td>\n",
       "      <td>...</td>\n",
       "      <td>...</td>\n",
       "      <td>...</td>\n",
       "    </tr>\n",
       "    <tr>\n",
       "      <th>1455</th>\n",
       "      <td>TA</td>\n",
       "      <td>62.0</td>\n",
       "      <td>TA</td>\n",
       "      <td>SBrkr</td>\n",
       "    </tr>\n",
       "    <tr>\n",
       "      <th>1456</th>\n",
       "      <td>TA</td>\n",
       "      <td>85.0</td>\n",
       "      <td>TA</td>\n",
       "      <td>SBrkr</td>\n",
       "    </tr>\n",
       "    <tr>\n",
       "      <th>1457</th>\n",
       "      <td>Gd</td>\n",
       "      <td>66.0</td>\n",
       "      <td>Gd</td>\n",
       "      <td>SBrkr</td>\n",
       "    </tr>\n",
       "    <tr>\n",
       "      <th>1458</th>\n",
       "      <td>NA</td>\n",
       "      <td>68.0</td>\n",
       "      <td>TA</td>\n",
       "      <td>FuseA</td>\n",
       "    </tr>\n",
       "    <tr>\n",
       "      <th>1459</th>\n",
       "      <td>NA</td>\n",
       "      <td>75.0</td>\n",
       "      <td>TA</td>\n",
       "      <td>SBrkr</td>\n",
       "    </tr>\n",
       "  </tbody>\n",
       "</table>\n",
       "<p>1460 rows × 4 columns</p>\n",
       "</div>"
      ],
      "text/plain": [
       "     FireplaceQu  LotFrontage BsmtCond Electrical\n",
       "0             NA         65.0       TA      SBrkr\n",
       "1             TA         80.0       TA      SBrkr\n",
       "2             TA         68.0       TA      SBrkr\n",
       "3             Gd         60.0       Gd      SBrkr\n",
       "4             TA         84.0       TA      SBrkr\n",
       "...          ...          ...      ...        ...\n",
       "1455          TA         62.0       TA      SBrkr\n",
       "1456          TA         85.0       TA      SBrkr\n",
       "1457          Gd         66.0       Gd      SBrkr\n",
       "1458          NA         68.0       TA      FuseA\n",
       "1459          NA         75.0       TA      SBrkr\n",
       "\n",
       "[1460 rows x 4 columns]"
      ]
     },
     "execution_count": 5,
     "metadata": {},
     "output_type": "execute_result"
    }
   ],
   "source": [
    "import numpy\n",
    "\n",
    "columnas_imputar = [\n",
    "    \"FireplaceQu\",\n",
    "    \"LotFrontage\",\n",
    "    \"BsmtCond\",\n",
    "    \"Electrical\",\n",
    "]\n",
    "\n",
    "for columna in columnas_imputar:\n",
    "    print(casas_analisis[columna].dtype, casas_analisis[columna].dtype == object)\n",
    "    if casas_analisis[columna].dtype == object:\n",
    "        casas_analisis.loc[:, columna] = casas_analisis[columna].fillna(\"NA\")\n",
    "    elif casas_analisis[columna].dtype == numpy.float64:\n",
    "        casas_analisis.loc[:, columna] = casas_analisis[columna].fillna(0.0)\n",
    "\n",
    "casas_analisis[columnas_imputar]"
   ]
  },
  {
   "cell_type": "code",
   "execution_count": 6,
   "id": "c7507903",
   "metadata": {},
   "outputs": [],
   "source": [
    "%R -i casas_analisis"
   ]
  },
  {
   "cell_type": "code",
   "execution_count": 9,
   "id": "3b221dc3",
   "metadata": {},
   "outputs": [
    {
     "name": "stdout",
     "output_type": "stream",
     "text": [
      "  MSZoning LotArea Street Neighborhood YearBuilt OverallCond ExterQual\n",
      "0       RL    8450   Pave      CollgCr      2003           5        Gd\n",
      "1       RL    9600   Pave      Veenker      1976           8        TA\n",
      "2       RL   11250   Pave      CollgCr      2001           5        Gd\n",
      "3       RL    9550   Pave      Crawfor      1915           5        TA\n",
      "4       RL   14260   Pave      NoRidge      2000           5        Gd\n",
      "5       RL   14115   Pave      Mitchel      1993           5        TA\n",
      "  GrLivArea FullBath GarageArea BsmtCond FireplaceQu Electrical LotFrontage\n",
      "0      1710        2        548       TA          NA      SBrkr          65\n",
      "1      1262        2        460       TA          TA      SBrkr          80\n",
      "2      1786        2        608       TA          TA      SBrkr          68\n",
      "3      1717        1        642       Gd          Gd      SBrkr          60\n",
      "4      2198        2        836       TA          TA      SBrkr          84\n",
      "5      1362        1        480       TA          NA      SBrkr          85\n",
      "  KitchenQual PavedDrive SalePrice\n",
      "0          Gd          Y    208500\n",
      "1          TA          Y    181500\n",
      "2          Gd          Y    223500\n",
      "3          Gd          Y    140000\n",
      "4          Gd          Y    250000\n",
      "5          TA          Y    143000\n"
     ]
    }
   ],
   "source": [
    "%%R\n",
    "\n",
    "head(casas_analisis)"
   ]
  },
  {
   "cell_type": "code",
   "execution_count": 10,
   "id": "e5ab65c1",
   "metadata": {},
   "outputs": [
    {
     "name": "stdout",
     "output_type": "stream",
     "text": [
      "'data.frame':\t1460 obs. of  17 variables:\n",
      " $ MSZoning    : chr  \"RL\" \"RL\" \"RL\" \"RL\" ...\n",
      " $ LotArea     : int  8450 9600 11250 9550 14260 14115 10084 10382 6120 7420 ...\n",
      " $ Street      : chr  \"Pave\" \"Pave\" \"Pave\" \"Pave\" ...\n",
      " $ Neighborhood: chr  \"CollgCr\" \"Veenker\" \"CollgCr\" \"Crawfor\" ...\n",
      " $ YearBuilt   : int  2003 1976 2001 1915 2000 1993 2004 1973 1931 1939 ...\n",
      " $ OverallCond : int  5 8 5 5 5 5 5 6 5 6 ...\n",
      " $ ExterQual   : chr  \"Gd\" \"TA\" \"Gd\" \"TA\" ...\n",
      " $ GrLivArea   : int  1710 1262 1786 1717 2198 1362 1694 2090 1774 1077 ...\n",
      " $ FullBath    : int  2 2 2 1 2 1 2 2 2 1 ...\n",
      " $ GarageArea  : int  548 460 608 642 836 480 636 484 468 205 ...\n",
      " $ BsmtCond    : chr  \"TA\" \"TA\" \"TA\" \"Gd\" ...\n",
      " $ FireplaceQu : chr  \"NA\" \"TA\" \"TA\" \"Gd\" ...\n",
      " $ Electrical  : chr  \"SBrkr\" \"SBrkr\" \"SBrkr\" \"SBrkr\" ...\n",
      " $ LotFrontage : num  65 80 68 60 84 85 75 0 51 50 ...\n",
      " $ KitchenQual : chr  \"Gd\" \"TA\" \"Gd\" \"Gd\" ...\n",
      " $ PavedDrive  : chr  \"Y\" \"Y\" \"Y\" \"Y\" ...\n",
      " $ SalePrice   : int  208500 181500 223500 140000 250000 143000 307000 200000 129900 118000 ...\n"
     ]
    }
   ],
   "source": [
    "%%R\n",
    "str(casas_analisis)"
   ]
  },
  {
   "cell_type": "code",
   "execution_count": 13,
   "id": "421cfb6e",
   "metadata": {},
   "outputs": [
    {
     "name": "stdout",
     "output_type": "stream",
     "text": [
      "'data.frame':\t1460 obs. of  81 variables:\n",
      " $ Id           : int  1 2 3 4 5 6 7 8 9 10 ...\n",
      " $ MSSubClass   : int  60 20 60 70 60 50 20 60 50 190 ...\n",
      " $ MSZoning     : chr  \"RL\" \"RL\" \"RL\" \"RL\" ...\n",
      " $ LotFrontage  : int  65 80 68 60 84 85 75 NA 51 50 ...\n",
      " $ LotArea      : int  8450 9600 11250 9550 14260 14115 10084 10382 6120 7420 ...\n",
      " $ Street       : chr  \"Pave\" \"Pave\" \"Pave\" \"Pave\" ...\n",
      " $ Alley        : chr  NA NA NA NA ...\n",
      " $ LotShape     : chr  \"Reg\" \"Reg\" \"IR1\" \"IR1\" ...\n",
      " $ LandContour  : chr  \"Lvl\" \"Lvl\" \"Lvl\" \"Lvl\" ...\n",
      " $ Utilities    : chr  \"AllPub\" \"AllPub\" \"AllPub\" \"AllPub\" ...\n",
      " $ LotConfig    : chr  \"Inside\" \"FR2\" \"Inside\" \"Corner\" ...\n",
      " $ LandSlope    : chr  \"Gtl\" \"Gtl\" \"Gtl\" \"Gtl\" ...\n",
      " $ Neighborhood : chr  \"CollgCr\" \"Veenker\" \"CollgCr\" \"Crawfor\" ...\n",
      " $ Condition1   : chr  \"Norm\" \"Feedr\" \"Norm\" \"Norm\" ...\n",
      " $ Condition2   : chr  \"Norm\" \"Norm\" \"Norm\" \"Norm\" ...\n",
      " $ BldgType     : chr  \"1Fam\" \"1Fam\" \"1Fam\" \"1Fam\" ...\n",
      " $ HouseStyle   : chr  \"2Story\" \"1Story\" \"2Story\" \"2Story\" ...\n",
      " $ OverallQual  : int  7 6 7 7 8 5 8 7 7 5 ...\n",
      " $ OverallCond  : int  5 8 5 5 5 5 5 6 5 6 ...\n",
      " $ YearBuilt    : int  2003 1976 2001 1915 2000 1993 2004 1973 1931 1939 ...\n",
      " $ YearRemodAdd : int  2003 1976 2002 1970 2000 1995 2005 1973 1950 1950 ...\n",
      " $ RoofStyle    : chr  \"Gable\" \"Gable\" \"Gable\" \"Gable\" ...\n",
      " $ RoofMatl     : chr  \"CompShg\" \"CompShg\" \"CompShg\" \"CompShg\" ...\n",
      " $ Exterior1st  : chr  \"VinylSd\" \"MetalSd\" \"VinylSd\" \"Wd Sdng\" ...\n",
      " $ Exterior2nd  : chr  \"VinylSd\" \"MetalSd\" \"VinylSd\" \"Wd Shng\" ...\n",
      " $ MasVnrType   : chr  \"BrkFace\" \"None\" \"BrkFace\" \"None\" ...\n",
      " $ MasVnrArea   : int  196 0 162 0 350 0 186 240 0 0 ...\n",
      " $ ExterQual    : chr  \"Gd\" \"TA\" \"Gd\" \"TA\" ...\n",
      " $ ExterCond    : chr  \"TA\" \"TA\" \"TA\" \"TA\" ...\n",
      " $ Foundation   : chr  \"PConc\" \"CBlock\" \"PConc\" \"BrkTil\" ...\n",
      " $ BsmtQual     : chr  \"Gd\" \"Gd\" \"Gd\" \"TA\" ...\n",
      " $ BsmtCond     : chr  \"TA\" \"TA\" \"TA\" \"Gd\" ...\n",
      " $ BsmtExposure : chr  \"No\" \"Gd\" \"Mn\" \"No\" ...\n",
      " $ BsmtFinType1 : chr  \"GLQ\" \"ALQ\" \"GLQ\" \"ALQ\" ...\n",
      " $ BsmtFinSF1   : int  706 978 486 216 655 732 1369 859 0 851 ...\n",
      " $ BsmtFinType2 : chr  \"Unf\" \"Unf\" \"Unf\" \"Unf\" ...\n",
      " $ BsmtFinSF2   : int  0 0 0 0 0 0 0 32 0 0 ...\n",
      " $ BsmtUnfSF    : int  150 284 434 540 490 64 317 216 952 140 ...\n",
      " $ TotalBsmtSF  : int  856 1262 920 756 1145 796 1686 1107 952 991 ...\n",
      " $ Heating      : chr  \"GasA\" \"GasA\" \"GasA\" \"GasA\" ...\n",
      " $ HeatingQC    : chr  \"Ex\" \"Ex\" \"Ex\" \"Gd\" ...\n",
      " $ CentralAir   : chr  \"Y\" \"Y\" \"Y\" \"Y\" ...\n",
      " $ Electrical   : chr  \"SBrkr\" \"SBrkr\" \"SBrkr\" \"SBrkr\" ...\n",
      " $ X1stFlrSF    : int  856 1262 920 961 1145 796 1694 1107 1022 1077 ...\n",
      " $ X2ndFlrSF    : int  854 0 866 756 1053 566 0 983 752 0 ...\n",
      " $ LowQualFinSF : int  0 0 0 0 0 0 0 0 0 0 ...\n",
      " $ GrLivArea    : int  1710 1262 1786 1717 2198 1362 1694 2090 1774 1077 ...\n",
      " $ BsmtFullBath : int  1 0 1 1 1 1 1 1 0 1 ...\n",
      " $ BsmtHalfBath : int  0 1 0 0 0 0 0 0 0 0 ...\n",
      " $ FullBath     : int  2 2 2 1 2 1 2 2 2 1 ...\n",
      " $ HalfBath     : int  1 0 1 0 1 1 0 1 0 0 ...\n",
      " $ BedroomAbvGr : int  3 3 3 3 4 1 3 3 2 2 ...\n",
      " $ KitchenAbvGr : int  1 1 1 1 1 1 1 1 2 2 ...\n",
      " $ KitchenQual  : chr  \"Gd\" \"TA\" \"Gd\" \"Gd\" ...\n",
      " $ TotRmsAbvGrd : int  8 6 6 7 9 5 7 7 8 5 ...\n",
      " $ Functional   : chr  \"Typ\" \"Typ\" \"Typ\" \"Typ\" ...\n",
      " $ Fireplaces   : int  0 1 1 1 1 0 1 2 2 2 ...\n",
      " $ FireplaceQu  : chr  NA \"TA\" \"TA\" \"Gd\" ...\n",
      " $ GarageType   : chr  \"Attchd\" \"Attchd\" \"Attchd\" \"Detchd\" ...\n",
      " $ GarageYrBlt  : int  2003 1976 2001 1998 2000 1993 2004 1973 1931 1939 ...\n",
      " $ GarageFinish : chr  \"RFn\" \"RFn\" \"RFn\" \"Unf\" ...\n",
      " $ GarageCars   : int  2 2 2 3 3 2 2 2 2 1 ...\n",
      " $ GarageArea   : int  548 460 608 642 836 480 636 484 468 205 ...\n",
      " $ GarageQual   : chr  \"TA\" \"TA\" \"TA\" \"TA\" ...\n",
      " $ GarageCond   : chr  \"TA\" \"TA\" \"TA\" \"TA\" ...\n",
      " $ PavedDrive   : chr  \"Y\" \"Y\" \"Y\" \"Y\" ...\n",
      " $ WoodDeckSF   : int  0 298 0 0 192 40 255 235 90 0 ...\n",
      " $ OpenPorchSF  : int  61 0 42 35 84 30 57 204 0 4 ...\n",
      " $ EnclosedPorch: int  0 0 0 272 0 0 0 228 205 0 ...\n",
      " $ X3SsnPorch   : int  0 0 0 0 0 320 0 0 0 0 ...\n",
      " $ ScreenPorch  : int  0 0 0 0 0 0 0 0 0 0 ...\n",
      " $ PoolArea     : int  0 0 0 0 0 0 0 0 0 0 ...\n",
      " $ PoolQC       : chr  NA NA NA NA ...\n",
      " $ Fence        : chr  NA NA NA NA ...\n",
      " $ MiscFeature  : chr  NA NA NA NA ...\n",
      " $ MiscVal      : int  0 0 0 0 0 700 0 350 0 0 ...\n",
      " $ MoSold       : int  2 5 9 2 12 10 8 11 4 1 ...\n",
      " $ YrSold       : int  2008 2007 2008 2006 2008 2009 2007 2009 2008 2008 ...\n",
      " $ SaleType     : chr  \"WD\" \"WD\" \"WD\" \"WD\" ...\n",
      " $ SaleCondition: chr  \"Normal\" \"Normal\" \"Normal\" \"Abnorml\" ...\n",
      " $ SalePrice    : int  208500 181500 223500 140000 250000 143000 307000 200000 129900 118000 ...\n"
     ]
    }
   ],
   "source": [
    "%%R\n",
    "casas <- read.csv('Casas.csv')\n",
    "\n",
    "str(casas)"
   ]
  },
  {
   "cell_type": "code",
   "execution_count": null,
   "id": "50ebb213",
   "metadata": {},
   "outputs": [],
   "source": []
  }
 ],
 "metadata": {
  "kernelspec": {
   "display_name": "Python 3",
   "language": "python",
   "name": "python3"
  },
  "language_info": {
   "codemirror_mode": {
    "name": "ipython",
    "version": 3
   },
   "file_extension": ".py",
   "mimetype": "text/x-python",
   "name": "python",
   "nbconvert_exporter": "python",
   "pygments_lexer": "ipython3",
   "version": "3.12.4"
  }
 },
 "nbformat": 4,
 "nbformat_minor": 5
}
