{
 "cells": [
  {
   "cell_type": "markdown",
   "id": "08c54ef3",
   "metadata": {},
   "source": [
    "\\newcommand{\\pandocbounded}[1]{#1}\n",
    "\n",
    "**Universidad Autónoma Metropolitana - Unidad Iztapalapa (UAM-I)**\n",
    "\n",
    "**Maestría en Matemáticas Aplicadas e Industriales (MCMAI)**\n",
    "\n",
    "**Taller de Modelado Matemático II - Parte II**\n",
    "\n",
    "**Profesor**: Dr. Joaquín Delgado Fernández\n",
    "\n",
    "**Alumno**: Alan Badillo Salas\n",
    "\n",
    "Julio 12, 2025. Trimestre 25-P"
   ]
  },
  {
   "cell_type": "markdown",
   "id": "4f88986f",
   "metadata": {},
   "source": [
    "# Introducción\n",
    "\n",
    "Las redes neuronales se han desarrollado gracias al estudio bioquímico del la neurona biológica. Los resultados de los trabajos de Hodking-Huxley y FitzHugh-Nagumo han permitido modelar los mecanismos de activación que ocurren dentro de la neurona biológica mediante el balance en los depósitos de $Na^+$ (sodio) y $K^+$ (potasio) en su dinámica de impulsos nerviosos ocurridos dentro del axón (derivados de estudios en calamares gigantes).\n",
    "\n",
    "* Hodgkin, A. L. and Huxley, A. F. (1952). A quantitative description of ion currents and its\n",
    "applications to conduction and excitation in nerve membranes. J. Physiol. (Lond.), 117:500-544.\n",
    "* Nagumo, J., S. Arimoto, and S. Yoshizawa (1964): An active pulse transmission line simulating\n",
    "nerve axon, Proc IRE. 50: 2061-2070.\n",
    "\n",
    "Es de nuestro interés poder reproducir algunos resultados del modelo de Hodkind-Huxley y FitzHugh-Nagumo, por lo que estudiaremos las ecuaciones de la dinámica de transmisión de impulsos nerviosos que se deriva del estudio del intercambio de $Na^+$ y $K^+$ en la membrana semipermeable, mediante las fugas en la membrana.\n",
    "\n",
    "Esto se puede modelar similar a un sistema similar a un circuito eléctrico, dónde se considera la función de la membrana como un capacitor eléctrico y al flujo de iones similar a la batería o canales de corriente como se muestra en la **Figura 1**."
   ]
  },
  {
   "cell_type": "markdown",
   "id": "c598c62f",
   "metadata": {},
   "source": [
    "![fig1](figures/fig1.png)"
   ]
  },
  {
   "cell_type": "markdown",
   "id": "6bceeae7",
   "metadata": {},
   "source": [
    "**Figura 1**. Comparación entre la membrana y la analogía a un capacitor y el flujo de iones en analogía a baterías o canales de corriente."
   ]
  },
  {
   "cell_type": "markdown",
   "id": "08447146",
   "metadata": {},
   "source": [
    "## Problema\n",
    "\n",
    "En esta tarea se nos solicita realizar un código en algún lenguaje de programación para reproducir, en la medida de lo posible, el mapa de bifurcación de la **Figura B**, que representa las regiones de activación para los parámetros del estímulo $I_2$ y $\\Delta I_2$ como se muestra en la **Figura A**.\n",
    "\n",
    "En la región se varian diferentes valores de $I_2 \\in [0, 8]$ y $\\Delta I_2 \\in [0, 6]$. Y en cada punto de la región ocurren diferentes impulsos formando trenes de picos en la región $R$, impulsos latentes en la región $S$ y supresiones prontas en la región $I$."
   ]
  },
  {
   "cell_type": "markdown",
   "id": "b8ae7ed4",
   "metadata": {},
   "source": [
    "![mapaHH](figures/mapa-hh.png)"
   ]
  },
  {
   "cell_type": "markdown",
   "id": "e073ec0a",
   "metadata": {},
   "source": [
    "**Figura 2**. (A) Función de impulso asociada al tiempo $I(t)$ y su diferencial $\\Delta I$. (B) Región entre los impulsos y su diferencial, formando activaciones de tren $R$, latentes $S$ o decadentes $I$."
   ]
  },
  {
   "cell_type": "markdown",
   "id": "73cd56ef",
   "metadata": {},
   "source": [
    "## Ecuaciones de la Dinámica de Hodkin-Huxley\n",
    "\n",
    "Basados en el modelo de corriente, los valores empíricos para las conductancias $g_x$, los potenciales inversos $E_x$ y las funciones $\\alpha_x(u)$ y $\\beta_x(u)$ con $x = \\{Na (n), K (m), L (h)\\}$ son:\n",
    "\n",
    "$$\n",
    "C_m \\frac{d V}{d t} = -g_{Na} m^3 h (V - V_{Na}) - g_K n^4 (V - V_K) - g_L (V - V_L) + I\n",
    "$$\n",
    "\n",
    "$$\n",
    "\\frac{d m}{d t} = \\alpha_m(u) \\cdot (1 - m) - \\beta_m(u) \\cdot m\n",
    "$$\n",
    "\n",
    "$$\n",
    "\\frac{d n}{d t} = \\alpha_n(u) \\cdot (1 - n) - \\beta_n(u) \\cdot n\n",
    "$$\n",
    "\n",
    "$$\n",
    "\\frac{d h}{d t} = \\alpha_h(u) \\cdot (1 - h) - \\beta_h(u) \\cdot h\n",
    "$$\n",
    "\n",
    "Con los los valores empíricos reportados en la **Figura 3**."
   ]
  },
  {
   "cell_type": "markdown",
   "id": "e19e90a1",
   "metadata": {},
   "source": [
    "![fig3](figures/fig3.png)"
   ]
  },
  {
   "cell_type": "markdown",
   "id": "31ad97df",
   "metadata": {},
   "source": [
    "**Figura 3**. Valores empíricos reportados por Hodkin-Huxley para las conductancias, potenciales reversos y las funciones $\\alpha_x(u)$ y $\\beta_x(u)$.\n",
    "\n",
    "(*) Referidos a un potencial de reposo cero. \n",
    "\n",
    "En la norma actual, debe restarse -$65 mV$ a los valores de $E_x$"
   ]
  },
  {
   "cell_type": "markdown",
   "id": "4a01732b",
   "metadata": {},
   "source": [
    "# Simulación"
   ]
  },
  {
   "cell_type": "markdown",
   "id": "904f7ace",
   "metadata": {},
   "source": [
    "Para resolver este problema, se desarrolló un simulador en *Ruby* resolviendo manualmente las ecuaciones diferenciales e implementando la dinámica según los parámetros $I_2$ y $\\Delta I_2$.\n",
    "\n",
    "En el simulador podemos ver 3 regiones gráficas:\n",
    "\n",
    "* *Izquierda Arriba* - Muestra el potencial de la membrana generado por los parámetros que toman $I_2$ y $\\Delta I$ mediante la solución de $u(t)$.\n",
    "* *Izquierda Abajo* - Muestra el impulso generado en el tiempo $I(t)$\n",
    "* *Derecha* - Muestra una región seleccionable para tomar los valores de los parámetros $I_2 \\in [0, 8]$ y $\\Delta I_2 \\in [0, 6]$.\n",
    "\n",
    "Al pulsar sobre la región derecha, se lanzarán además 10 soluciones aleatorias cercanas, para ir completando el mapa de las regiones.\n",
    "\n",
    "El color de cada punto se calcula según el área bajo la curva medida para el impulso.\n",
    "\n",
    "Esto permite colorear del naranja al azul cuando el tren de picos aumenta y el área bajo la curva crece."
   ]
  },
  {
   "cell_type": "markdown",
   "id": "310ec90a",
   "metadata": {},
   "source": [
    "## Fase 1 - Impulsos bajos\n",
    "\n",
    "En la región inferior izquierda, para cuando $I_2 \\approx 0$ y $\\Delta I_2 \\approx 0$ podemos observar cómo el impulso es corto y decae inmediatamente, haciendo referencia a la región $I$."
   ]
  },
  {
   "cell_type": "markdown",
   "id": "942d0655",
   "metadata": {},
   "source": [
    "![f1](figures/f1.png)"
   ]
  },
  {
   "cell_type": "markdown",
   "id": "f3f9f3b8",
   "metadata": {},
   "source": [
    "## Fase 2 - Aumento de la cola de impulsos\n",
    "\n",
    "Cuando en la región se aumenta a $\\Delta I_2$ y se mantiene a $I_2 \\approx (0, 3)$ el comportamiento del impulso forma colas parecidos a trenes que decaen rápidamente, haciendo referencia a la región $S$ y mostrando un color más ocre. "
   ]
  },
  {
   "cell_type": "markdown",
   "id": "0f2476bb",
   "metadata": {},
   "source": [
    "![f3](figures/f3.png)"
   ]
  },
  {
   "cell_type": "markdown",
   "id": "e3df1e1e",
   "metadata": {},
   "source": [
    "## Fase 3 - Tren de picos\n",
    "\n",
    "Cuando $\\Delta I_2$ crece ($\\Delta I_2 \\approx 6$), los picos ya no decaen formando así un tren de picos."
   ]
  },
  {
   "cell_type": "markdown",
   "id": "51d04ba9",
   "metadata": {},
   "source": [
    "![f4](figures/f4.png)"
   ]
  },
  {
   "cell_type": "markdown",
   "id": "796638be",
   "metadata": {},
   "source": [
    "## Región completa\n",
    "\n",
    "Con suficientes simulaciones se puede observar en qué puntos se mantendrá el tren de picos y en cuáles decaerá, formando así un comportamiento similar al reportado en el mapa de $HH$."
   ]
  },
  {
   "cell_type": "markdown",
   "id": "38b2f941",
   "metadata": {},
   "source": [
    "![f6](figures/f6.png)"
   ]
  },
  {
   "cell_type": "markdown",
   "id": "e7095140",
   "metadata": {},
   "source": [
    "# Conclusiones\n",
    "\n",
    "En esta tarea hemos abordado un modelo que ha permitido el desarrollo de las redes neuronales mediante mecanismos biológicos asimilados como modelos eléctricos y ajustados empíricamente para producir activaciones cortas y frecuentes.\n",
    "\n",
    "Esto nos permite madurar el entendimiento de cómo los modelos bioquímicos usan modelos matemáticos complicados y dinámicas complejas para poder hacer intercambios de señales y energía mediante bombas y depósitos de $Na^+$ y $K^+$, formando así instrumentos naturales donde reside la inteligencia natural, que reconstruimos mediante modelos matemáticos, para llegar a una inteligencia artificial."
   ]
  },
  {
   "cell_type": "markdown",
   "id": "0c6341fe",
   "metadata": {},
   "source": [
    "# Anexo\n",
    "\n",
    "A continuación se deja el código del simulador desarrollado.\n",
    "\n",
    "```ruby\n",
    "# Universidad Autónoma Metropolitana\n",
    "# Unidad Iztapalapa\n",
    "# Maestría en Matemáticas Aplicadas e Industriales\n",
    "# Profesor: Joaquín Delgado Fernández\n",
    "\n",
    "# Alan Badillo Salas (alan@nomadacode.com)\n",
    "# Julio, 2025\n",
    "\n",
    "# Simulador de la Dinámica del Modelo de Hodkin-Huxley\n",
    "\n",
    "require 'ruby2d'\n",
    "require_relative 'curve_box'\n",
    "\n",
    "$w = 800\n",
    "$h = 400\n",
    "\n",
    "set width: $w\n",
    "set height: $h\n",
    "set title: 'Dinámica del Modelo Hodkin-Huxley'\n",
    "\n",
    "$t0 = -3\n",
    "$c = 1\n",
    "$t1 = $t0 + $c\n",
    "\n",
    "def impulso(t)\n",
    "  (t >= $t0 && t <= $t1) ? 1.0 : 0.0\n",
    "end\n",
    "\n",
    "curve1 = CurveBox.new(\n",
    "  ox: 10,\n",
    "  oy: 10,\n",
    "  sx: 380,\n",
    "  sy: 380,\n",
    "  tmin: -3,\n",
    "  tmax: 3,\n",
    "  ymin: -1.5,\n",
    "  ymax: 1.5,\n",
    "  f: method(:impulso)\n",
    ")\n",
    "\n",
    "# dv/dt = -a v + b * impulso(t)\n",
    "# v(t + λt) = v(t) + λt * (-a v(t) + b * impulso(t))\n",
    "\n",
    "\n",
    "$v = 0.0   # Estado inicial\n",
    "$a = 1.0   # Decaimiento\n",
    "$b = 2.0   # Peso del impulso\n",
    "$dt = 0.05 # Paso temporal\n",
    "\n",
    "def dinamica(t)\n",
    "  $v += $dt * (-$a * $v + $b * impulso(t))\n",
    "  $v\n",
    "end\n",
    "\n",
    "curve2 = CurveBox.new(\n",
    "  ox: 410,\n",
    "  oy: 10,\n",
    "  sx: 380,\n",
    "  sy: 380,\n",
    "  tmin: -3,\n",
    "  tmax: 3,\n",
    "  ymin: -1.5,\n",
    "  ymax: 1.5,\n",
    "  f: method(:dinamica)\n",
    ")\n",
    "\n",
    "curve1.draw\n",
    "curve2.draw\n",
    "\n",
    "update do\n",
    "  $t0 += 0.01\n",
    "  $t1 = $t0 + $c\n",
    "\n",
    "  if $t0 > 3\n",
    "    $t0 = -3\n",
    "  end\n",
    "\n",
    "  curve1.draw\n",
    "  curve2.draw\n",
    "end\n",
    "\n",
    "show\n",
    "```"
   ]
  }
 ],
 "metadata": {
  "kernelspec": {
   "display_name": "Python 3",
   "language": "python",
   "name": "python3"
  },
  "language_info": {
   "name": "python",
   "version": "3.12.4"
  }
 },
 "nbformat": 4,
 "nbformat_minor": 5
}
