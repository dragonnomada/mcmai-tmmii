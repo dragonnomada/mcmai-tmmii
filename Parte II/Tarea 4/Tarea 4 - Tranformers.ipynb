{
 "cells": [
  {
   "cell_type": "markdown",
   "id": "33500832",
   "metadata": {},
   "source": [
    "# Transformers\n",
    "\n",
    "![uami](./figuras/uami.png)\n",
    "\n",
    "**Maestría en Matemáticas Aplicadas**\n",
    "\n",
    "Alan Badillo Salas (cbi2242800355@xanum.uam.mx)\n",
    "\n",
    "> Taller de Modelado II\n",
    "> \n",
    "> Parte II (2137080)\n",
    "> \n",
    "> **Tarea 4**\n",
    "> \n",
    "> *Trimestre: 25-P*\n",
    ">\n",
    "> Profesor: Dr. Joaquín Delgado Fernández"
   ]
  },
  {
   "cell_type": "code",
   "execution_count": 1,
   "id": "9d1c38ad",
   "metadata": {},
   "outputs": [],
   "source": [
    "import numpy\n",
    "import pandas\n",
    "\n",
    "import matplotlib.pyplot as pyplot\n",
    "import seaborn"
   ]
  },
  {
   "cell_type": "markdown",
   "id": "b100ed50",
   "metadata": {},
   "source": [
    "# Fase 1 - Entrada (Corpus)"
   ]
  },
  {
   "cell_type": "markdown",
   "id": "c89e868e",
   "metadata": {},
   "source": [
    "La entrada consiste en un conjunto de palabras llamada *corpus*.\n",
    "\n",
    "> Se usará una narración ficticia sobre una ciudad, sus habitantes y sus rutinas."
   ]
  },
  {
   "cell_type": "code",
   "execution_count": 3,
   "id": "47d11e0c",
   "metadata": {},
   "outputs": [
    {
     "name": "stdout",
     "output_type": "stream",
     "text": [
      "\n",
      "En la ciudad de Lumina, cada día comenzaba con el sonido de los relojes marcando la hora exacta. Los habitantes de Lumina despertaban con el primer rayo de sol. Las calles se llenaban de pasos, voces y aromas. Los panaderos abrían sus puertas. Las maestras se preparaban para enseñar. Los niños se organizaban para ir a la escuela. Los adultos caminaban hacia sus trabajos. Las bicicletas cruzaban los parques. Los trenes partían con puntualidad. Todo en Lumina parecía seguir un orden perfecto.\n",
      "\n",
      "Marta, una bibliotecaria, recorría las estanterías cada mañana. Revisaba los títulos. Ordenaba los libros. Saludaba a los lectores. Encendía las lámparas de lectura. Preparaba el té. Observaba por la ventana. Anotaba los préstamos del día. Cada acción tenía su momento. Cada momento tenía su propósito. Marta creía en la rutina. Marta confiaba en el silencio. Marta amaba su trabajo.\n",
      "\n",
      "Mientras tanto, Julián, un jardinero, salía antes del amanecer. Llevaba su sombrero de paja. Cargaba su regadera. Saludaba a los pájaros. Cortaba las ramas secas. Plantaba nuevas flores. Rociaba las hojas con agua. Escuchaba el zumbido de las abejas. Disfrutaba el olor a tierra húmeda. Julián decía que las plantas hablaban. Decía que el jardín tenía memoria. Decía que cada pétalo era una historia.\n",
      "\n",
      "En la misma ciudad, Camila, una repartidora de cartas, pedaleaba por las avenidas. Repartía sobres blancos. Entregaba paquetes pequeños. Conversaba con los vecinos. Preguntaba por los ausentes. Llevaba noticias alegres. A veces, entregaba malas noticias. Camila leía los rostros. Recordaba los nombres. Anotaba direcciones. Escribía mensajes secretos en su libreta. Le gustaba imaginar las historias detrás de cada carta.\n",
      "\n",
      "Por las tardes, el mercado se llenaba de colores. Los vendedores gritaban sus ofertas. Las frutas brillaban bajo la luz del sol. Los clientes tocaban los tomates. Olían las especias. Preguntaban por los precios. Regateaban con una sonrisa. Compraban arroz, cebollas y pan. Las bolsas se llenaban. Las monedas sonaban. Los niños probaban dulces. Las abuelas contaban recetas. El mercado era un teatro vivo.\n",
      "\n",
      "Los domingos eran distintos. Las calles se volvían lentas. Las tiendas cerraban. Las familias desayunaban juntas. Los vecinos compartían historias. Los jóvenes jugaban fútbol. Los perros corrían libres. Los ancianos tomaban el sol. El río reflejaba el cielo. Los puentes estaban tranquilos. Las campanas sonaban a lo lejos. Los domingos eran días de pausa. Eran días de memoria. Eran días de descanso.\n",
      "\n",
      "En Lumina, cada persona tenía una historia. Cada historia tenía un ritmo. Cada ritmo tenía una cadencia. Cada cadencia se repetía con ligeras variaciones. La rutina creaba seguridad. La variación creaba belleza. La belleza estaba en los detalles. El detalle era lo que hacía único cada momento.\n",
      "\n",
      "Los relojeros afinaban los engranajes. Los sastres medían con precisión. Los zapateros pulían el cuero. Los músicos afinaban sus instrumentos. Los pintores mezclaban colores. Los escritores corregían párrafos. Los maestros enseñaban a leer. Los alumnos escribían con lápiz. Las palabras llenaban los cuadernos. Las ideas flotaban en el aire. Las conversaciones tejían comunidad.\n",
      "\n",
      "Cuando caía la noche, las farolas se encendían. Los bares abrían sus puertas. La música suave llenaba el ambiente. Las parejas caminaban despacio. Las conversaciones eran más íntimas. Los secretos se compartían entre susurros. Los poetas recitaban en voz baja. Los ojos brillaban con la luna. El silencio regresaba poco a poco.\n",
      "\n",
      "A veces llovía. La lluvia lavaba los tejados. Mojaba los zapatos. Acariciaba las hojas. Tocaba las ventanas. Refrescaba el aire. La ciudad olía a limpio. Las calles brillaban con reflejos. Las gotas caían con ritmo. Los paraguas florecían. Los charcos eran espejos. Los niños saltaban en ellos. Los adultos se apresuraban. Las nubes pasaban lento. La lluvia traía calma.\n",
      "\n",
      "En invierno, la ciudad se cubría de gris. El viento era más fuerte. Las bufandas eran más largas. Los guantes volvían. El café sabía mejor. Las estufas crujían. Las mantas abrazaban. Los libros se leían despacio. Las conversaciones eran más cálidas. Las ventanas se empañaban. Los días eran cortos. Las noches eran largas. Pero la ciudad seguía viva.\n",
      "\n",
      "En primavera, las flores regresaban. Los árboles reverdecían. Las plazas se llenaban de vida. Los artistas salían a las calles. Los músicos tocaban en las esquinas. Las parejas se besaban sin prisa. Los niños corrían sin miedo. Las fuentes cantaban. Los colores invadían los muros. Las risas eran más frecuentes. El aire olía a nuevo. La ciudad sonreía.\n",
      "\n",
      "Cada estación traía sus propios ritos. Cada rito tenía sus palabras. Cada palabra tenía su sonido. Cada sonido se repetía en los corazones. La ciudad era un poema. Un poema escrito a muchas voces. Un poema sin final.\n",
      "\n"
     ]
    }
   ],
   "source": [
    "corpus = \"\"\"\n",
    "En la ciudad de Lumina, cada día comenzaba con el sonido de los relojes marcando la hora exacta. Los habitantes de Lumina despertaban con el primer rayo de sol. Las calles se llenaban de pasos, voces y aromas. Los panaderos abrían sus puertas. Las maestras se preparaban para enseñar. Los niños se organizaban para ir a la escuela. Los adultos caminaban hacia sus trabajos. Las bicicletas cruzaban los parques. Los trenes partían con puntualidad. Todo en Lumina parecía seguir un orden perfecto.\n",
    "\n",
    "Marta, una bibliotecaria, recorría las estanterías cada mañana. Revisaba los títulos. Ordenaba los libros. Saludaba a los lectores. Encendía las lámparas de lectura. Preparaba el té. Observaba por la ventana. Anotaba los préstamos del día. Cada acción tenía su momento. Cada momento tenía su propósito. Marta creía en la rutina. Marta confiaba en el silencio. Marta amaba su trabajo.\n",
    "\n",
    "Mientras tanto, Julián, un jardinero, salía antes del amanecer. Llevaba su sombrero de paja. Cargaba su regadera. Saludaba a los pájaros. Cortaba las ramas secas. Plantaba nuevas flores. Rociaba las hojas con agua. Escuchaba el zumbido de las abejas. Disfrutaba el olor a tierra húmeda. Julián decía que las plantas hablaban. Decía que el jardín tenía memoria. Decía que cada pétalo era una historia.\n",
    "\n",
    "En la misma ciudad, Camila, una repartidora de cartas, pedaleaba por las avenidas. Repartía sobres blancos. Entregaba paquetes pequeños. Conversaba con los vecinos. Preguntaba por los ausentes. Llevaba noticias alegres. A veces, entregaba malas noticias. Camila leía los rostros. Recordaba los nombres. Anotaba direcciones. Escribía mensajes secretos en su libreta. Le gustaba imaginar las historias detrás de cada carta.\n",
    "\n",
    "Por las tardes, el mercado se llenaba de colores. Los vendedores gritaban sus ofertas. Las frutas brillaban bajo la luz del sol. Los clientes tocaban los tomates. Olían las especias. Preguntaban por los precios. Regateaban con una sonrisa. Compraban arroz, cebollas y pan. Las bolsas se llenaban. Las monedas sonaban. Los niños probaban dulces. Las abuelas contaban recetas. El mercado era un teatro vivo.\n",
    "\n",
    "Los domingos eran distintos. Las calles se volvían lentas. Las tiendas cerraban. Las familias desayunaban juntas. Los vecinos compartían historias. Los jóvenes jugaban fútbol. Los perros corrían libres. Los ancianos tomaban el sol. El río reflejaba el cielo. Los puentes estaban tranquilos. Las campanas sonaban a lo lejos. Los domingos eran días de pausa. Eran días de memoria. Eran días de descanso.\n",
    "\n",
    "En Lumina, cada persona tenía una historia. Cada historia tenía un ritmo. Cada ritmo tenía una cadencia. Cada cadencia se repetía con ligeras variaciones. La rutina creaba seguridad. La variación creaba belleza. La belleza estaba en los detalles. El detalle era lo que hacía único cada momento.\n",
    "\n",
    "Los relojeros afinaban los engranajes. Los sastres medían con precisión. Los zapateros pulían el cuero. Los músicos afinaban sus instrumentos. Los pintores mezclaban colores. Los escritores corregían párrafos. Los maestros enseñaban a leer. Los alumnos escribían con lápiz. Las palabras llenaban los cuadernos. Las ideas flotaban en el aire. Las conversaciones tejían comunidad.\n",
    "\n",
    "Cuando caía la noche, las farolas se encendían. Los bares abrían sus puertas. La música suave llenaba el ambiente. Las parejas caminaban despacio. Las conversaciones eran más íntimas. Los secretos se compartían entre susurros. Los poetas recitaban en voz baja. Los ojos brillaban con la luna. El silencio regresaba poco a poco.\n",
    "\n",
    "A veces llovía. La lluvia lavaba los tejados. Mojaba los zapatos. Acariciaba las hojas. Tocaba las ventanas. Refrescaba el aire. La ciudad olía a limpio. Las calles brillaban con reflejos. Las gotas caían con ritmo. Los paraguas florecían. Los charcos eran espejos. Los niños saltaban en ellos. Los adultos se apresuraban. Las nubes pasaban lento. La lluvia traía calma.\n",
    "\n",
    "En invierno, la ciudad se cubría de gris. El viento era más fuerte. Las bufandas eran más largas. Los guantes volvían. El café sabía mejor. Las estufas crujían. Las mantas abrazaban. Los libros se leían despacio. Las conversaciones eran más cálidas. Las ventanas se empañaban. Los días eran cortos. Las noches eran largas. Pero la ciudad seguía viva.\n",
    "\n",
    "En primavera, las flores regresaban. Los árboles reverdecían. Las plazas se llenaban de vida. Los artistas salían a las calles. Los músicos tocaban en las esquinas. Las parejas se besaban sin prisa. Los niños corrían sin miedo. Las fuentes cantaban. Los colores invadían los muros. Las risas eran más frecuentes. El aire olía a nuevo. La ciudad sonreía.\n",
    "\n",
    "Cada estación traía sus propios ritos. Cada rito tenía sus palabras. Cada palabra tenía su sonido. Cada sonido se repetía en los corazones. La ciudad era un poema. Un poema escrito a muchas voces. Un poema sin final.\n",
    "\"\"\"\n",
    "\n",
    "print(corpus)"
   ]
  },
  {
   "cell_type": "markdown",
   "id": "b7be9c0c",
   "metadata": {},
   "source": [
    "## Detección de palabras únicas"
   ]
  },
  {
   "cell_type": "markdown",
   "id": "1f4f54ea",
   "metadata": {},
   "source": [
    "> Se cortan las palabras, se normalizan a minúsculas, se quitan los caracteres especiales y se "
   ]
  },
  {
   "cell_type": "code",
   "execution_count": 76,
   "id": "b2ffc719",
   "metadata": {},
   "outputs": [
    {
     "name": "stdout",
     "output_type": "stream",
     "text": [
      "PALABRAR ÚNICAS\n",
      "========================================================================================================================================================================================================\n",
      "000: a abejas abrazaban abrian abuelas acariciaba accion adultos afinaban agua aire alegres alumnos amaba amanecer ambiente ancianos anotaba antes apresuraban \n",
      "020: arboles aromas arroz artistas ausentes avenidas baja bajo bares belleza besaban bibliotecaria bicicletas blancos bolsas brillaban bufandas cada cadencia cafe \n",
      "040: caia caian calidas calles calmaen camila caminaban campanas cantaban cargaba cartapor cartas cebollas cerraban charcos cielo ciudad clientes colores comenzaba \n",
      "060: compartian compraban comunidadcuando con confiaba contaban conversaba conversaciones corazones corregian corrian cortaba cortos creaba creia crujian cruzaban cuadernos cubria cuero \n",
      "080: de decia del desayunaban descansoen despacio despertaban detalle detalles detras dia dias direcciones disfrutaba distintos domingos dulces el ellos empanaban \n",
      "100: en encendia encendian engranajes ensenaban ensenar entre entregaba era eran escribia escribian escrito escritores escuchaba escuela especias espejos esquinas estaba \n",
      "120: estaban estacion estanterias estufas exacta familias farolas final florecian flores flotaban frecuentes frutas fuentes fuerte futbol gotas gris gritaban guantes \n",
      "140: gustaba habitantes hablaban hacia historia historiaen historias hojas hora humeda ideas imaginar instrumentos intimas invadian invierno ir jardin jardinero jovenes \n",
      "160: jugaban julian juntas la lamparas lapiz largas las lavaba le lectores lectura leer leia leian lejos lentas lento libres libreta \n",
      "180: libros ligeras limpio llenaba llenaban llevaba llovia lluvia lo los lumina luna luz maestras maestros malas manana mantas marcando marta \n",
      "200: mas median mejor memoria mensajes mercado mezclaban miedo misma mojaba momento momentolos monedas muchas muros musica musicos ninos noche noches \n",
      "220: nombres noticias nubes nuevas nuevo observaba ofertas ojos olia olian olor orden ordenaba organizaban paja pajaros palabra palabras pan panaderos \n",
      "240: paquetes para paraguas parecia parejas parques parrafos partian pasaban pasos pausa pedaleaba pequenos perfectomarta pero perros persona petalo pintores plantaba \n",
      "260: plantas plazas poco pocoa poema poetas por precios precision preguntaba preguntaban preparaba preparaban prestamos primavera primer prisa probaban propios proposito \n",
      "280: puentes puertas pulian puntualidad que ramas rayo recetas recitaban recordaba recorria reflejaba reflejos refrescaba regadera regateaban regresaba regresaban relojeros relojes \n",
      "300: repartia repartidora repetia reverdecian revisaba rio risas ritmo rito ritos rociaba rostros rutina sabia salia salian saltaban saludaba sastres se \n",
      "320: secas secretos seguia seguir seguridad silencio sin sobres sol sombrero sonaban sonido sonreiacada sonrisa su suave sus susurros tanto tardes \n",
      "340: te teatro tejados tejian tenia tiendas tierra titulos tocaba tocaban todo tomaban tomates trabajomientras trabajos traia tranquilos trenes un una \n",
      "360: unico variacion variaciones veces vecinos vendedores ventana ventanas vida viento vivaen vivolos voces volvian voz y zapateros zapatos zumbido \n",
      "========================================================================================================================================================================================================\n"
     ]
    }
   ],
   "source": [
    "import unicodedata\n",
    "\n",
    "def quitar_acentos(texto):\n",
    "    return ''.join(letra for letra in unicodedata.normalize('NFD', texto) if unicodedata.category(letra) != 'Mn')\n",
    "\n",
    "palabras = pandas.Series(corpus.split(\" \")) \\\n",
    "    .str.lower().replace(r\"[\\s,.¿?¡!]\", \"\", regex=True) \\\n",
    "    .apply(quitar_acentos)\n",
    "\n",
    "print(\"PALABRAR ÚNICAS\")\n",
    "print(\"=\" * 200)\n",
    "print(\"000:\", end=\" \")\n",
    "for indice, palabra in enumerate(palabras.sort_values().unique()):\n",
    "    print(palabra, end=\" \")\n",
    "    if indice % 20 == 19:\n",
    "        print(f\"\\n{indice + 1:03}:\", end=\" \")\n",
    "print()\n",
    "print(\"=\" * 200)"
   ]
  },
  {
   "cell_type": "markdown",
   "id": "120eaa5e",
   "metadata": {},
   "source": [
    "> Se retiene el texto original (`corpus_original.txt`), las palabras normalizadas (`corpus.txt`) y las palabras únicas (`vocab.txt`)"
   ]
  },
  {
   "cell_type": "code",
   "execution_count": 55,
   "id": "f5a5524a",
   "metadata": {},
   "outputs": [],
   "source": [
    "with open(\"corpus_original.txt\", \"w\") as archivo:\n",
    "   archivo.write(corpus)"
   ]
  },
  {
   "cell_type": "code",
   "execution_count": 56,
   "id": "edc8c583",
   "metadata": {},
   "outputs": [],
   "source": [
    "with open(\"corpus.txt\", \"w\") as archivo:\n",
    "    buffer = \"\"\n",
    "    for indice, palabra in enumerate(palabras):\n",
    "        buffer += palabra + \" \"\n",
    "        if indice % 30 == 29:\n",
    "            buffer += \"\\n\"\n",
    "    archivo.write(buffer)"
   ]
  },
  {
   "cell_type": "code",
   "execution_count": 57,
   "id": "acda21f6",
   "metadata": {},
   "outputs": [],
   "source": [
    "with open(\"vocab.txt\", \"w\") as archivo:\n",
    "    archivo.write(\"\\n\".join(palabras.sort_values().unique()))"
   ]
  },
  {
   "cell_type": "markdown",
   "id": "6cdef9bc",
   "metadata": {},
   "source": [
    "# Fase 2 - Tamaño del vocabulario"
   ]
  },
  {
   "cell_type": "markdown",
   "id": "cc749491",
   "metadata": {},
   "source": [
    "> Carga de las palabras del vocabulario y calculo de su frecuencia"
   ]
  },
  {
   "cell_type": "code",
   "execution_count": null,
   "id": "f0334fce",
   "metadata": {},
   "outputs": [
    {
     "data": {
      "text/plain": [
       "0              a\n",
       "1         abejas\n",
       "2      abrazaban\n",
       "3         abrian\n",
       "4        abuelas\n",
       "         ...    \n",
       "374          voz\n",
       "375            y\n",
       "376    zapateros\n",
       "377      zapatos\n",
       "378      zumbido\n",
       "Length: 379, dtype: object"
      ]
     },
     "execution_count": 78,
     "metadata": {},
     "output_type": "execute_result"
    }
   ],
   "source": [
    "with open(\"vocab.txt\", \"r\") as archivo:\n",
    "    vocab = pandas.Series(archivo.readlines()).str.replace(\"\\n\", \"\")\n",
    "\n",
    "vocab"
   ]
  },
  {
   "cell_type": "markdown",
   "id": "c5347035",
   "metadata": {},
   "source": [
    "Hay $379$ palabras únicas"
   ]
  },
  {
   "cell_type": "markdown",
   "id": "2217efbb",
   "metadata": {},
   "source": [
    "> Obtención de las frecuencias"
   ]
  },
  {
   "cell_type": "code",
   "execution_count": 79,
   "id": "79ba3c73",
   "metadata": {},
   "outputs": [
    {
     "data": {
      "text/plain": [
       "0      12\n",
       "1       1\n",
       "2       1\n",
       "3       2\n",
       "4       1\n",
       "       ..\n",
       "374     1\n",
       "375     2\n",
       "376     1\n",
       "377     1\n",
       "378     1\n",
       "Length: 379, dtype: int64"
      ]
     },
     "execution_count": 79,
     "metadata": {},
     "output_type": "execute_result"
    }
   ],
   "source": [
    "freq = vocab.map(lambda palabra: (palabras == palabra).sum())\n",
    "freq"
   ]
  },
  {
   "cell_type": "code",
   "execution_count": 90,
   "id": "997ea048",
   "metadata": {},
   "outputs": [
    {
     "data": {
      "text/html": [
       "<div>\n",
       "<style scoped>\n",
       "    .dataframe tbody tr th:only-of-type {\n",
       "        vertical-align: middle;\n",
       "    }\n",
       "\n",
       "    .dataframe tbody tr th {\n",
       "        vertical-align: top;\n",
       "    }\n",
       "\n",
       "    .dataframe thead th {\n",
       "        text-align: right;\n",
       "    }\n",
       "</style>\n",
       "<table border=\"1\" class=\"dataframe\">\n",
       "  <thead>\n",
       "    <tr style=\"text-align: right;\">\n",
       "      <th></th>\n",
       "      <th>Palabra</th>\n",
       "      <th>Frecuencia</th>\n",
       "    </tr>\n",
       "  </thead>\n",
       "  <tbody>\n",
       "    <tr>\n",
       "      <th>189</th>\n",
       "      <td>los</td>\n",
       "      <td>57</td>\n",
       "    </tr>\n",
       "    <tr>\n",
       "      <th>167</th>\n",
       "      <td>las</td>\n",
       "      <td>45</td>\n",
       "    </tr>\n",
       "    <tr>\n",
       "      <th>97</th>\n",
       "      <td>el</td>\n",
       "      <td>21</td>\n",
       "    </tr>\n",
       "    <tr>\n",
       "      <th>163</th>\n",
       "      <td>la</td>\n",
       "      <td>20</td>\n",
       "    </tr>\n",
       "    <tr>\n",
       "      <th>319</th>\n",
       "      <td>se</td>\n",
       "      <td>16</td>\n",
       "    </tr>\n",
       "    <tr>\n",
       "      <th>...</th>\n",
       "      <td>...</td>\n",
       "      <td>...</td>\n",
       "    </tr>\n",
       "    <tr>\n",
       "      <th>141</th>\n",
       "      <td>habitantes</td>\n",
       "      <td>1</td>\n",
       "    </tr>\n",
       "    <tr>\n",
       "      <th>140</th>\n",
       "      <td>gustaba</td>\n",
       "      <td>1</td>\n",
       "    </tr>\n",
       "    <tr>\n",
       "      <th>139</th>\n",
       "      <td>guantes</td>\n",
       "      <td>1</td>\n",
       "    </tr>\n",
       "    <tr>\n",
       "      <th>138</th>\n",
       "      <td>gritaban</td>\n",
       "      <td>1</td>\n",
       "    </tr>\n",
       "    <tr>\n",
       "      <th>378</th>\n",
       "      <td>zumbido</td>\n",
       "      <td>1</td>\n",
       "    </tr>\n",
       "  </tbody>\n",
       "</table>\n",
       "<p>379 rows × 2 columns</p>\n",
       "</div>"
      ],
      "text/plain": [
       "        Palabra  Frecuencia\n",
       "189         los          57\n",
       "167         las          45\n",
       "97           el          21\n",
       "163          la          20\n",
       "319          se          16\n",
       "..          ...         ...\n",
       "141  habitantes           1\n",
       "140     gustaba           1\n",
       "139     guantes           1\n",
       "138    gritaban           1\n",
       "378     zumbido           1\n",
       "\n",
       "[379 rows x 2 columns]"
      ]
     },
     "execution_count": 90,
     "metadata": {},
     "output_type": "execute_result"
    }
   ],
   "source": [
    "vocabfreq = pandas.DataFrame({\n",
    "    \"Palabra\": vocab,\n",
    "    \"Frecuencia\": freq\n",
    "}).sort_values(\"Frecuencia\", ascending=False)\n",
    "\n",
    "vocabfreq.to_csv(\"vocab.csv\", index_label=\"Orden\")\n",
    "\n",
    "vocabfreq"
   ]
  },
  {
   "cell_type": "markdown",
   "id": "d0d31256",
   "metadata": {},
   "source": [
    "# Fase 3 - Codificación y Embebido (Encoding and Embedding)"
   ]
  },
  {
   "cell_type": "markdown",
   "id": "fd5f5fde",
   "metadata": {},
   "source": [
    "> Texto objetivo: \"en la ciudad de lumnina los habitantes usan guantes\""
   ]
  },
  {
   "cell_type": "code",
   "execution_count": 96,
   "id": "7378a73d",
   "metadata": {},
   "outputs": [],
   "source": [
    "import unicodedata\n",
    "\n",
    "def quitar_acentos(texto):\n",
    "    return ''.join(letra for letra in unicodedata.normalize('NFD', texto) if unicodedata.category(letra) != 'Mn')\n",
    "\n",
    "def texto_vector(texto):\n",
    "    vector_palabras = pandas.Series(texto.strip().split(\" \")) \\\n",
    "        .str.lower().replace(r\"[\\s,.¿?¡!]\", \"\", regex=True) \\\n",
    "        .apply(quitar_acentos)\n",
    "    return vector_palabras"
   ]
  },
  {
   "cell_type": "code",
   "execution_count": 98,
   "id": "3338d994",
   "metadata": {},
   "outputs": [
    {
     "data": {
      "text/plain": [
       "0            en\n",
       "1            la\n",
       "2        ciudad\n",
       "3            de\n",
       "4       lumnina\n",
       "5           los\n",
       "6    habitantes\n",
       "7          usan\n",
       "8       guantes\n",
       "dtype: object"
      ]
     },
     "execution_count": 98,
     "metadata": {},
     "output_type": "execute_result"
    }
   ],
   "source": [
    "frase = \"En la ciudad de lumnina los habitantes usan guantes\"\n",
    "frase_vector = texto_vector(frase)\n",
    "\n",
    "frase_vector"
   ]
  },
  {
   "cell_type": "markdown",
   "id": "b3558da1",
   "metadata": {},
   "source": [
    "> Matriz de embeddings de $M \\times N$\n",
    "\n",
    "* $N$ - Número de palabras (8 en este caso)\n",
    "* $M$ - dimensión del vector embedding ($512$ en el artículo y $5$ en el ejemplo)\n",
    "\n",
    "Se usará $M = 5$ siguiendo el ejemplo de [Understanding Transformers: A Step-by-Step Math Example — Part 1](https://medium.com/@fareedkhandev/understanding-transformers-a-step-by-step-math-example-part-1-a7809015150a)"
   ]
  },
  {
   "cell_type": "code",
   "execution_count": 127,
   "id": "68cf29d9",
   "metadata": {},
   "outputs": [
    {
     "data": {
      "text/plain": [
       "array([[0.99993712, 0.33990176, 0.63646631, 0.23705346, 0.69884347,\n",
       "        0.17757604, 0.72333782, 0.50998004, 0.26629749],\n",
       "       [0.14557939, 0.27495328, 0.57601358, 0.64745731, 0.71384775,\n",
       "        0.24034792, 0.81133402, 0.82440596, 0.95483492],\n",
       "       [0.38743764, 0.61026074, 0.06585048, 0.15216263, 0.45106603,\n",
       "        0.01705294, 0.1280586 , 0.08440809, 0.59505304],\n",
       "       [0.46373458, 0.29317538, 0.6629129 , 0.87459754, 0.418969  ,\n",
       "        0.7078983 , 0.28290682, 0.55934705, 0.3446044 ],\n",
       "       [0.36890666, 0.16429535, 0.22981544, 0.91447862, 0.24013142,\n",
       "        0.56689215, 0.25169752, 0.52240433, 0.62179466]])"
      ]
     },
     "execution_count": 127,
     "metadata": {},
     "output_type": "execute_result"
    }
   ],
   "source": [
    "N = frase_vector.size\n",
    "M = 5\n",
    "\n",
    "embeddings = numpy.random.random((M, N))\n",
    "\n",
    "embeddings"
   ]
  },
  {
   "cell_type": "markdown",
   "id": "ae5d42ad",
   "metadata": {},
   "source": [
    "# Fase 4 - Embebido posicional (Positional Embedding)"
   ]
  },
  {
   "cell_type": "markdown",
   "id": "cafe27c1",
   "metadata": {},
   "source": [
    "$$\n",
    "PE(Odd) = sin\\left(\\frac{pos}{10,000^{\\frac{2i}{dim}}}\\right)\n",
    "$$\n",
    "\n",
    "$$\n",
    "PE(Even) = cos\\left(\\frac{pos}{10,000^{\\frac{2i}{dim}}}\\right)\n",
    "$$"
   ]
  },
  {
   "cell_type": "code",
   "execution_count": 135,
   "id": "288f9ab8",
   "metadata": {},
   "outputs": [
    {
     "data": {
      "text/html": [
       "<div>\n",
       "<style scoped>\n",
       "    .dataframe tbody tr th:only-of-type {\n",
       "        vertical-align: middle;\n",
       "    }\n",
       "\n",
       "    .dataframe tbody tr th {\n",
       "        vertical-align: top;\n",
       "    }\n",
       "\n",
       "    .dataframe thead th {\n",
       "        text-align: right;\n",
       "    }\n",
       "</style>\n",
       "<table border=\"1\" class=\"dataframe\">\n",
       "  <thead>\n",
       "    <tr style=\"text-align: right;\">\n",
       "      <th></th>\n",
       "      <th>e1</th>\n",
       "      <th>p1</th>\n",
       "    </tr>\n",
       "  </thead>\n",
       "  <tbody>\n",
       "    <tr>\n",
       "      <th>0</th>\n",
       "      <td>0.999937</td>\n",
       "      <td>1.0</td>\n",
       "    </tr>\n",
       "    <tr>\n",
       "      <th>1</th>\n",
       "      <td>0.145579</td>\n",
       "      <td>0.0</td>\n",
       "    </tr>\n",
       "    <tr>\n",
       "      <th>2</th>\n",
       "      <td>0.387438</td>\n",
       "      <td>1.0</td>\n",
       "    </tr>\n",
       "    <tr>\n",
       "      <th>3</th>\n",
       "      <td>0.463735</td>\n",
       "      <td>0.0</td>\n",
       "    </tr>\n",
       "    <tr>\n",
       "      <th>4</th>\n",
       "      <td>0.368907</td>\n",
       "      <td>1.0</td>\n",
       "    </tr>\n",
       "  </tbody>\n",
       "</table>\n",
       "</div>"
      ],
      "text/plain": [
       "         e1   p1\n",
       "0  0.999937  1.0\n",
       "1  0.145579  0.0\n",
       "2  0.387438  1.0\n",
       "3  0.463735  0.0\n",
       "4  0.368907  1.0"
      ]
     },
     "execution_count": 135,
     "metadata": {},
     "output_type": "execute_result"
    }
   ],
   "source": [
    "pos = 0\n",
    "dim = M\n",
    "\n",
    "def pe_odd(i):\n",
    "    return numpy.sin(pos/(10_000 ** ((2 * i)/dim)))\n",
    "\n",
    "def pe_even(i):\n",
    "    return numpy.cos(pos/(10_000 ** ((2 * i)/dim)))\n",
    "\n",
    "e1 = embeddings[:, 0]\n",
    "\n",
    "index = pandas.Series(range(M))\n",
    "\n",
    "e1_odd = index.map(pe_odd)\n",
    "e1_even = index.map(pe_even)\n",
    "\n",
    "p1 = e1_odd * (index % 2 == 1) + e1_even * (index % 2 == 0)\n",
    "\n",
    "pandas.DataFrame({\n",
    "    \"e1\": e1,\n",
    "    # \"pe_odd\": e1_odd,\n",
    "    # \"pe_even\": e1_even,\n",
    "    \"p1\": p1,\n",
    "})"
   ]
  },
  {
   "cell_type": "code",
   "execution_count": 140,
   "id": "966dea32",
   "metadata": {},
   "outputs": [
    {
     "data": {
      "text/plain": [
       "array([[ 1.  ,  0.54, -0.42, -0.99, -0.65,  0.28,  0.96,  0.75, -0.15],\n",
       "       [ 0.  ,  0.03,  0.05,  0.08,  0.1 ,  0.13,  0.15,  0.17,  0.2 ],\n",
       "       [ 1.  ,  1.  ,  1.  ,  1.  ,  1.  ,  1.  ,  1.  ,  1.  ,  1.  ],\n",
       "       [ 0.  ,  0.  ,  0.  ,  0.  ,  0.  ,  0.  ,  0.  ,  0.  ,  0.  ],\n",
       "       [ 1.  ,  1.  ,  1.  ,  1.  ,  1.  ,  1.  ,  1.  ,  1.  ,  1.  ]])"
      ]
     },
     "execution_count": 140,
     "metadata": {},
     "output_type": "execute_result"
    }
   ],
   "source": [
    "def pe_odd(i):\n",
    "    return numpy.sin(pos/(10_000 ** ((2 * i)/dim)))\n",
    "\n",
    "def pe_even(i):\n",
    "    return numpy.cos(pos/(10_000 ** ((2 * i)/dim)))\n",
    "\n",
    "dim = M\n",
    "\n",
    "positions = numpy.zeros_like(embeddings)\n",
    "\n",
    "for pos in range(N):\n",
    "    ej = embeddings[:, 0]\n",
    "\n",
    "    index = pandas.Series(range(M))\n",
    "\n",
    "    ej_odd = index.map(pe_odd)\n",
    "    ej_even = index.map(pe_even)\n",
    "\n",
    "    pj = ej_odd * (index % 2 == 1) + ej_even * (index % 2 == 0)\n",
    "\n",
    "    positions[:, pos] = pj\n",
    "\n",
    "positions.round(2)"
   ]
  },
  {
   "cell_type": "markdown",
   "id": "a07441f6",
   "metadata": {},
   "source": [
    "> Ahora se tiene la matriz de *embeddings* y la matriz de *positions*\n",
    "\n",
    "* **embeddings** - Matriz inicialmente aleatoria (de 0 a 1) de $M x N$ donde $N$ es el número de palabras de la entrada y $M$ el número de dimensión de los vectores embebidos.\n",
    "* **positions** - Son los cálculos dados por el *positional embedding* para elementos pares e impares del *embedding* dado en la posición *pos*."
   ]
  },
  {
   "cell_type": "code",
   "execution_count": 145,
   "id": "43e020e4",
   "metadata": {},
   "outputs": [
    {
     "data": {
      "text/html": [
       "<div>\n",
       "<style scoped>\n",
       "    .dataframe tbody tr th:only-of-type {\n",
       "        vertical-align: middle;\n",
       "    }\n",
       "\n",
       "    .dataframe tbody tr th {\n",
       "        vertical-align: top;\n",
       "    }\n",
       "\n",
       "    .dataframe thead th {\n",
       "        text-align: right;\n",
       "    }\n",
       "</style>\n",
       "<table border=\"1\" class=\"dataframe\">\n",
       "  <thead>\n",
       "    <tr style=\"text-align: right;\">\n",
       "      <th></th>\n",
       "      <th>e1</th>\n",
       "      <th>e2</th>\n",
       "      <th>e3</th>\n",
       "      <th>e4</th>\n",
       "      <th>e5</th>\n",
       "      <th>e6</th>\n",
       "      <th>e7</th>\n",
       "      <th>e8</th>\n",
       "      <th>e9</th>\n",
       "    </tr>\n",
       "  </thead>\n",
       "  <tbody>\n",
       "    <tr>\n",
       "      <th>0</th>\n",
       "      <td>0.999937</td>\n",
       "      <td>0.339902</td>\n",
       "      <td>0.636466</td>\n",
       "      <td>0.237053</td>\n",
       "      <td>0.698843</td>\n",
       "      <td>0.177576</td>\n",
       "      <td>0.723338</td>\n",
       "      <td>0.509980</td>\n",
       "      <td>0.266297</td>\n",
       "    </tr>\n",
       "    <tr>\n",
       "      <th>1</th>\n",
       "      <td>0.145579</td>\n",
       "      <td>0.274953</td>\n",
       "      <td>0.576014</td>\n",
       "      <td>0.647457</td>\n",
       "      <td>0.713848</td>\n",
       "      <td>0.240348</td>\n",
       "      <td>0.811334</td>\n",
       "      <td>0.824406</td>\n",
       "      <td>0.954835</td>\n",
       "    </tr>\n",
       "    <tr>\n",
       "      <th>2</th>\n",
       "      <td>0.387438</td>\n",
       "      <td>0.610261</td>\n",
       "      <td>0.065850</td>\n",
       "      <td>0.152163</td>\n",
       "      <td>0.451066</td>\n",
       "      <td>0.017053</td>\n",
       "      <td>0.128059</td>\n",
       "      <td>0.084408</td>\n",
       "      <td>0.595053</td>\n",
       "    </tr>\n",
       "    <tr>\n",
       "      <th>3</th>\n",
       "      <td>0.463735</td>\n",
       "      <td>0.293175</td>\n",
       "      <td>0.662913</td>\n",
       "      <td>0.874598</td>\n",
       "      <td>0.418969</td>\n",
       "      <td>0.707898</td>\n",
       "      <td>0.282907</td>\n",
       "      <td>0.559347</td>\n",
       "      <td>0.344604</td>\n",
       "    </tr>\n",
       "    <tr>\n",
       "      <th>4</th>\n",
       "      <td>0.368907</td>\n",
       "      <td>0.164295</td>\n",
       "      <td>0.229815</td>\n",
       "      <td>0.914479</td>\n",
       "      <td>0.240131</td>\n",
       "      <td>0.566892</td>\n",
       "      <td>0.251698</td>\n",
       "      <td>0.522404</td>\n",
       "      <td>0.621795</td>\n",
       "    </tr>\n",
       "  </tbody>\n",
       "</table>\n",
       "</div>"
      ],
      "text/plain": [
       "         e1        e2        e3        e4        e5        e6        e7  \\\n",
       "0  0.999937  0.339902  0.636466  0.237053  0.698843  0.177576  0.723338   \n",
       "1  0.145579  0.274953  0.576014  0.647457  0.713848  0.240348  0.811334   \n",
       "2  0.387438  0.610261  0.065850  0.152163  0.451066  0.017053  0.128059   \n",
       "3  0.463735  0.293175  0.662913  0.874598  0.418969  0.707898  0.282907   \n",
       "4  0.368907  0.164295  0.229815  0.914479  0.240131  0.566892  0.251698   \n",
       "\n",
       "         e8        e9  \n",
       "0  0.509980  0.266297  \n",
       "1  0.824406  0.954835  \n",
       "2  0.084408  0.595053  \n",
       "3  0.559347  0.344604  \n",
       "4  0.522404  0.621795  "
      ]
     },
     "execution_count": 145,
     "metadata": {},
     "output_type": "execute_result"
    }
   ],
   "source": [
    "pandas.DataFrame(embeddings, columns=[f\"e{j + 1}\" for j in range(N)])"
   ]
  },
  {
   "cell_type": "code",
   "execution_count": 146,
   "id": "cb3ae392",
   "metadata": {},
   "outputs": [
    {
     "data": {
      "text/html": [
       "<div>\n",
       "<style scoped>\n",
       "    .dataframe tbody tr th:only-of-type {\n",
       "        vertical-align: middle;\n",
       "    }\n",
       "\n",
       "    .dataframe tbody tr th {\n",
       "        vertical-align: top;\n",
       "    }\n",
       "\n",
       "    .dataframe thead th {\n",
       "        text-align: right;\n",
       "    }\n",
       "</style>\n",
       "<table border=\"1\" class=\"dataframe\">\n",
       "  <thead>\n",
       "    <tr style=\"text-align: right;\">\n",
       "      <th></th>\n",
       "      <th>p1</th>\n",
       "      <th>p2</th>\n",
       "      <th>p3</th>\n",
       "      <th>p4</th>\n",
       "      <th>p5</th>\n",
       "      <th>p6</th>\n",
       "      <th>p7</th>\n",
       "      <th>p8</th>\n",
       "      <th>p9</th>\n",
       "    </tr>\n",
       "  </thead>\n",
       "  <tbody>\n",
       "    <tr>\n",
       "      <th>0</th>\n",
       "      <td>1.0</td>\n",
       "      <td>0.540302</td>\n",
       "      <td>-0.416147</td>\n",
       "      <td>-0.989992</td>\n",
       "      <td>-0.653644</td>\n",
       "      <td>0.283662</td>\n",
       "      <td>0.960170</td>\n",
       "      <td>0.753902</td>\n",
       "      <td>-0.145500</td>\n",
       "    </tr>\n",
       "    <tr>\n",
       "      <th>1</th>\n",
       "      <td>0.0</td>\n",
       "      <td>0.025116</td>\n",
       "      <td>0.050217</td>\n",
       "      <td>0.075285</td>\n",
       "      <td>0.100306</td>\n",
       "      <td>0.125264</td>\n",
       "      <td>0.150143</td>\n",
       "      <td>0.174927</td>\n",
       "      <td>0.199601</td>\n",
       "    </tr>\n",
       "    <tr>\n",
       "      <th>2</th>\n",
       "      <td>1.0</td>\n",
       "      <td>1.000000</td>\n",
       "      <td>0.999999</td>\n",
       "      <td>0.999998</td>\n",
       "      <td>0.999997</td>\n",
       "      <td>0.999995</td>\n",
       "      <td>0.999993</td>\n",
       "      <td>0.999990</td>\n",
       "      <td>0.999987</td>\n",
       "    </tr>\n",
       "    <tr>\n",
       "      <th>3</th>\n",
       "      <td>0.0</td>\n",
       "      <td>0.000016</td>\n",
       "      <td>0.000032</td>\n",
       "      <td>0.000048</td>\n",
       "      <td>0.000063</td>\n",
       "      <td>0.000079</td>\n",
       "      <td>0.000095</td>\n",
       "      <td>0.000111</td>\n",
       "      <td>0.000127</td>\n",
       "    </tr>\n",
       "    <tr>\n",
       "      <th>4</th>\n",
       "      <td>1.0</td>\n",
       "      <td>1.000000</td>\n",
       "      <td>1.000000</td>\n",
       "      <td>1.000000</td>\n",
       "      <td>1.000000</td>\n",
       "      <td>1.000000</td>\n",
       "      <td>1.000000</td>\n",
       "      <td>1.000000</td>\n",
       "      <td>1.000000</td>\n",
       "    </tr>\n",
       "  </tbody>\n",
       "</table>\n",
       "</div>"
      ],
      "text/plain": [
       "    p1        p2        p3        p4        p5        p6        p7        p8  \\\n",
       "0  1.0  0.540302 -0.416147 -0.989992 -0.653644  0.283662  0.960170  0.753902   \n",
       "1  0.0  0.025116  0.050217  0.075285  0.100306  0.125264  0.150143  0.174927   \n",
       "2  1.0  1.000000  0.999999  0.999998  0.999997  0.999995  0.999993  0.999990   \n",
       "3  0.0  0.000016  0.000032  0.000048  0.000063  0.000079  0.000095  0.000111   \n",
       "4  1.0  1.000000  1.000000  1.000000  1.000000  1.000000  1.000000  1.000000   \n",
       "\n",
       "         p9  \n",
       "0 -0.145500  \n",
       "1  0.199601  \n",
       "2  0.999987  \n",
       "3  0.000127  \n",
       "4  1.000000  "
      ]
     },
     "execution_count": 146,
     "metadata": {},
     "output_type": "execute_result"
    }
   ],
   "source": [
    "pandas.DataFrame(positions, columns=[f\"p{j + 1}\" for j in range(N)])"
   ]
  },
  {
   "cell_type": "markdown",
   "id": "e8ea74de",
   "metadata": {},
   "source": [
    "> Se calcula la suma del **Input Embedding** más el **Position Encoding** ($e_j + p_j$)"
   ]
  },
  {
   "cell_type": "code",
   "execution_count": 147,
   "id": "fd258979",
   "metadata": {},
   "outputs": [
    {
     "data": {
      "text/html": [
       "<div>\n",
       "<style scoped>\n",
       "    .dataframe tbody tr th:only-of-type {\n",
       "        vertical-align: middle;\n",
       "    }\n",
       "\n",
       "    .dataframe tbody tr th {\n",
       "        vertical-align: top;\n",
       "    }\n",
       "\n",
       "    .dataframe thead th {\n",
       "        text-align: right;\n",
       "    }\n",
       "</style>\n",
       "<table border=\"1\" class=\"dataframe\">\n",
       "  <thead>\n",
       "    <tr style=\"text-align: right;\">\n",
       "      <th></th>\n",
       "      <th>ep1</th>\n",
       "      <th>ep2</th>\n",
       "      <th>ep3</th>\n",
       "      <th>ep4</th>\n",
       "      <th>ep5</th>\n",
       "      <th>ep6</th>\n",
       "      <th>ep7</th>\n",
       "      <th>ep8</th>\n",
       "      <th>ep9</th>\n",
       "    </tr>\n",
       "  </thead>\n",
       "  <tbody>\n",
       "    <tr>\n",
       "      <th>0</th>\n",
       "      <td>1.999937</td>\n",
       "      <td>0.880204</td>\n",
       "      <td>0.220319</td>\n",
       "      <td>-0.752939</td>\n",
       "      <td>0.045200</td>\n",
       "      <td>0.461238</td>\n",
       "      <td>1.683508</td>\n",
       "      <td>1.263882</td>\n",
       "      <td>0.120797</td>\n",
       "    </tr>\n",
       "    <tr>\n",
       "      <th>1</th>\n",
       "      <td>0.145579</td>\n",
       "      <td>0.300070</td>\n",
       "      <td>0.626230</td>\n",
       "      <td>0.722743</td>\n",
       "      <td>0.814154</td>\n",
       "      <td>0.365612</td>\n",
       "      <td>0.961477</td>\n",
       "      <td>0.999333</td>\n",
       "      <td>1.154436</td>\n",
       "    </tr>\n",
       "    <tr>\n",
       "      <th>2</th>\n",
       "      <td>1.387438</td>\n",
       "      <td>1.610261</td>\n",
       "      <td>1.065850</td>\n",
       "      <td>1.152161</td>\n",
       "      <td>1.451063</td>\n",
       "      <td>1.017048</td>\n",
       "      <td>1.128051</td>\n",
       "      <td>1.084398</td>\n",
       "      <td>1.595040</td>\n",
       "    </tr>\n",
       "    <tr>\n",
       "      <th>3</th>\n",
       "      <td>0.463735</td>\n",
       "      <td>0.293191</td>\n",
       "      <td>0.662945</td>\n",
       "      <td>0.874645</td>\n",
       "      <td>0.419032</td>\n",
       "      <td>0.707978</td>\n",
       "      <td>0.283002</td>\n",
       "      <td>0.559458</td>\n",
       "      <td>0.344731</td>\n",
       "    </tr>\n",
       "    <tr>\n",
       "      <th>4</th>\n",
       "      <td>1.368907</td>\n",
       "      <td>1.164295</td>\n",
       "      <td>1.229815</td>\n",
       "      <td>1.914479</td>\n",
       "      <td>1.240131</td>\n",
       "      <td>1.566892</td>\n",
       "      <td>1.251698</td>\n",
       "      <td>1.522404</td>\n",
       "      <td>1.621795</td>\n",
       "    </tr>\n",
       "  </tbody>\n",
       "</table>\n",
       "</div>"
      ],
      "text/plain": [
       "        ep1       ep2       ep3       ep4       ep5       ep6       ep7  \\\n",
       "0  1.999937  0.880204  0.220319 -0.752939  0.045200  0.461238  1.683508   \n",
       "1  0.145579  0.300070  0.626230  0.722743  0.814154  0.365612  0.961477   \n",
       "2  1.387438  1.610261  1.065850  1.152161  1.451063  1.017048  1.128051   \n",
       "3  0.463735  0.293191  0.662945  0.874645  0.419032  0.707978  0.283002   \n",
       "4  1.368907  1.164295  1.229815  1.914479  1.240131  1.566892  1.251698   \n",
       "\n",
       "        ep8       ep9  \n",
       "0  1.263882  0.120797  \n",
       "1  0.999333  1.154436  \n",
       "2  1.084398  1.595040  \n",
       "3  0.559458  0.344731  \n",
       "4  1.522404  1.621795  "
      ]
     },
     "execution_count": 147,
     "metadata": {},
     "output_type": "execute_result"
    }
   ],
   "source": [
    "embedding_positions = embeddings + positions\n",
    "\n",
    "pandas.DataFrame(embedding_positions, columns=[f\"ep{j + 1}\" for j in range(N)])"
   ]
  },
  {
   "cell_type": "markdown",
   "id": "84e2dde7",
   "metadata": {},
   "source": [
    "![fig404](figuras/fig404.png)"
   ]
  }
 ],
 "metadata": {
  "kernelspec": {
   "display_name": "Python 3",
   "language": "python",
   "name": "python3"
  },
  "language_info": {
   "codemirror_mode": {
    "name": "ipython",
    "version": 3
   },
   "file_extension": ".py",
   "mimetype": "text/x-python",
   "name": "python",
   "nbconvert_exporter": "python",
   "pygments_lexer": "ipython3",
   "version": "3.12.4"
  }
 },
 "nbformat": 4,
 "nbformat_minor": 5
}
